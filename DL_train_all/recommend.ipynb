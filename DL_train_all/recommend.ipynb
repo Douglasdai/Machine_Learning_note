{
 "cells": [
  {
   "cell_type": "code",
   "execution_count": 40,
   "metadata": {},
   "outputs": [],
   "source": [
    "import numpy as np\n",
    "import pandas as pd \n",
    "import torch \n",
    "import torch.nn as nn\n",
    "import torch.nn.functional as F\n",
    "import os"
   ]
  },
  {
   "cell_type": "code",
   "execution_count": 41,
   "metadata": {},
   "outputs": [
    {
     "data": {
      "text/html": [
       "<div>\n",
       "<style scoped>\n",
       "    .dataframe tbody tr th:only-of-type {\n",
       "        vertical-align: middle;\n",
       "    }\n",
       "\n",
       "    .dataframe tbody tr th {\n",
       "        vertical-align: top;\n",
       "    }\n",
       "\n",
       "    .dataframe thead th {\n",
       "        text-align: right;\n",
       "    }\n",
       "</style>\n",
       "<table border=\"1\" class=\"dataframe\">\n",
       "  <thead>\n",
       "    <tr style=\"text-align: right;\">\n",
       "      <th></th>\n",
       "      <th>user id</th>\n",
       "      <th>movie id</th>\n",
       "      <th>rating</th>\n",
       "      <th>timestamp</th>\n",
       "    </tr>\n",
       "  </thead>\n",
       "  <tbody>\n",
       "    <tr>\n",
       "      <th>0</th>\n",
       "      <td>196</td>\n",
       "      <td>242</td>\n",
       "      <td>3</td>\n",
       "      <td>881250949</td>\n",
       "    </tr>\n",
       "    <tr>\n",
       "      <th>1</th>\n",
       "      <td>186</td>\n",
       "      <td>302</td>\n",
       "      <td>3</td>\n",
       "      <td>891717742</td>\n",
       "    </tr>\n",
       "    <tr>\n",
       "      <th>2</th>\n",
       "      <td>22</td>\n",
       "      <td>377</td>\n",
       "      <td>1</td>\n",
       "      <td>878887116</td>\n",
       "    </tr>\n",
       "    <tr>\n",
       "      <th>3</th>\n",
       "      <td>244</td>\n",
       "      <td>51</td>\n",
       "      <td>2</td>\n",
       "      <td>880606923</td>\n",
       "    </tr>\n",
       "    <tr>\n",
       "      <th>4</th>\n",
       "      <td>166</td>\n",
       "      <td>346</td>\n",
       "      <td>1</td>\n",
       "      <td>886397596</td>\n",
       "    </tr>\n",
       "  </tbody>\n",
       "</table>\n",
       "</div>"
      ],
      "text/plain": [
       "   user id  movie id  rating  timestamp\n",
       "0      196       242       3  881250949\n",
       "1      186       302       3  891717742\n",
       "2       22       377       1  878887116\n",
       "3      244        51       2  880606923\n",
       "4      166       346       1  886397596"
      ]
     },
     "execution_count": 41,
     "metadata": {},
     "output_type": "execute_result"
    }
   ],
   "source": [
    "#load data\n",
    "path ='D:\\ML_data_sql\\ml-100k'\n",
    "column = ['user id','movie id','rating','timestamp']\n",
    "data = pd.read_csv(os.path.join(path,'u.data'),delimiter='\\t',header=None,names=column)\n",
    "data.head()"
   ]
  },
  {
   "cell_type": "code",
   "execution_count": 42,
   "metadata": {},
   "outputs": [
    {
     "data": {
      "text/html": [
       "<div>\n",
       "<style scoped>\n",
       "    .dataframe tbody tr th:only-of-type {\n",
       "        vertical-align: middle;\n",
       "    }\n",
       "\n",
       "    .dataframe tbody tr th {\n",
       "        vertical-align: top;\n",
       "    }\n",
       "\n",
       "    .dataframe thead th {\n",
       "        text-align: right;\n",
       "    }\n",
       "</style>\n",
       "<table border=\"1\" class=\"dataframe\">\n",
       "  <thead>\n",
       "    <tr style=\"text-align: right;\">\n",
       "      <th></th>\n",
       "      <th>user id</th>\n",
       "      <th>age</th>\n",
       "      <th>gender</th>\n",
       "      <th>occupation</th>\n",
       "      <th>zip code</th>\n",
       "    </tr>\n",
       "  </thead>\n",
       "  <tbody>\n",
       "    <tr>\n",
       "      <th>0</th>\n",
       "      <td>1</td>\n",
       "      <td>24</td>\n",
       "      <td>M</td>\n",
       "      <td>technician</td>\n",
       "      <td>85711</td>\n",
       "    </tr>\n",
       "    <tr>\n",
       "      <th>1</th>\n",
       "      <td>2</td>\n",
       "      <td>53</td>\n",
       "      <td>F</td>\n",
       "      <td>other</td>\n",
       "      <td>94043</td>\n",
       "    </tr>\n",
       "    <tr>\n",
       "      <th>2</th>\n",
       "      <td>3</td>\n",
       "      <td>23</td>\n",
       "      <td>M</td>\n",
       "      <td>writer</td>\n",
       "      <td>32067</td>\n",
       "    </tr>\n",
       "    <tr>\n",
       "      <th>3</th>\n",
       "      <td>4</td>\n",
       "      <td>24</td>\n",
       "      <td>M</td>\n",
       "      <td>technician</td>\n",
       "      <td>43537</td>\n",
       "    </tr>\n",
       "    <tr>\n",
       "      <th>4</th>\n",
       "      <td>5</td>\n",
       "      <td>33</td>\n",
       "      <td>F</td>\n",
       "      <td>other</td>\n",
       "      <td>15213</td>\n",
       "    </tr>\n",
       "  </tbody>\n",
       "</table>\n",
       "</div>"
      ],
      "text/plain": [
       "   user id  age gender  occupation zip code\n",
       "0        1   24      M  technician    85711\n",
       "1        2   53      F       other    94043\n",
       "2        3   23      M      writer    32067\n",
       "3        4   24      M  technician    43537\n",
       "4        5   33      F       other    15213"
      ]
     },
     "execution_count": 42,
     "metadata": {},
     "output_type": "execute_result"
    }
   ],
   "source": [
    "#load user data\n",
    "users = pd.read_csv(os.path.join(path,'u.user'), \n",
    "                    sep=\"|\", encoding='latin-1', header=None)\n",
    "users.columns = ['user id', 'age', 'gender', 'occupation', 'zip code']\n",
    "users.head()"
   ]
  },
  {
   "cell_type": "code",
   "execution_count": 43,
   "metadata": {},
   "outputs": [
    {
     "data": {
      "text/html": [
       "<div>\n",
       "<style scoped>\n",
       "    .dataframe tbody tr th:only-of-type {\n",
       "        vertical-align: middle;\n",
       "    }\n",
       "\n",
       "    .dataframe tbody tr th {\n",
       "        vertical-align: top;\n",
       "    }\n",
       "\n",
       "    .dataframe thead th {\n",
       "        text-align: right;\n",
       "    }\n",
       "</style>\n",
       "<table border=\"1\" class=\"dataframe\">\n",
       "  <thead>\n",
       "    <tr style=\"text-align: right;\">\n",
       "      <th></th>\n",
       "      <th>movie id</th>\n",
       "      <th>movie title</th>\n",
       "      <th>release date</th>\n",
       "      <th>video release date</th>\n",
       "      <th>IMDb URL</th>\n",
       "      <th>unknown</th>\n",
       "      <th>Action</th>\n",
       "      <th>Adventure</th>\n",
       "      <th>Animation</th>\n",
       "      <th>Children's</th>\n",
       "      <th>...</th>\n",
       "      <th>Fantasy</th>\n",
       "      <th>Film-Noir</th>\n",
       "      <th>Horror</th>\n",
       "      <th>Musical</th>\n",
       "      <th>Mystery</th>\n",
       "      <th>Romance</th>\n",
       "      <th>Sci-Fi</th>\n",
       "      <th>Thriller</th>\n",
       "      <th>War</th>\n",
       "      <th>Western</th>\n",
       "    </tr>\n",
       "  </thead>\n",
       "  <tbody>\n",
       "    <tr>\n",
       "      <th>0</th>\n",
       "      <td>1</td>\n",
       "      <td>Toy Story (1995)</td>\n",
       "      <td>01-Jan-1995</td>\n",
       "      <td>NaN</td>\n",
       "      <td>http://us.imdb.com/M/title-exact?Toy%20Story%2...</td>\n",
       "      <td>0</td>\n",
       "      <td>0</td>\n",
       "      <td>0</td>\n",
       "      <td>1</td>\n",
       "      <td>1</td>\n",
       "      <td>...</td>\n",
       "      <td>0</td>\n",
       "      <td>0</td>\n",
       "      <td>0</td>\n",
       "      <td>0</td>\n",
       "      <td>0</td>\n",
       "      <td>0</td>\n",
       "      <td>0</td>\n",
       "      <td>0</td>\n",
       "      <td>0</td>\n",
       "      <td>0</td>\n",
       "    </tr>\n",
       "    <tr>\n",
       "      <th>1</th>\n",
       "      <td>2</td>\n",
       "      <td>GoldenEye (1995)</td>\n",
       "      <td>01-Jan-1995</td>\n",
       "      <td>NaN</td>\n",
       "      <td>http://us.imdb.com/M/title-exact?GoldenEye%20(...</td>\n",
       "      <td>0</td>\n",
       "      <td>1</td>\n",
       "      <td>1</td>\n",
       "      <td>0</td>\n",
       "      <td>0</td>\n",
       "      <td>...</td>\n",
       "      <td>0</td>\n",
       "      <td>0</td>\n",
       "      <td>0</td>\n",
       "      <td>0</td>\n",
       "      <td>0</td>\n",
       "      <td>0</td>\n",
       "      <td>0</td>\n",
       "      <td>1</td>\n",
       "      <td>0</td>\n",
       "      <td>0</td>\n",
       "    </tr>\n",
       "    <tr>\n",
       "      <th>2</th>\n",
       "      <td>3</td>\n",
       "      <td>Four Rooms (1995)</td>\n",
       "      <td>01-Jan-1995</td>\n",
       "      <td>NaN</td>\n",
       "      <td>http://us.imdb.com/M/title-exact?Four%20Rooms%...</td>\n",
       "      <td>0</td>\n",
       "      <td>0</td>\n",
       "      <td>0</td>\n",
       "      <td>0</td>\n",
       "      <td>0</td>\n",
       "      <td>...</td>\n",
       "      <td>0</td>\n",
       "      <td>0</td>\n",
       "      <td>0</td>\n",
       "      <td>0</td>\n",
       "      <td>0</td>\n",
       "      <td>0</td>\n",
       "      <td>0</td>\n",
       "      <td>1</td>\n",
       "      <td>0</td>\n",
       "      <td>0</td>\n",
       "    </tr>\n",
       "    <tr>\n",
       "      <th>3</th>\n",
       "      <td>4</td>\n",
       "      <td>Get Shorty (1995)</td>\n",
       "      <td>01-Jan-1995</td>\n",
       "      <td>NaN</td>\n",
       "      <td>http://us.imdb.com/M/title-exact?Get%20Shorty%...</td>\n",
       "      <td>0</td>\n",
       "      <td>1</td>\n",
       "      <td>0</td>\n",
       "      <td>0</td>\n",
       "      <td>0</td>\n",
       "      <td>...</td>\n",
       "      <td>0</td>\n",
       "      <td>0</td>\n",
       "      <td>0</td>\n",
       "      <td>0</td>\n",
       "      <td>0</td>\n",
       "      <td>0</td>\n",
       "      <td>0</td>\n",
       "      <td>0</td>\n",
       "      <td>0</td>\n",
       "      <td>0</td>\n",
       "    </tr>\n",
       "    <tr>\n",
       "      <th>4</th>\n",
       "      <td>5</td>\n",
       "      <td>Copycat (1995)</td>\n",
       "      <td>01-Jan-1995</td>\n",
       "      <td>NaN</td>\n",
       "      <td>http://us.imdb.com/M/title-exact?Copycat%20(1995)</td>\n",
       "      <td>0</td>\n",
       "      <td>0</td>\n",
       "      <td>0</td>\n",
       "      <td>0</td>\n",
       "      <td>0</td>\n",
       "      <td>...</td>\n",
       "      <td>0</td>\n",
       "      <td>0</td>\n",
       "      <td>0</td>\n",
       "      <td>0</td>\n",
       "      <td>0</td>\n",
       "      <td>0</td>\n",
       "      <td>0</td>\n",
       "      <td>1</td>\n",
       "      <td>0</td>\n",
       "      <td>0</td>\n",
       "    </tr>\n",
       "  </tbody>\n",
       "</table>\n",
       "<p>5 rows × 24 columns</p>\n",
       "</div>"
      ],
      "text/plain": [
       "   movie id        movie title release date  video release date  \\\n",
       "0         1   Toy Story (1995)  01-Jan-1995                 NaN   \n",
       "1         2   GoldenEye (1995)  01-Jan-1995                 NaN   \n",
       "2         3  Four Rooms (1995)  01-Jan-1995                 NaN   \n",
       "3         4  Get Shorty (1995)  01-Jan-1995                 NaN   \n",
       "4         5     Copycat (1995)  01-Jan-1995                 NaN   \n",
       "\n",
       "                                            IMDb URL  unknown  Action  \\\n",
       "0  http://us.imdb.com/M/title-exact?Toy%20Story%2...        0       0   \n",
       "1  http://us.imdb.com/M/title-exact?GoldenEye%20(...        0       1   \n",
       "2  http://us.imdb.com/M/title-exact?Four%20Rooms%...        0       0   \n",
       "3  http://us.imdb.com/M/title-exact?Get%20Shorty%...        0       1   \n",
       "4  http://us.imdb.com/M/title-exact?Copycat%20(1995)        0       0   \n",
       "\n",
       "   Adventure  Animation  Children's  ...  Fantasy  Film-Noir  Horror  Musical  \\\n",
       "0          0          1           1  ...        0          0       0        0   \n",
       "1          1          0           0  ...        0          0       0        0   \n",
       "2          0          0           0  ...        0          0       0        0   \n",
       "3          0          0           0  ...        0          0       0        0   \n",
       "4          0          0           0  ...        0          0       0        0   \n",
       "\n",
       "   Mystery  Romance  Sci-Fi  Thriller  War  Western  \n",
       "0        0        0       0         0    0        0  \n",
       "1        0        0       0         1    0        0  \n",
       "2        0        0       0         1    0        0  \n",
       "3        0        0       0         0    0        0  \n",
       "4        0        0       0         1    0        0  \n",
       "\n",
       "[5 rows x 24 columns]"
      ]
     },
     "execution_count": 43,
     "metadata": {},
     "output_type": "execute_result"
    }
   ],
   "source": [
    "#Load movie data\n",
    "items = pd.read_csv(os.path.join(path,'u.item'), \n",
    "                    sep=\"|\", encoding='latin-1', header=None)\n",
    "items.columns = ['movie id', 'movie title' ,'release date','video release date', 'IMDb URL', \n",
    "                 'unknown', 'Action', 'Adventure', 'Animation', 'Children\\'s', 'Comedy', \n",
    "                 'Crime', 'Documentary', 'Drama', 'Fantasy', 'Film-Noir', 'Horror', \n",
    "                 'Musical', 'Mystery', 'Romance', 'Sci-Fi', 'Thriller', 'War', 'Western']\n",
    "items.head()"
   ]
  },
  {
   "cell_type": "code",
   "execution_count": 44,
   "metadata": {},
   "outputs": [
    {
     "data": {
      "text/plain": [
       "['unknown',\n",
       " 'Action',\n",
       " 'Adventure',\n",
       " 'Animation',\n",
       " \"Children's\",\n",
       " 'Comedy',\n",
       " 'Crime',\n",
       " 'Documentary',\n",
       " 'Drama',\n",
       " 'Fantasy',\n",
       " 'Film-Noir',\n",
       " 'Horror',\n",
       " 'Musical',\n",
       " 'Mystery',\n",
       " 'Romance',\n",
       " 'Sci-Fi',\n",
       " 'Thriller',\n",
       " 'War',\n",
       " 'Western']"
      ]
     },
     "execution_count": 44,
     "metadata": {},
     "output_type": "execute_result"
    }
   ],
   "source": [
    "#类型\n",
    "GENRES = pd.read_csv(os.path.join(path,'u.genre'), sep=\"|\", header=None, usecols=[0])[0].tolist()\n",
    "GENRES"
   ]
  },
  {
   "cell_type": "markdown",
   "metadata": {},
   "source": [
    "## Watch the data to make model "
   ]
  },
  {
   "cell_type": "code",
   "execution_count": 45,
   "metadata": {},
   "outputs": [
    {
     "name": "stdout",
     "output_type": "stream",
     "text": [
      "Number of users: 943\n",
      "Nuber of movies: 1682\n"
     ]
    }
   ],
   "source": [
    "print(\n",
    "    (f\"Number of users: {users['user id'].nunique()}\\n\" \n",
    "    f\"Nuber of movies: {items['movie id'].nunique()}\")\n",
    ")"
   ]
  },
  {
   "cell_type": "markdown",
   "metadata": {},
   "source": [
    "### 看出4分最多，5分较少"
   ]
  },
  {
   "cell_type": "code",
   "execution_count": 46,
   "metadata": {},
   "outputs": [
    {
     "data": {
      "text/plain": [
       "<matplotlib.axes._subplots.AxesSubplot at 0x1551112d490>"
      ]
     },
     "execution_count": 46,
     "metadata": {},
     "output_type": "execute_result"
    },
    {
     "data": {
      "image/png": "[encoded data removed]",
      "text/plain": [
       "<Figure size 432x288 with 1 Axes>"
      ]
     },
     "metadata": {
      "needs_background": "light"
     },
     "output_type": "display_data"
    }
   ],
   "source": [
    "data['rating'].value_counts().sort_index().plot.bar()\n"
   ]
  },
  {
   "cell_type": "code",
   "execution_count": 47,
   "metadata": {},
   "outputs": [
    {
     "data": {
      "text/plain": [
       "<matplotlib.axes._subplots.AxesSubplot at 0x154c2b0c6a0>"
      ]
     },
     "execution_count": 47,
     "metadata": {},
     "output_type": "execute_result"
    },
    {
     "data": {
      "image/png": "[encoded data removed]",
      "text/plain": [
       "<Figure size 864x576 with 1 Axes>"
      ]
     },
     "metadata": {
      "needs_background": "light"
     },
     "output_type": "display_data"
    }
   ],
   "source": [
    "users['age'].value_counts().sort_index().plot.bar(figsize=(12, 8))\n",
    "#20-30岁居多"
   ]
  },
  {
   "cell_type": "code",
   "execution_count": 48,
   "metadata": {},
   "outputs": [
    {
     "data": {
      "text/plain": [
       "<matplotlib.axes._subplots.AxesSubplot at 0x155175b8550>"
      ]
     },
     "execution_count": 48,
     "metadata": {},
     "output_type": "execute_result"
    },
    {
     "data": {
      "image/png": "[encoded data removed]",
      "text/plain": [
       "<Figure size 432x288 with 1 Axes>"
      ]
     },
     "metadata": {
      "needs_background": "light"
     },
     "output_type": "display_data"
    }
   ],
   "source": [
    "users['gender'].value_counts().plot.bar()\n",
    "#男多女少"
   ]
  },
  {
   "cell_type": "code",
   "execution_count": 49,
   "metadata": {},
   "outputs": [
    {
     "data": {
      "text/plain": [
       "<matplotlib.axes._subplots.AxesSubplot at 0x155176284f0>"
      ]
     },
     "execution_count": 49,
     "metadata": {},
     "output_type": "execute_result"
    },
    {
     "data": {
      "image/png": "[encoded data removed]",
      "text/plain": [
       "<Figure size 432x288 with 1 Axes>"
      ]
     },
     "metadata": {
      "needs_background": "light"
     },
     "output_type": "display_data"
    }
   ],
   "source": [
    "users['occupation'].value_counts().plot.bar()\n",
    "#学生，教育工作最多"
   ]
  },
  {
   "cell_type": "markdown",
   "metadata": {},
   "source": [
    "### build the fearture and  target\n",
    " target 为 用户预测的下一个电影， 需要用到特征：用户历史"
   ]
  },
  {
   "cell_type": "code",
   "execution_count": 50,
   "metadata": {},
   "outputs": [
    {
     "data": {
      "text/html": [
       "<div>\n",
       "<style scoped>\n",
       "    .dataframe tbody tr th:only-of-type {\n",
       "        vertical-align: middle;\n",
       "    }\n",
       "\n",
       "    .dataframe tbody tr th {\n",
       "        vertical-align: top;\n",
       "    }\n",
       "\n",
       "    .dataframe thead th {\n",
       "        text-align: right;\n",
       "    }\n",
       "</style>\n",
       "<table border=\"1\" class=\"dataframe\">\n",
       "  <thead>\n",
       "    <tr style=\"text-align: right;\">\n",
       "      <th></th>\n",
       "      <th>user id</th>\n",
       "      <th>movie id</th>\n",
       "      <th>rating</th>\n",
       "      <th>timestamp</th>\n",
       "      <th>one</th>\n",
       "      <th>sample_num</th>\n",
       "      <th>target</th>\n",
       "      <th>mean_rate</th>\n",
       "    </tr>\n",
       "  </thead>\n",
       "  <tbody>\n",
       "    <tr>\n",
       "      <th>0</th>\n",
       "      <td>1</td>\n",
       "      <td>168</td>\n",
       "      <td>5</td>\n",
       "      <td>874965478</td>\n",
       "      <td>1</td>\n",
       "      <td>1</td>\n",
       "      <td>172.0</td>\n",
       "      <td>5.00</td>\n",
       "    </tr>\n",
       "    <tr>\n",
       "      <th>1</th>\n",
       "      <td>1</td>\n",
       "      <td>172</td>\n",
       "      <td>5</td>\n",
       "      <td>874965478</td>\n",
       "      <td>1</td>\n",
       "      <td>2</td>\n",
       "      <td>165.0</td>\n",
       "      <td>5.00</td>\n",
       "    </tr>\n",
       "    <tr>\n",
       "      <th>2</th>\n",
       "      <td>1</td>\n",
       "      <td>165</td>\n",
       "      <td>5</td>\n",
       "      <td>874965518</td>\n",
       "      <td>1</td>\n",
       "      <td>3</td>\n",
       "      <td>156.0</td>\n",
       "      <td>5.00</td>\n",
       "    </tr>\n",
       "    <tr>\n",
       "      <th>3</th>\n",
       "      <td>1</td>\n",
       "      <td>156</td>\n",
       "      <td>4</td>\n",
       "      <td>874965556</td>\n",
       "      <td>1</td>\n",
       "      <td>4</td>\n",
       "      <td>196.0</td>\n",
       "      <td>4.75</td>\n",
       "    </tr>\n",
       "    <tr>\n",
       "      <th>4</th>\n",
       "      <td>1</td>\n",
       "      <td>196</td>\n",
       "      <td>5</td>\n",
       "      <td>874965677</td>\n",
       "      <td>1</td>\n",
       "      <td>5</td>\n",
       "      <td>166.0</td>\n",
       "      <td>4.80</td>\n",
       "    </tr>\n",
       "  </tbody>\n",
       "</table>\n",
       "</div>"
      ],
      "text/plain": [
       "   user id  movie id  rating  timestamp  one  sample_num  target  mean_rate\n",
       "0        1       168       5  874965478    1           1   172.0       5.00\n",
       "1        1       172       5  874965478    1           2   165.0       5.00\n",
       "2        1       165       5  874965518    1           3   156.0       5.00\n",
       "3        1       156       4  874965556    1           4   196.0       4.75\n",
       "4        1       196       5  874965677    1           5   166.0       4.80"
      ]
     },
     "execution_count": 50,
     "metadata": {},
     "output_type": "execute_result"
    }
   ],
   "source": [
    "dataset = data.sort_values(['user id', 'timestamp']).reset_index(drop=True)#查看过没有空的 没有drop\n",
    "dataset['one'] = 1\n",
    "dataset['sample_num'] = dataset.groupby('user id')['one'].cumsum()#求和\n",
    "dataset['target'] = dataset.groupby('user id')['movie id'].shift(-1)\n",
    "dataset['mean_rate'] = dataset.groupby('user id')['rating'].cumsum() / dataset['sample_num']\n",
    "\n",
    "dataset.head()"
   ]
  },
  {
   "cell_type": "code",
   "execution_count": 51,
   "metadata": {},
   "outputs": [
    {
     "name": "stdout",
     "output_type": "stream",
     "text": [
      "<class 'pandas.core.frame.DataFrame'>\n",
      "RangeIndex: 100000 entries, 0 to 99999\n",
      "Data columns (total 8 columns):\n",
      " #   Column      Non-Null Count   Dtype  \n",
      "---  ------      --------------   -----  \n",
      " 0   user id     100000 non-null  int64  \n",
      " 1   movie id    100000 non-null  int64  \n",
      " 2   rating      100000 non-null  int64  \n",
      " 3   timestamp   100000 non-null  int64  \n",
      " 4   one         100000 non-null  int64  \n",
      " 5   sample_num  100000 non-null  int64  \n",
      " 6   target      99057 non-null   float64\n",
      " 7   mean_rate   100000 non-null  float64\n",
      "dtypes: float64(2), int64(6)\n",
      "memory usage: 6.1 MB\n"
     ]
    }
   ],
   "source": [
    "dataset.info()"
   ]
  },
  {
   "cell_type": "code",
   "execution_count": 52,
   "metadata": {},
   "outputs": [
    {
     "data": {
      "text/html": [
       "<div>\n",
       "<style scoped>\n",
       "    .dataframe tbody tr th:only-of-type {\n",
       "        vertical-align: middle;\n",
       "    }\n",
       "\n",
       "    .dataframe tbody tr th {\n",
       "        vertical-align: top;\n",
       "    }\n",
       "\n",
       "    .dataframe thead th {\n",
       "        text-align: right;\n",
       "    }\n",
       "</style>\n",
       "<table border=\"1\" class=\"dataframe\">\n",
       "  <thead>\n",
       "    <tr style=\"text-align: right;\">\n",
       "      <th></th>\n",
       "      <th>user id</th>\n",
       "      <th>movie id</th>\n",
       "      <th>rating</th>\n",
       "      <th>timestamp</th>\n",
       "      <th>one</th>\n",
       "      <th>sample_num</th>\n",
       "      <th>target</th>\n",
       "      <th>mean_rate</th>\n",
       "      <th>prev movies</th>\n",
       "    </tr>\n",
       "  </thead>\n",
       "  <tbody>\n",
       "    <tr>\n",
       "      <th>0</th>\n",
       "      <td>1</td>\n",
       "      <td>168</td>\n",
       "      <td>5</td>\n",
       "      <td>874965478</td>\n",
       "      <td>1</td>\n",
       "      <td>1</td>\n",
       "      <td>172.0</td>\n",
       "      <td>5.00</td>\n",
       "      <td>[168]</td>\n",
       "    </tr>\n",
       "    <tr>\n",
       "      <th>1</th>\n",
       "      <td>1</td>\n",
       "      <td>172</td>\n",
       "      <td>5</td>\n",
       "      <td>874965478</td>\n",
       "      <td>1</td>\n",
       "      <td>2</td>\n",
       "      <td>165.0</td>\n",
       "      <td>5.00</td>\n",
       "      <td>[168, 172]</td>\n",
       "    </tr>\n",
       "    <tr>\n",
       "      <th>2</th>\n",
       "      <td>1</td>\n",
       "      <td>165</td>\n",
       "      <td>5</td>\n",
       "      <td>874965518</td>\n",
       "      <td>1</td>\n",
       "      <td>3</td>\n",
       "      <td>156.0</td>\n",
       "      <td>5.00</td>\n",
       "      <td>[168, 172, 165]</td>\n",
       "    </tr>\n",
       "    <tr>\n",
       "      <th>3</th>\n",
       "      <td>1</td>\n",
       "      <td>156</td>\n",
       "      <td>4</td>\n",
       "      <td>874965556</td>\n",
       "      <td>1</td>\n",
       "      <td>4</td>\n",
       "      <td>196.0</td>\n",
       "      <td>4.75</td>\n",
       "      <td>[168, 172, 165, 156]</td>\n",
       "    </tr>\n",
       "    <tr>\n",
       "      <th>4</th>\n",
       "      <td>1</td>\n",
       "      <td>196</td>\n",
       "      <td>5</td>\n",
       "      <td>874965677</td>\n",
       "      <td>1</td>\n",
       "      <td>5</td>\n",
       "      <td>166.0</td>\n",
       "      <td>4.80</td>\n",
       "      <td>[168, 172, 165, 156, 196]</td>\n",
       "    </tr>\n",
       "  </tbody>\n",
       "</table>\n",
       "</div>"
      ],
      "text/plain": [
       "   user id  movie id  rating  timestamp  one  sample_num  target  mean_rate  \\\n",
       "0        1       168       5  874965478    1           1   172.0       5.00   \n",
       "1        1       172       5  874965478    1           2   165.0       5.00   \n",
       "2        1       165       5  874965518    1           3   156.0       5.00   \n",
       "3        1       156       4  874965556    1           4   196.0       4.75   \n",
       "4        1       196       5  874965677    1           5   166.0       4.80   \n",
       "\n",
       "                 prev movies  \n",
       "0                      [168]  \n",
       "1                 [168, 172]  \n",
       "2            [168, 172, 165]  \n",
       "3       [168, 172, 165, 156]  \n",
       "4  [168, 172, 165, 156, 196]  "
      ]
     },
     "execution_count": 52,
     "metadata": {},
     "output_type": "execute_result"
    }
   ],
   "source": [
    "#build user history\n",
    "dataset['prev movies'] = dataset['movie id'].apply(lambda x: str(x))\n",
    "dataset['prev movies'] = dataset.groupby('user id')['prev movies'].apply(lambda x: (x + ' ').cumsum().str.strip())\n",
    "dataset['prev movies'] = dataset['prev movies'].apply(lambda x: x.split())\n",
    "dataset.head()"
   ]
  },
  {
   "cell_type": "markdown",
   "metadata": {},
   "source": []
  },
  {
   "cell_type": "code",
   "execution_count": 53,
   "metadata": {},
   "outputs": [
    {
     "data": {
      "text/html": [
       "<div>\n",
       "<style scoped>\n",
       "    .dataframe tbody tr th:only-of-type {\n",
       "        vertical-align: middle;\n",
       "    }\n",
       "\n",
       "    .dataframe tbody tr th {\n",
       "        vertical-align: top;\n",
       "    }\n",
       "\n",
       "    .dataframe thead th {\n",
       "        text-align: right;\n",
       "    }\n",
       "</style>\n",
       "<table border=\"1\" class=\"dataframe\">\n",
       "  <thead>\n",
       "    <tr style=\"text-align: right;\">\n",
       "      <th></th>\n",
       "      <th>user id</th>\n",
       "      <th>movie id</th>\n",
       "      <th>rating</th>\n",
       "      <th>timestamp</th>\n",
       "      <th>one</th>\n",
       "      <th>sample_num</th>\n",
       "      <th>target</th>\n",
       "      <th>mean_rate</th>\n",
       "      <th>prev movies</th>\n",
       "      <th>unknown</th>\n",
       "      <th>...</th>\n",
       "      <th>Fantasy_rate</th>\n",
       "      <th>Film-Noir_rate</th>\n",
       "      <th>Horror_rate</th>\n",
       "      <th>Musical_rate</th>\n",
       "      <th>Mystery_rate</th>\n",
       "      <th>Romance_rate</th>\n",
       "      <th>Sci-Fi_rate</th>\n",
       "      <th>Thriller_rate</th>\n",
       "      <th>War_rate</th>\n",
       "      <th>Western_rate</th>\n",
       "    </tr>\n",
       "  </thead>\n",
       "  <tbody>\n",
       "    <tr>\n",
       "      <th>0</th>\n",
       "      <td>1</td>\n",
       "      <td>168</td>\n",
       "      <td>5</td>\n",
       "      <td>874965478</td>\n",
       "      <td>1</td>\n",
       "      <td>1</td>\n",
       "      <td>172.0</td>\n",
       "      <td>5.00</td>\n",
       "      <td>[168]</td>\n",
       "      <td>0.0</td>\n",
       "      <td>...</td>\n",
       "      <td>NaN</td>\n",
       "      <td>NaN</td>\n",
       "      <td>NaN</td>\n",
       "      <td>NaN</td>\n",
       "      <td>NaN</td>\n",
       "      <td>NaN</td>\n",
       "      <td>NaN</td>\n",
       "      <td>NaN</td>\n",
       "      <td>NaN</td>\n",
       "      <td>NaN</td>\n",
       "    </tr>\n",
       "    <tr>\n",
       "      <th>1</th>\n",
       "      <td>1</td>\n",
       "      <td>172</td>\n",
       "      <td>5</td>\n",
       "      <td>874965478</td>\n",
       "      <td>1</td>\n",
       "      <td>2</td>\n",
       "      <td>165.0</td>\n",
       "      <td>5.00</td>\n",
       "      <td>[168, 172]</td>\n",
       "      <td>0.0</td>\n",
       "      <td>...</td>\n",
       "      <td>NaN</td>\n",
       "      <td>NaN</td>\n",
       "      <td>NaN</td>\n",
       "      <td>NaN</td>\n",
       "      <td>NaN</td>\n",
       "      <td>5.0</td>\n",
       "      <td>5.0</td>\n",
       "      <td>NaN</td>\n",
       "      <td>5.0</td>\n",
       "      <td>NaN</td>\n",
       "    </tr>\n",
       "    <tr>\n",
       "      <th>2</th>\n",
       "      <td>1</td>\n",
       "      <td>165</td>\n",
       "      <td>5</td>\n",
       "      <td>874965518</td>\n",
       "      <td>1</td>\n",
       "      <td>3</td>\n",
       "      <td>156.0</td>\n",
       "      <td>5.00</td>\n",
       "      <td>[168, 172, 165]</td>\n",
       "      <td>0.0</td>\n",
       "      <td>...</td>\n",
       "      <td>NaN</td>\n",
       "      <td>NaN</td>\n",
       "      <td>NaN</td>\n",
       "      <td>NaN</td>\n",
       "      <td>NaN</td>\n",
       "      <td>5.0</td>\n",
       "      <td>5.0</td>\n",
       "      <td>NaN</td>\n",
       "      <td>5.0</td>\n",
       "      <td>NaN</td>\n",
       "    </tr>\n",
       "    <tr>\n",
       "      <th>3</th>\n",
       "      <td>1</td>\n",
       "      <td>156</td>\n",
       "      <td>4</td>\n",
       "      <td>874965556</td>\n",
       "      <td>1</td>\n",
       "      <td>4</td>\n",
       "      <td>196.0</td>\n",
       "      <td>4.75</td>\n",
       "      <td>[168, 172, 165, 156]</td>\n",
       "      <td>0.0</td>\n",
       "      <td>...</td>\n",
       "      <td>NaN</td>\n",
       "      <td>NaN</td>\n",
       "      <td>NaN</td>\n",
       "      <td>NaN</td>\n",
       "      <td>NaN</td>\n",
       "      <td>5.0</td>\n",
       "      <td>5.0</td>\n",
       "      <td>4.0</td>\n",
       "      <td>5.0</td>\n",
       "      <td>NaN</td>\n",
       "    </tr>\n",
       "    <tr>\n",
       "      <th>4</th>\n",
       "      <td>1</td>\n",
       "      <td>196</td>\n",
       "      <td>5</td>\n",
       "      <td>874965677</td>\n",
       "      <td>1</td>\n",
       "      <td>5</td>\n",
       "      <td>166.0</td>\n",
       "      <td>4.80</td>\n",
       "      <td>[168, 172, 165, 156, 196]</td>\n",
       "      <td>0.0</td>\n",
       "      <td>...</td>\n",
       "      <td>NaN</td>\n",
       "      <td>NaN</td>\n",
       "      <td>NaN</td>\n",
       "      <td>NaN</td>\n",
       "      <td>NaN</td>\n",
       "      <td>5.0</td>\n",
       "      <td>5.0</td>\n",
       "      <td>4.0</td>\n",
       "      <td>5.0</td>\n",
       "      <td>NaN</td>\n",
       "    </tr>\n",
       "  </tbody>\n",
       "</table>\n",
       "<p>5 rows × 47 columns</p>\n",
       "</div>"
      ],
      "text/plain": [
       "   user id  movie id  rating  timestamp  one  sample_num  target  mean_rate  \\\n",
       "0        1       168       5  874965478    1           1   172.0       5.00   \n",
       "1        1       172       5  874965478    1           2   165.0       5.00   \n",
       "2        1       165       5  874965518    1           3   156.0       5.00   \n",
       "3        1       156       4  874965556    1           4   196.0       4.75   \n",
       "4        1       196       5  874965677    1           5   166.0       4.80   \n",
       "\n",
       "                 prev movies  unknown  ...  Fantasy_rate  Film-Noir_rate  \\\n",
       "0                      [168]      0.0  ...           NaN             NaN   \n",
       "1                 [168, 172]      0.0  ...           NaN             NaN   \n",
       "2            [168, 172, 165]      0.0  ...           NaN             NaN   \n",
       "3       [168, 172, 165, 156]      0.0  ...           NaN             NaN   \n",
       "4  [168, 172, 165, 156, 196]      0.0  ...           NaN             NaN   \n",
       "\n",
       "   Horror_rate  Musical_rate  Mystery_rate  Romance_rate  Sci-Fi_rate  \\\n",
       "0          NaN           NaN           NaN           NaN          NaN   \n",
       "1          NaN           NaN           NaN           5.0          5.0   \n",
       "2          NaN           NaN           NaN           5.0          5.0   \n",
       "3          NaN           NaN           NaN           5.0          5.0   \n",
       "4          NaN           NaN           NaN           5.0          5.0   \n",
       "\n",
       "   Thriller_rate  War_rate  Western_rate  \n",
       "0            NaN       NaN           NaN  \n",
       "1            NaN       5.0           NaN  \n",
       "2            NaN       5.0           NaN  \n",
       "3            4.0       5.0           NaN  \n",
       "4            4.0       5.0           NaN  \n",
       "\n",
       "[5 rows x 47 columns]"
      ]
     },
     "execution_count": 53,
     "metadata": {},
     "output_type": "execute_result"
    }
   ],
   "source": [
    "dataset = dataset.merge(items[['movie id'] + GENRES], on='movie id', how='left')\n",
    "for genre in GENRES:\n",
    "    dataset[f'{genre}_rate'] = dataset[genre]*dataset['rating']\n",
    "    dataset[genre] = dataset.groupby('user id')[genre].cumsum()\n",
    "    dataset[f'{genre}_rate'] = dataset.groupby('user id')[f'{genre}_rate'].cumsum() / dataset[genre]\n",
    "\n",
    "dataset[GENRES] = dataset[GENRES].apply(lambda x: x / dataset['sample_num'])\n",
    "dataset.head()"
   ]
  },
  {
   "cell_type": "code",
   "execution_count": 54,
   "metadata": {},
   "outputs": [
    {
     "data": {
      "text/html": [
       "<div>\n",
       "<style scoped>\n",
       "    .dataframe tbody tr th:only-of-type {\n",
       "        vertical-align: middle;\n",
       "    }\n",
       "\n",
       "    .dataframe tbody tr th {\n",
       "        vertical-align: top;\n",
       "    }\n",
       "\n",
       "    .dataframe thead th {\n",
       "        text-align: right;\n",
       "    }\n",
       "</style>\n",
       "<table border=\"1\" class=\"dataframe\">\n",
       "  <thead>\n",
       "    <tr style=\"text-align: right;\">\n",
       "      <th></th>\n",
       "      <th>user id</th>\n",
       "      <th>movie id</th>\n",
       "      <th>rating</th>\n",
       "      <th>timestamp</th>\n",
       "      <th>one</th>\n",
       "      <th>sample_num</th>\n",
       "      <th>target</th>\n",
       "      <th>mean_rate</th>\n",
       "      <th>prev movies</th>\n",
       "      <th>unknown</th>\n",
       "      <th>...</th>\n",
       "      <th>librarian</th>\n",
       "      <th>marketing</th>\n",
       "      <th>none</th>\n",
       "      <th>programmer</th>\n",
       "      <th>retired</th>\n",
       "      <th>salesman</th>\n",
       "      <th>scientist</th>\n",
       "      <th>student</th>\n",
       "      <th>technician</th>\n",
       "      <th>writer</th>\n",
       "    </tr>\n",
       "  </thead>\n",
       "  <tbody>\n",
       "    <tr>\n",
       "      <th>0</th>\n",
       "      <td>1</td>\n",
       "      <td>168</td>\n",
       "      <td>5</td>\n",
       "      <td>874965478</td>\n",
       "      <td>1</td>\n",
       "      <td>1</td>\n",
       "      <td>172.0</td>\n",
       "      <td>5.00</td>\n",
       "      <td>[168]</td>\n",
       "      <td>0.0</td>\n",
       "      <td>...</td>\n",
       "      <td>0</td>\n",
       "      <td>0</td>\n",
       "      <td>0</td>\n",
       "      <td>0</td>\n",
       "      <td>0</td>\n",
       "      <td>0</td>\n",
       "      <td>0</td>\n",
       "      <td>0</td>\n",
       "      <td>1</td>\n",
       "      <td>0</td>\n",
       "    </tr>\n",
       "    <tr>\n",
       "      <th>1</th>\n",
       "      <td>1</td>\n",
       "      <td>172</td>\n",
       "      <td>5</td>\n",
       "      <td>874965478</td>\n",
       "      <td>1</td>\n",
       "      <td>2</td>\n",
       "      <td>165.0</td>\n",
       "      <td>5.00</td>\n",
       "      <td>[168, 172]</td>\n",
       "      <td>0.0</td>\n",
       "      <td>...</td>\n",
       "      <td>0</td>\n",
       "      <td>0</td>\n",
       "      <td>0</td>\n",
       "      <td>0</td>\n",
       "      <td>0</td>\n",
       "      <td>0</td>\n",
       "      <td>0</td>\n",
       "      <td>0</td>\n",
       "      <td>1</td>\n",
       "      <td>0</td>\n",
       "    </tr>\n",
       "    <tr>\n",
       "      <th>2</th>\n",
       "      <td>1</td>\n",
       "      <td>165</td>\n",
       "      <td>5</td>\n",
       "      <td>874965518</td>\n",
       "      <td>1</td>\n",
       "      <td>3</td>\n",
       "      <td>156.0</td>\n",
       "      <td>5.00</td>\n",
       "      <td>[168, 172, 165]</td>\n",
       "      <td>0.0</td>\n",
       "      <td>...</td>\n",
       "      <td>0</td>\n",
       "      <td>0</td>\n",
       "      <td>0</td>\n",
       "      <td>0</td>\n",
       "      <td>0</td>\n",
       "      <td>0</td>\n",
       "      <td>0</td>\n",
       "      <td>0</td>\n",
       "      <td>1</td>\n",
       "      <td>0</td>\n",
       "    </tr>\n",
       "    <tr>\n",
       "      <th>3</th>\n",
       "      <td>1</td>\n",
       "      <td>156</td>\n",
       "      <td>4</td>\n",
       "      <td>874965556</td>\n",
       "      <td>1</td>\n",
       "      <td>4</td>\n",
       "      <td>196.0</td>\n",
       "      <td>4.75</td>\n",
       "      <td>[168, 172, 165, 156]</td>\n",
       "      <td>0.0</td>\n",
       "      <td>...</td>\n",
       "      <td>0</td>\n",
       "      <td>0</td>\n",
       "      <td>0</td>\n",
       "      <td>0</td>\n",
       "      <td>0</td>\n",
       "      <td>0</td>\n",
       "      <td>0</td>\n",
       "      <td>0</td>\n",
       "      <td>1</td>\n",
       "      <td>0</td>\n",
       "    </tr>\n",
       "    <tr>\n",
       "      <th>4</th>\n",
       "      <td>1</td>\n",
       "      <td>196</td>\n",
       "      <td>5</td>\n",
       "      <td>874965677</td>\n",
       "      <td>1</td>\n",
       "      <td>5</td>\n",
       "      <td>166.0</td>\n",
       "      <td>4.80</td>\n",
       "      <td>[168, 172, 165, 156, 196]</td>\n",
       "      <td>0.0</td>\n",
       "      <td>...</td>\n",
       "      <td>0</td>\n",
       "      <td>0</td>\n",
       "      <td>0</td>\n",
       "      <td>0</td>\n",
       "      <td>0</td>\n",
       "      <td>0</td>\n",
       "      <td>0</td>\n",
       "      <td>0</td>\n",
       "      <td>1</td>\n",
       "      <td>0</td>\n",
       "    </tr>\n",
       "  </tbody>\n",
       "</table>\n",
       "<p>5 rows × 69 columns</p>\n",
       "</div>"
      ],
      "text/plain": [
       "   user id  movie id  rating  timestamp  one  sample_num  target  mean_rate  \\\n",
       "0        1       168       5  874965478    1           1   172.0       5.00   \n",
       "1        1       172       5  874965478    1           2   165.0       5.00   \n",
       "2        1       165       5  874965518    1           3   156.0       5.00   \n",
       "3        1       156       4  874965556    1           4   196.0       4.75   \n",
       "4        1       196       5  874965677    1           5   166.0       4.80   \n",
       "\n",
       "                 prev movies  unknown  ...  librarian  marketing  none  \\\n",
       "0                      [168]      0.0  ...          0          0     0   \n",
       "1                 [168, 172]      0.0  ...          0          0     0   \n",
       "2            [168, 172, 165]      0.0  ...          0          0     0   \n",
       "3       [168, 172, 165, 156]      0.0  ...          0          0     0   \n",
       "4  [168, 172, 165, 156, 196]      0.0  ...          0          0     0   \n",
       "\n",
       "   programmer  retired  salesman  scientist  student  technician  writer  \n",
       "0           0        0         0          0        0           1       0  \n",
       "1           0        0         0          0        0           1       0  \n",
       "2           0        0         0          0        0           1       0  \n",
       "3           0        0         0          0        0           1       0  \n",
       "4           0        0         0          0        0           1       0  \n",
       "\n",
       "[5 rows x 69 columns]"
      ]
     },
     "execution_count": 54,
     "metadata": {},
     "output_type": "execute_result"
    }
   ],
   "source": [
    "#性别 和职业\n",
    "dataset = dataset.merge(users, on='user id', how='left')\n",
    "dataset['gender'] = (dataset['gender'] == 'M').astype(int)\n",
    "dataset = pd.concat([dataset.drop('occupation', axis=1), pd.get_dummies(dataset['occupation'])], axis=1)\n",
    "dataset.drop('other', axis=1, inplace=True)\n",
    "dataset.drop('zip code', axis=1, inplace=True)\n",
    "dataset.head()"
   ]
  },
  {
   "cell_type": "code",
   "execution_count": 70,
   "metadata": {},
   "outputs": [
    {
     "name": "stdout",
     "output_type": "stream",
     "text": [
      "<class 'pandas.core.frame.DataFrame'>\n",
      "Int64Index: 100000 entries, 0 to 99999\n",
      "Data columns (total 69 columns):\n",
      " #   Column            Non-Null Count   Dtype  \n",
      "---  ------            --------------   -----  \n",
      " 0   user id           100000 non-null  int64  \n",
      " 1   movie id          100000 non-null  int64  \n",
      " 2   rating            100000 non-null  int64  \n",
      " 3   timestamp         100000 non-null  int64  \n",
      " 4   one               100000 non-null  int64  \n",
      " 5   sample_num        100000 non-null  int64  \n",
      " 6   target            99057 non-null   float64\n",
      " 7   mean_rate         100000 non-null  float64\n",
      " 8   prev movies       100000 non-null  object \n",
      " 9   unknown           100000 non-null  float64\n",
      " 10  Action            100000 non-null  float64\n",
      " 11  Adventure         100000 non-null  float64\n",
      " 12  Animation         100000 non-null  float64\n",
      " 13  Children's        100000 non-null  float64\n",
      " 14  Comedy            100000 non-null  float64\n",
      " 15  Crime             100000 non-null  float64\n",
      " 16  Documentary       100000 non-null  float64\n",
      " 17  Drama             100000 non-null  float64\n",
      " 18  Fantasy           100000 non-null  float64\n",
      " 19  Film-Noir         100000 non-null  float64\n",
      " 20  Horror            100000 non-null  float64\n",
      " 21  Musical           100000 non-null  float64\n",
      " 22  Mystery           100000 non-null  float64\n",
      " 23  Romance           100000 non-null  float64\n",
      " 24  Sci-Fi            100000 non-null  float64\n",
      " 25  Thriller          100000 non-null  float64\n",
      " 26  War               100000 non-null  float64\n",
      " 27  Western           100000 non-null  float64\n",
      " 28  unknown_rate      1463 non-null    float64\n",
      " 29  Action_rate       96260 non-null   float64\n",
      " 30  Adventure_rate    89448 non-null   float64\n",
      " 31  Animation_rate    68602 non-null   float64\n",
      " 32  Children's_rate   80576 non-null   float64\n",
      " 33  Comedy_rate       96237 non-null   float64\n",
      " 34  Crime_rate        91120 non-null   float64\n",
      " 35  Documentary_rate  40289 non-null   float64\n",
      " 36  Drama_rate        98979 non-null   float64\n",
      " 37  Fantasy_rate      52418 non-null   float64\n",
      " 38  Film-Noir_rate    63747 non-null   float64\n",
      " 39  Horror_rate       79626 non-null   float64\n",
      " 40  Musical_rate      75639 non-null   float64\n",
      " 41  Mystery_rate      88330 non-null   float64\n",
      " 42  Romance_rate      97275 non-null   float64\n",
      " 43  Sci-Fi_rate       92891 non-null   float64\n",
      " 44  Thriller_rate     97242 non-null   float64\n",
      " 45  War_rate          94243 non-null   float64\n",
      " 46  Western_rate      53458 non-null   float64\n",
      " 47  age               100000 non-null  int64  \n",
      " 48  gender            100000 non-null  int32  \n",
      " 49  administrator     100000 non-null  uint8  \n",
      " 50  artist            100000 non-null  uint8  \n",
      " 51  doctor            100000 non-null  uint8  \n",
      " 52  educator          100000 non-null  uint8  \n",
      " 53  engineer          100000 non-null  uint8  \n",
      " 54  entertainment     100000 non-null  uint8  \n",
      " 55  executive         100000 non-null  uint8  \n",
      " 56  healthcare        100000 non-null  uint8  \n",
      " 57  homemaker         100000 non-null  uint8  \n",
      " 58  lawyer            100000 non-null  uint8  \n",
      " 59  librarian         100000 non-null  uint8  \n",
      " 60  marketing         100000 non-null  uint8  \n",
      " 61  none              100000 non-null  uint8  \n",
      " 62  programmer        100000 non-null  uint8  \n",
      " 63  retired           100000 non-null  uint8  \n",
      " 64  salesman          100000 non-null  uint8  \n",
      " 65  scientist         100000 non-null  uint8  \n",
      " 66  student           100000 non-null  uint8  \n",
      " 67  technician        100000 non-null  uint8  \n",
      " 68  writer            100000 non-null  uint8  \n",
      "dtypes: float64(40), int32(1), int64(7), object(1), uint8(20)\n",
      "memory usage: 39.7+ MB\n"
     ]
    }
   ],
   "source": [
    "dataset.info()"
   ]
  },
  {
   "cell_type": "code",
   "execution_count": 55,
   "metadata": {},
   "outputs": [],
   "source": [
    "#获取变成稀疏矩阵的索引\n",
    "def get_coo_indexes(lil):\n",
    "    rows = []\n",
    "    cols = []\n",
    "    for i, el in enumerate(lil):\n",
    "        if type(el)!=list:\n",
    "            el = [el]\n",
    "        for j in el:\n",
    "            rows.append(i)\n",
    "            cols.append(j)\n",
    "    return rows, cols"
   ]
  },
  {
   "cell_type": "code",
   "execution_count": 73,
   "metadata": {},
   "outputs": [],
   "source": [
    "from scipy.sparse import coo_matrix\n",
    "import numpy as np\n",
    "#变换成稀疏矩阵\n",
    "def get_sparse_features(series, shape):\n",
    "    #获取索引\n",
    "    coo_indexes = get_coo_indexes(series.tolist())\n",
    "    #按照索引的顺序 进行填充0矩阵\n",
    "    sparse_df = coo_matrix((np.ones(len(coo_indexes[0])), (coo_indexes[0], coo_indexes[1])), shape=shape)\n",
    "    return sparse_df"
   ]
  },
  {
   "cell_type": "code",
   "execution_count": 75,
   "metadata": {},
   "outputs": [
    {
     "name": "stdout",
     "output_type": "stream",
     "text": [
      "(100000, 1683) <class 'scipy.sparse.coo.coo_matrix'>\n"
     ]
    }
   ],
   "source": [
    "coomax = get_sparse_features(dataset['prev movies'], (len(dataset), dataset['movie id'].max()+1))\n"
   ]
  },
  {
   "cell_type": "markdown",
   "metadata": {},
   "source": [
    "#### Data split"
   ]
  },
  {
   "cell_type": "code",
   "execution_count": 58,
   "metadata": {},
   "outputs": [],
   "source": [
    "#因为使用到了时间戳 所以不用自动划分的函数\n",
    "#参数设置\n",
    "COLD_START_TRESH = 5    #冷启动\n",
    "TEST_SIZE = 0.2"
   ]
  },
  {
   "cell_type": "code",
   "execution_count": 59,
   "metadata": {},
   "outputs": [
    {
     "data": {
      "text/plain": [
       "((76228, 69), (19057, 69))"
      ]
     },
     "execution_count": 59,
     "metadata": {},
     "output_type": "execute_result"
    }
   ],
   "source": [
    "filtred_data = dataset[(dataset['sample_num'] >= COLD_START_TRESH) &\n",
    "                       ~(dataset['target'].isna())].sort_values('timestamp')    #时间排序,去除没有target的 \n",
    "train_data = filtred_data[:int(len(filtred_data)*(1-TEST_SIZE))]\n",
    "test_data = filtred_data[int(len(filtred_data)*(1-TEST_SIZE)):]\n",
    "train_data.shape, test_data.shape"
   ]
  },
  {
   "cell_type": "code",
   "execution_count": 60,
   "metadata": {},
   "outputs": [
    {
     "data": {
      "text/html": [
       "<div>\n",
       "<style scoped>\n",
       "    .dataframe tbody tr th:only-of-type {\n",
       "        vertical-align: middle;\n",
       "    }\n",
       "\n",
       "    .dataframe tbody tr th {\n",
       "        vertical-align: top;\n",
       "    }\n",
       "\n",
       "    .dataframe thead th {\n",
       "        text-align: right;\n",
       "    }\n",
       "</style>\n",
       "<table border=\"1\" class=\"dataframe\">\n",
       "  <thead>\n",
       "    <tr style=\"text-align: right;\">\n",
       "      <th></th>\n",
       "      <th>total</th>\n",
       "      <th>train</th>\n",
       "      <th>test</th>\n",
       "    </tr>\n",
       "  </thead>\n",
       "  <tbody>\n",
       "    <tr>\n",
       "      <th>count</th>\n",
       "      <td>943.000000</td>\n",
       "      <td>748.000000</td>\n",
       "      <td>295.000000</td>\n",
       "    </tr>\n",
       "    <tr>\n",
       "      <th>mean</th>\n",
       "      <td>106.044539</td>\n",
       "      <td>101.909091</td>\n",
       "      <td>64.600000</td>\n",
       "    </tr>\n",
       "    <tr>\n",
       "      <th>std</th>\n",
       "      <td>100.931743</td>\n",
       "      <td>99.935734</td>\n",
       "      <td>79.619691</td>\n",
       "    </tr>\n",
       "    <tr>\n",
       "      <th>min</th>\n",
       "      <td>20.000000</td>\n",
       "      <td>4.000000</td>\n",
       "      <td>1.000000</td>\n",
       "    </tr>\n",
       "    <tr>\n",
       "      <th>25%</th>\n",
       "      <td>33.000000</td>\n",
       "      <td>29.000000</td>\n",
       "      <td>16.000000</td>\n",
       "    </tr>\n",
       "    <tr>\n",
       "      <th>50%</th>\n",
       "      <td>65.000000</td>\n",
       "      <td>61.000000</td>\n",
       "      <td>31.000000</td>\n",
       "    </tr>\n",
       "    <tr>\n",
       "      <th>75%</th>\n",
       "      <td>148.000000</td>\n",
       "      <td>145.000000</td>\n",
       "      <td>92.500000</td>\n",
       "    </tr>\n",
       "    <tr>\n",
       "      <th>max</th>\n",
       "      <td>737.000000</td>\n",
       "      <td>732.000000</td>\n",
       "      <td>475.000000</td>\n",
       "    </tr>\n",
       "  </tbody>\n",
       "</table>\n",
       "</div>"
      ],
      "text/plain": [
       "            total       train        test\n",
       "count  943.000000  748.000000  295.000000\n",
       "mean   106.044539  101.909091   64.600000\n",
       "std    100.931743   99.935734   79.619691\n",
       "min     20.000000    4.000000    1.000000\n",
       "25%     33.000000   29.000000   16.000000\n",
       "50%     65.000000   61.000000   31.000000\n",
       "75%    148.000000  145.000000   92.500000\n",
       "max    737.000000  732.000000  475.000000"
      ]
     },
     "execution_count": 60,
     "metadata": {},
     "output_type": "execute_result"
    }
   ],
   "source": [
    "pd.concat([data['user id'].value_counts().describe(),\n",
    "           train_data['user id'].value_counts().describe(),\n",
    "           test_data['user id'].value_counts().describe()],\n",
    "         axis=1,\n",
    "         keys=['total', 'train', 'test'])"
   ]
  },
  {
   "cell_type": "code",
   "execution_count": 61,
   "metadata": {},
   "outputs": [
    {
     "data": {
      "image/png": "[encoded data removed]",
      "text/plain": [
       "<Figure size 432x288 with 1 Axes>"
      ]
     },
     "metadata": {
      "needs_background": "light"
     },
     "output_type": "display_data"
    }
   ],
   "source": [
    "for df in [data, train_data, test_data]:\n",
    "    df.groupby('user id')['movie id'].count().plot.hist(bins=20)"
   ]
  },
  {
   "cell_type": "code",
   "execution_count": 62,
   "metadata": {},
   "outputs": [
    {
     "name": "stdout",
     "output_type": "stream",
     "text": [
      "Total movies: 1682\n",
      "Movies in train: 1611\n",
      "Movies in test: 1442\n",
      "\n"
     ]
    }
   ],
   "source": [
    "print((\n",
    "    f\"Total movies: {data['movie id'].nunique()}\\n\" #返回唯一值的个数\n",
    "    f\"Movies in train: {train_data['movie id'].nunique()}\\n\"\n",
    "    f\"Movies in test: {test_data['movie id'].nunique()}\\n\"\n",
    "))  "
   ]
  },
  {
   "cell_type": "code",
   "execution_count": 63,
   "metadata": {},
   "outputs": [],
   "source": [
    "X_train = train_data.drop(['user id','movie id','rating','timestamp',\n",
    "                    'one','sample_num','target','prev movies'],axis=1)\n",
    "prev_movies_train = get_sparse_features(train_data['prev movies'],(len(train_data),dataset['movie id'].max()+1))\n",
    "\n",
    "y_train = train_data['target']\n",
    "X_test = test_data.drop(['user id','movie id','rating','timestamp',\n",
    "                    'one','sample_num','target','prev movies'],axis=1)\n",
    "prev_movies_test =get_sparse_features(test_data['prev movies'],(len(test_data),dataset['movie id'].max()+1))\n",
    "y_test =test_data['target']"
   ]
  },
  {
   "cell_type": "code",
   "execution_count": 77,
   "metadata": {},
   "outputs": [
    {
     "name": "stdout",
     "output_type": "stream",
     "text": [
      "(76228, 61)\n"
     ]
    },
    {
     "data": {
      "text/plain": [
       "25423    772.0\n",
       "25425    288.0\n",
       "25424    108.0\n",
       "25426    928.0\n",
       "25427    117.0\n",
       "Name: target, dtype: float64"
      ]
     },
     "execution_count": 77,
     "metadata": {},
     "output_type": "execute_result"
    }
   ],
   "source": [
    "print(X_train.shape)\n",
    "X_train.head()\n",
    "y_train[:5]"
   ]
  },
  {
   "cell_type": "code",
   "execution_count": 64,
   "metadata": {},
   "outputs": [
    {
     "name": "stderr",
     "output_type": "stream",
     "text": [
      "C:\\develop\\Python\\Python38\\lib\\site-packages\\lightgbm\\basic.py:1973: UserWarning: Reseting categorical features.\n",
      "You can set new categorical features via ``set_categorical_feature`` method\n",
      "  warnings.warn(\"Reseting categorical features.\\n\"\n",
      "C:\\develop\\Python\\Python38\\lib\\site-packages\\lightgbm\\engine.py:151: UserWarning: Found `num_iterations` in params. Will use it instead of argument\n",
      "  warnings.warn(\"Found `{}` in params. Will use it instead of argument\".format(alias))\n"
     ]
    }
   ],
   "source": [
    "#baseline LightGBM\n",
    "import lightgbm as lgb\n",
    "params = {\n",
    "    'objective':'softmax', \n",
    "    'num_class':items['movie id'].nunique()+1, \n",
    "    'num_iterations':10, \n",
    "    'verbose':-1\n",
    "}\n",
    "train_data =lgb.Dataset(X_train.reset_index(drop=True),label=y_train,free_raw_data=False)\n",
    "movies_data_train = lgb.Dataset(prev_movies_train,free_raw_data=False)\n",
    "train_data = train_data.construct()\n",
    "movies_data_train = movies_data_train.construct()\n",
    "train_data = train_data.add_features_from(movies_data_train)\n",
    "model = lgb.train(params,train_data)\n"
   ]
  },
  {
   "cell_type": "code",
   "execution_count": 79,
   "metadata": {},
   "outputs": [
    {
     "name": "stderr",
     "output_type": "stream",
     "text": [
      "C:\\develop\\Python\\Python38\\lib\\site-packages\\lightgbm\\basic.py:1973: UserWarning: Reseting categorical features.\n",
      "You can set new categorical features via ``set_categorical_feature`` method\n",
      "  warnings.warn(\"Reseting categorical features.\\n\"\n"
     ]
    },
    {
     "name": "stdout",
     "output_type": "stream",
     "text": [
      "(19057, 1683)\n"
     ]
    }
   ],
   "source": [
    "test_data = lgb.Dataset(X_test.reset_index(drop=True), free_raw_data=False)\n",
    "movies_data_test = lgb.Dataset(prev_movies_test, free_raw_data=False)\n",
    "test_data = test_data.construct()\n",
    "movies_data_test = movies_data_test.construct()\n",
    "test_data = test_data.add_features_from(movies_data_test)\n",
    "preds_baseline = model.predict(test_data.get_data())\n",
    "print(preds_baseline.shape)"
   ]
  },
  {
   "cell_type": "code",
   "execution_count": 80,
   "metadata": {},
   "outputs": [
    {
     "name": "stdout",
     "output_type": "stream",
     "text": [
      "156\n",
      "7.14353800918326e-195\n",
      "184\n",
      "7.934287502607587e-285\n",
      "226\n",
      "2.9591540218663796e-285\n",
      "367\n",
      "1.541756488855807e-280\n",
      "515\n",
      "1.0\n",
      "709\n",
      "1.413e-321\n"
     ]
    }
   ],
   "source": [
    "for i in range(len(preds_baseline[0])):\n",
    "    if preds_baseline[0][i]!=0:\n",
    "        print(i)\n",
    "        print(preds_baseline[0][i])\n"
   ]
  },
  {
   "cell_type": "code",
   "execution_count": 66,
   "metadata": {},
   "outputs": [],
   "source": [
    "#two function\n",
    "def sparse_to_idx(data,pad_idx=1):\n",
    "    indexes = data.nonzero()\n",
    "    indexes_df = pd.DataFrame()\n",
    "    indexes_df['rows'] = indexes[0]\n",
    "    indexes_df['cols'] = indexes[1]\n",
    "    mdf = indexes_df.groupby('rows').apply(lambda x:x['cols'].tolist())\n",
    "    max_len = mdf.apply(lambda x:len(x)).max()\n",
    "    return mdf.apply(lambda x:pd.Series(x+[pad_idx]*(max_len-len(x)))).values\n",
    "\n",
    "def idx_to_sparse(idx,sparse_dim):\n",
    "    sparse = np.zeros(sparse_dim)\n",
    "    sparse[int(idx)]=1\n",
    "    return pd.Series(sparse,dtype=int)\n"
   ]
  },
  {
   "cell_type": "code",
   "execution_count": 67,
   "metadata": {},
   "outputs": [],
   "source": [
    "import torch \n",
    "device = 'cuda' if torch.cuda.is_available()else 'cpu'\n"
   ]
  },
  {
   "cell_type": "code",
   "execution_count": 68,
   "metadata": {},
   "outputs": [
    {
     "ename": "RuntimeError",
     "evalue": "CUDA out of memory. Tried to allocate 430.00 MiB (GPU 0; 4.00 GiB total capacity; 2.72 GiB already allocated; 16.20 MiB free; 2.91 GiB reserved in total by PyTorch)",
     "output_type": "error",
     "traceback": [
      "\u001b[1;31m---------------------------------------------------------------------------\u001b[0m",
      "\u001b[1;31mRuntimeError\u001b[0m                              Traceback (most recent call last)",
      "\u001b[1;32m<ipython-input-68-d4d0aef72275>\u001b[0m in \u001b[0;36m<module>\u001b[1;34m\u001b[0m\n\u001b[0;32m     11\u001b[0m ).to_dense().to(device)\n\u001b[0;32m     12\u001b[0m \u001b[1;31m# tensor with binary features\u001b[0m\u001b[1;33m\u001b[0m\u001b[1;33m\u001b[0m\u001b[1;33m\u001b[0m\u001b[0m\n\u001b[1;32m---> 13\u001b[1;33m movies_train_idx = torch.Tensor(\n\u001b[0m\u001b[0;32m     14\u001b[0m     \u001b[0msparse_to_idx\u001b[0m\u001b[1;33m(\u001b[0m\u001b[0mprev_movies_train\u001b[0m\u001b[1;33m,\u001b[0m \u001b[0mpad_idx\u001b[0m\u001b[1;33m=\u001b[0m\u001b[0mPAD_IDX\u001b[0m\u001b[1;33m)\u001b[0m\u001b[1;33m,\u001b[0m\u001b[1;33m\u001b[0m\u001b[1;33m\u001b[0m\u001b[0m\n\u001b[0;32m     15\u001b[0m ).long().to(device)\n",
      "\u001b[1;31mRuntimeError\u001b[0m: CUDA out of memory. Tried to allocate 430.00 MiB (GPU 0; 4.00 GiB total capacity; 2.72 GiB already allocated; 16.20 MiB free; 2.91 GiB reserved in total by PyTorch)"
     ]
    }
   ],
   "source": [
    "#create tensor to train\n",
    "# Train part\n",
    "PAD_IDX = 0\n",
    "# tensor with continious features\n",
    "X_train_tensor = torch.Tensor(X_train.fillna(0).values).to(device)\n",
    "# tensor with sequence of indexes\n",
    "movies_train_tensor = torch.sparse_coo_tensor(\n",
    "    indices=prev_movies_train.nonzero(), \n",
    "    values=[1]*len(prev_movies_train.nonzero()[0]),\n",
    "    size=prev_movies_train.shape\n",
    ").to_dense().to(device)\n",
    "# tensor with binary features\n",
    "movies_train_idx = torch.Tensor(\n",
    "    sparse_to_idx(prev_movies_train, pad_idx=PAD_IDX),\n",
    ").long().to(device)\n",
    "# target\n",
    "target_train = torch.Tensor(y_train.values).long().to(device)\n",
    "\n",
    "X_test_tensor = torch.Tensor(X_test.fillna(0).values).to(device)\n",
    "# tensor with continious features\n",
    "movies_test_tensor = torch.sparse_coo_tensor(\n",
    "    indices=prev_movies_test.nonzero(), \n",
    "    values=[1]*len(prev_movies_test.nonzero()[0]),\n",
    "    size=prev_movies_test.shape\n",
    ").to_dense().to(device)\n",
    "# tensor with binary features\n",
    "movies_test_idx = torch.Tensor(\n",
    "    sparse_to_idx(prev_movies_test, pad_idx=PAD_IDX),\n",
    ").long().to(device)\n",
    "# target\n",
    "target_test = torch.Tensor(y_test.values).long().to(device)"
   ]
  },
  {
   "cell_type": "code",
   "execution_count": null,
   "metadata": {},
   "outputs": [],
   "source": [
    "from torch import nn,cat,mean\n",
    "class WideAndDeep(nn.Module):\n",
    "    def __init__(self,continious_feature_shape,embed_size,embed_dict_len, \n",
    "        pad_idx):\n",
    "        super(WideAndDeep,self).__init__()\n",
    "        self.embed = nn.Embedding(embed_dict_len,embed_size,padding_idx=pad_idx)\n",
    "        self.linear_relu_stack = nn.Sequential(\n",
    "            nn.Linear(embed_size+continious_feature_shape,1024), \n",
    "            nn.ReLU(),\n",
    "            nn.Linear(1024,512), \n",
    "            nn.ReLU(), \n",
    "            nn.Linear(512,256), \n",
    "            nn.ReLU())\n",
    "        self.head = nn.Sequential(\n",
    "            nn.Linear(embed_dict_len+256,embed_dict_len), \n",
    "        )\n",
    "\n",
    "    def forward(self,continious,binary,binary_idx):\n",
    "        binary_embed = self.embed(binary_idx)\n",
    "        binary_embed_mean = mean(binary_embed,dim=1)\n",
    "        deep_logits = self.linear_relu_stack(cat(continious,binary_embed_mean),dim=1)\n",
    "        total_logits = self.head(cat((deep_logits,binary),dim=1))\n",
    "        return total_logits\n",
    "        "
   ]
  },
  {
   "cell_type": "code",
   "execution_count": null,
   "metadata": {},
   "outputs": [],
   "source": [
    "model = WideAndDeep(X_train.shape[1],16,items['movie id'].nunique()+1,PAD_IDX).to(device)\n",
    "print(model)"
   ]
  },
  {
   "cell_type": "code",
   "execution_count": null,
   "metadata": {},
   "outputs": [],
   "source": [
    "#train\n",
    "EPOCHS = 10 \n",
    "loss_fn = nn.CrossEntropyLoss(ignore_index=PAD_IDX)\n",
    "optimizer = torch.optim.Adam(model.parameters(),lr=1e-3)\n",
    "for  t in range(EPOCHS):\n",
    "    model.train()\n",
    "    pred_train = model(X_train_tensor,movies_train_tensor,movies_train_idx)\n",
    "    loss_train = loss_fn(pred_train,target_train)\n",
    "    optimizer.zero_grad()\n",
    "    loss_train.backward()\n",
    "    optimizer.step()\n",
    "    \n",
    "    model.eval()\n",
    "    with torch.no_grad():\n",
    "        pred_test = model(X_test_tensor,movies_test_tensor,movies_test_idx)\n",
    "        loss_test = loss_fn(pred_test,target_test)\n",
    "\n",
    "        print(f'EPochs{t}')\n",
    "        print(f'Train loss:{loss_train:>7f}')\n",
    "        print(f'Test loss:{loss_test:>7f}')\n"
   ]
  }
 ],
 "metadata": {
  "interpreter": {
   "hash": "0843aa2147bb7b68e1331c060614b1ebfeaba0f0db744f4b489daeb337a1f0b2"
  },
  "kernelspec": {
   "display_name": "Python 3.8.3 64-bit",
   "language": "python",
   "name": "python3"
  },
  "language_info": {
   "codemirror_mode": {
    "name": "ipython",
    "version": 3
   },
   "file_extension": ".py",
   "mimetype": "text/x-python",
   "name": "python",
   "nbconvert_exporter": "python",
   "pygments_lexer": "ipython3",
   "version": "3.8.3"
  },
  "orig_nbformat": 4
 },
 "nbformat": 4,
 "nbformat_minor": 2
}
