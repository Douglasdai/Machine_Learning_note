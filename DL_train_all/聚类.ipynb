{
 "cells": [
  {
   "cell_type": "code",
   "execution_count": 105,
   "metadata": {},
   "outputs": [],
   "source": [
    "import numpy as np\n",
    "import pandas as pd\n",
    "import os\n",
    "import matplotlib.pyplot as plt \n",
    "from keras.models import Sequential\n",
    "from keras.layers import Activation, Dense\n",
    "from keras.layers import LSTM\n",
    "from keras.layers import Dropout\n",
    "from keras import  layers\n",
    "import keras\n",
    "from sklearn import datasets\n",
    "import matplotlib.pyplot as plt"
   ]
  },
  {
   "cell_type": "code",
   "execution_count": 106,
   "metadata": {},
   "outputs": [
    {
     "data": {
      "text/html": [
       "<div>\n",
       "<style scoped>\n",
       "    .dataframe tbody tr th:only-of-type {\n",
       "        vertical-align: middle;\n",
       "    }\n",
       "\n",
       "    .dataframe tbody tr th {\n",
       "        vertical-align: top;\n",
       "    }\n",
       "\n",
       "    .dataframe thead th {\n",
       "        text-align: right;\n",
       "    }\n",
       "</style>\n",
       "<table border=\"1\" class=\"dataframe\">\n",
       "  <thead>\n",
       "    <tr style=\"text-align: right;\">\n",
       "      <th></th>\n",
       "      <th>海拔高度(m)</th>\n",
       "      <th>经度</th>\n",
       "      <th>纬度</th>\n",
       "      <th>平均气温(℃)</th>\n",
       "      <th>平均最高气温(℃)</th>\n",
       "      <th>平均最低气温(℃)</th>\n",
       "      <th>平均气温≤0℃的天数</th>\n",
       "      <th>平均风速(knots)</th>\n",
       "      <th>平均最大持续风速(knots)</th>\n",
       "      <th>单日最大平均风速(knots)</th>\n",
       "    </tr>\n",
       "  </thead>\n",
       "  <tbody>\n",
       "    <tr>\n",
       "      <th>1991-01</th>\n",
       "      <td>256.0</td>\n",
       "      <td>-34.616667</td>\n",
       "      <td>-77.866667</td>\n",
       "      <td>-3.28</td>\n",
       "      <td>0.12</td>\n",
       "      <td>-6.19</td>\n",
       "      <td>29.0</td>\n",
       "      <td>6.99</td>\n",
       "      <td>13.03</td>\n",
       "      <td>28.0</td>\n",
       "    </tr>\n",
       "    <tr>\n",
       "      <th>1991-02</th>\n",
       "      <td>256.0</td>\n",
       "      <td>-34.616667</td>\n",
       "      <td>-77.866667</td>\n",
       "      <td>-6.42</td>\n",
       "      <td>-2.68</td>\n",
       "      <td>-9.45</td>\n",
       "      <td>26.0</td>\n",
       "      <td>8.88</td>\n",
       "      <td>15.08</td>\n",
       "      <td>49.9</td>\n",
       "    </tr>\n",
       "    <tr>\n",
       "      <th>1991-03</th>\n",
       "      <td>256.0</td>\n",
       "      <td>-34.616667</td>\n",
       "      <td>-77.866667</td>\n",
       "      <td>-13.22</td>\n",
       "      <td>-9.73</td>\n",
       "      <td>-16.29</td>\n",
       "      <td>26.0</td>\n",
       "      <td>6.56</td>\n",
       "      <td>16.14</td>\n",
       "      <td>44.9</td>\n",
       "    </tr>\n",
       "    <tr>\n",
       "      <th>1991-04</th>\n",
       "      <td>256.0</td>\n",
       "      <td>-34.616667</td>\n",
       "      <td>-77.866667</td>\n",
       "      <td>-17.08</td>\n",
       "      <td>-13.37</td>\n",
       "      <td>-21.16</td>\n",
       "      <td>29.0</td>\n",
       "      <td>8.36</td>\n",
       "      <td>15.33</td>\n",
       "      <td>42.0</td>\n",
       "    </tr>\n",
       "    <tr>\n",
       "      <th>1991-05</th>\n",
       "      <td>256.0</td>\n",
       "      <td>-34.616667</td>\n",
       "      <td>-77.866667</td>\n",
       "      <td>-19.63</td>\n",
       "      <td>-15.64</td>\n",
       "      <td>-23.37</td>\n",
       "      <td>30.0</td>\n",
       "      <td>10.02</td>\n",
       "      <td>19.38</td>\n",
       "      <td>61.0</td>\n",
       "    </tr>\n",
       "  </tbody>\n",
       "</table>\n",
       "</div>"
      ],
      "text/plain": [
       "         海拔高度(m)         经度         纬度  平均气温(℃)  平均最高气温(℃)  平均最低气温(℃)  \\\n",
       "1991-01    256.0 -34.616667 -77.866667    -3.28       0.12      -6.19   \n",
       "1991-02    256.0 -34.616667 -77.866667    -6.42      -2.68      -9.45   \n",
       "1991-03    256.0 -34.616667 -77.866667   -13.22      -9.73     -16.29   \n",
       "1991-04    256.0 -34.616667 -77.866667   -17.08     -13.37     -21.16   \n",
       "1991-05    256.0 -34.616667 -77.866667   -19.63     -15.64     -23.37   \n",
       "\n",
       "         平均气温≤0℃的天数  平均风速(knots)  平均最大持续风速(knots)  单日最大平均风速(knots)  \n",
       "1991-01        29.0         6.99            13.03             28.0  \n",
       "1991-02        26.0         8.88            15.08             49.9  \n",
       "1991-03        26.0         6.56            16.14             44.9  \n",
       "1991-04        29.0         8.36            15.33             42.0  \n",
       "1991-05        30.0        10.02            19.38             61.0  "
      ]
     },
     "execution_count": 106,
     "metadata": {},
     "output_type": "execute_result"
    }
   ],
   "source": [
    "#load data\n",
    "path = 'D:\\ML_data_sql\\\\2022数模美赛选拔赛\\\\all'\n",
    "data5 = pd.read_excel(os.path.join(path,'all5.xlsx'),engine='openpyxl')\n",
    "df2= data5.drop(data5.columns[[9,10,11,12,14,15,16,17,18,19,20,21,22,23,24,-2,-1]], axis=1)\n",
    "df2 = df2.fillna(method='pad',axis=1)\n",
    "# print(np.any(df2.isnull())) \n",
    "df2_index = pd.period_range('1991-01',periods=df2.shape[0],freq='M')\n",
    "df2 = df2.drop(df2.columns[[0,4,5]],axis=1)\n",
    "df2.index = df2_index\n",
    "# #数据处理结束\n",
    "df2.head()"
   ]
  },
  {
   "cell_type": "code",
   "execution_count": 107,
   "metadata": {},
   "outputs": [],
   "source": [
    "#归一化处理\n",
    "from sklearn.preprocessing import MinMaxScaler\n",
    "\n",
    "vis = df2['平均气温(℃)'].values"
   ]
  },
  {
   "cell_type": "code",
   "execution_count": 108,
   "metadata": {},
   "outputs": [
    {
     "data": {
      "image/png": "[encoded data removed]",
      "text/plain": [
       "<Figure size 432x288 with 1 Axes>"
      ]
     },
     "metadata": {
      "needs_background": "light"
     },
     "output_type": "display_data"
    },
    {
     "data": {
      "text/plain": [
       "[-3.28,\n",
       " -1.47,\n",
       " -4.48,\n",
       " -2.96,\n",
       " -3.83,\n",
       " -1.64,\n",
       " -1.66,\n",
       " -2.65,\n",
       " 1.0,\n",
       " -2.56,\n",
       " -2.59,\n",
       " -2.56,\n",
       " 1.0,\n",
       " -2.23,\n",
       " -0.28,\n",
       " -1.87,\n",
       " 0.04,\n",
       " -2.49,\n",
       " -2.59,\n",
       " -1.28,\n",
       " -3.56,\n",
       " -3.82,\n",
       " -2.06,\n",
       " -3.88,\n",
       " -1.47,\n",
       " -3.23,\n",
       " -1.63,\n",
       " -2.26,\n",
       " -3.13,\n",
       " -1.03,\n",
       " -3.58]"
      ]
     },
     "execution_count": 108,
     "metadata": {},
     "output_type": "execute_result"
    }
   ],
   "source": [
    "one =[]\n",
    "for i in range(0,len(vis),12):\n",
    "    one.append(vis[i])\n",
    "\n",
    "plt.plot(one)\n",
    "plt.show()\n",
    "one"
   ]
  },
  {
   "cell_type": "code",
   "execution_count": 109,
   "metadata": {},
   "outputs": [],
   "source": [
    "vis = vis.reshape(-1,1)\n",
    "scaler = MinMaxScaler(feature_range=(0,1))\n",
    "scaled_data = scaler.fit_transform(vis)\n",
    "# print(scaled_data)\n",
    "scaled_data_series = scaled_data.reshape(-1,1)\n",
    "def split_sequence(sequence, n_steps):\n",
    "    X, y = list(), list()\n",
    "    for i in range(len(sequence)):\n",
    "        # find the end of this pattern\n",
    "        end_ix = i + n_steps\n",
    "        # check if we are beyond the sequence\n",
    "        if end_ix > len(sequence)-1:\n",
    "            break\n",
    "        # gather input and output parts of the pattern\n",
    "        seq_x, seq_y = sequence[i:end_ix], sequence[end_ix][-1]\n",
    "        X.append(seq_x)\n",
    "        y.append(seq_y)\n",
    "    return np.array(X), np.array(y)"
   ]
  },
  {
   "cell_type": "code",
   "execution_count": 110,
   "metadata": {},
   "outputs": [
    {
     "data": {
      "text/plain": [
       "(371, 1)"
      ]
     },
     "execution_count": 110,
     "metadata": {},
     "output_type": "execute_result"
    }
   ],
   "source": [
    "scaled_data_series.shape"
   ]
  },
  {
   "cell_type": "code",
   "execution_count": 111,
   "metadata": {},
   "outputs": [],
   "source": [
    "raw_seq = scaled_data_series\n",
    "\n",
    "# choose a number of time steps\n",
    "#设置步长\n",
    "n_steps = 12\n",
    "\n",
    "# split into samples\n",
    "X, y = split_sequence(raw_seq, n_steps)\n"
   ]
  },
  {
   "cell_type": "code",
   "execution_count": 112,
   "metadata": {},
   "outputs": [
    {
     "name": "stdout",
     "output_type": "stream",
     "text": [
      "(359, 12, 1) (359,)\n"
     ]
    }
   ],
   "source": [
    "print(X.shape,y.shape)"
   ]
  },
  {
   "cell_type": "code",
   "execution_count": 113,
   "metadata": {},
   "outputs": [],
   "source": [
    "\n",
    "train_data = X[:-24]\n",
    "test_data = X[-24:]\n",
    "\n",
    "train_y = y[:-24]\n",
    "test_y = y[-24:]\n",
    "\n",
    "y1 = np.arange(1,train_data.shape[0]+1) \n",
    "y2 = np.arange(train_data.shape[0],train_data.shape[0]+test_data.shape[0])\n",
    "\n",
    "# plt.plot(y1, train_data, 'r', y2, test_data, 'b')\n",
    "# plt.show()"
   ]
  },
  {
   "cell_type": "code",
   "execution_count": 114,
   "metadata": {},
   "outputs": [
    {
     "data": {
      "text/plain": [
       "(335, 12, 1)"
      ]
     },
     "execution_count": 114,
     "metadata": {},
     "output_type": "execute_result"
    }
   ],
   "source": [
    "train_data.shape"
   ]
  },
  {
   "cell_type": "code",
   "execution_count": 115,
   "metadata": {},
   "outputs": [
    {
     "name": "stdout",
     "output_type": "stream",
     "text": [
      "Epoch 1/100\n",
      "168/168 - 1s - loss: 0.0597\n",
      "Epoch 2/100\n",
      "168/168 - 1s - loss: 0.0386\n",
      "Epoch 3/100\n",
      "168/168 - 0s - loss: 0.0302\n",
      "Epoch 4/100\n",
      "168/168 - 0s - loss: 0.0213\n",
      "Epoch 5/100\n",
      "168/168 - 0s - loss: 0.0236\n",
      "Epoch 6/100\n",
      "168/168 - 0s - loss: 0.0162\n",
      "Epoch 7/100\n",
      "168/168 - 0s - loss: 0.0154\n",
      "Epoch 8/100\n",
      "168/168 - 1s - loss: 0.0145\n",
      "Epoch 9/100\n",
      "168/168 - 1s - loss: 0.0139\n",
      "Epoch 10/100\n",
      "168/168 - 0s - loss: 0.0122\n",
      "Epoch 11/100\n",
      "168/168 - 1s - loss: 0.0137\n",
      "Epoch 12/100\n",
      "168/168 - 1s - loss: 0.0122\n",
      "Epoch 13/100\n",
      "168/168 - 0s - loss: 0.0112\n",
      "Epoch 14/100\n",
      "168/168 - 1s - loss: 0.0109\n",
      "Epoch 15/100\n",
      "168/168 - 1s - loss: 0.0110\n",
      "Epoch 16/100\n",
      "168/168 - 0s - loss: 0.0110\n",
      "Epoch 17/100\n",
      "168/168 - 0s - loss: 0.0106\n",
      "Epoch 18/100\n",
      "168/168 - 0s - loss: 0.0105\n",
      "Epoch 19/100\n",
      "168/168 - 0s - loss: 0.0103\n",
      "Epoch 20/100\n",
      "168/168 - 1s - loss: 0.0107\n",
      "Epoch 21/100\n",
      "168/168 - 1s - loss: 0.0097\n",
      "Epoch 22/100\n",
      "168/168 - 0s - loss: 0.0098\n",
      "Epoch 23/100\n",
      "168/168 - 0s - loss: 0.0105\n",
      "Epoch 24/100\n",
      "168/168 - 1s - loss: 0.0100\n",
      "Epoch 25/100\n",
      "168/168 - 1s - loss: 0.0096\n",
      "Epoch 26/100\n",
      "168/168 - 0s - loss: 0.0090\n",
      "Epoch 27/100\n",
      "168/168 - 1s - loss: 0.0089\n",
      "Epoch 28/100\n",
      "168/168 - 1s - loss: 0.0092\n",
      "Epoch 29/100\n",
      "168/168 - 1s - loss: 0.0091\n",
      "Epoch 30/100\n",
      "168/168 - 0s - loss: 0.0092\n",
      "Epoch 31/100\n",
      "168/168 - 1s - loss: 0.0087\n",
      "Epoch 32/100\n",
      "168/168 - 1s - loss: 0.0087\n",
      "Epoch 33/100\n",
      "168/168 - 0s - loss: 0.0084\n",
      "Epoch 34/100\n",
      "168/168 - 1s - loss: 0.0086\n",
      "Epoch 35/100\n",
      "168/168 - 1s - loss: 0.0088\n",
      "Epoch 36/100\n",
      "168/168 - 0s - loss: 0.0082\n",
      "Epoch 37/100\n",
      "168/168 - 1s - loss: 0.0082\n",
      "Epoch 38/100\n",
      "168/168 - 1s - loss: 0.0081\n",
      "Epoch 39/100\n",
      "168/168 - 1s - loss: 0.0082\n",
      "Epoch 40/100\n",
      "168/168 - 0s - loss: 0.0083\n",
      "Epoch 41/100\n",
      "168/168 - 0s - loss: 0.0076\n",
      "Epoch 42/100\n",
      "168/168 - 0s - loss: 0.0081\n",
      "Epoch 43/100\n",
      "168/168 - 0s - loss: 0.0075\n",
      "Epoch 44/100\n",
      "168/168 - 0s - loss: 0.0081\n",
      "Epoch 45/100\n",
      "168/168 - 1s - loss: 0.0079\n",
      "Epoch 46/100\n",
      "168/168 - 1s - loss: 0.0074\n",
      "Epoch 47/100\n",
      "168/168 - 0s - loss: 0.0077\n",
      "Epoch 48/100\n",
      "168/168 - 1s - loss: 0.0074\n",
      "Epoch 49/100\n",
      "168/168 - 0s - loss: 0.0075\n",
      "Epoch 50/100\n",
      "168/168 - 0s - loss: 0.0072\n",
      "Epoch 51/100\n",
      "168/168 - 0s - loss: 0.0075\n",
      "Epoch 52/100\n",
      "168/168 - 0s - loss: 0.0073\n",
      "Epoch 53/100\n",
      "168/168 - 0s - loss: 0.0073\n",
      "Epoch 54/100\n",
      "168/168 - 1s - loss: 0.0069\n",
      "Epoch 55/100\n",
      "168/168 - 1s - loss: 0.0068\n",
      "Epoch 56/100\n",
      "168/168 - 0s - loss: 0.0075\n",
      "Epoch 57/100\n",
      "168/168 - 1s - loss: 0.0072\n",
      "Epoch 58/100\n",
      "168/168 - 0s - loss: 0.0068\n",
      "Epoch 59/100\n",
      "168/168 - 0s - loss: 0.0072\n",
      "Epoch 60/100\n",
      "168/168 - 0s - loss: 0.0071\n",
      "Epoch 61/100\n",
      "168/168 - 0s - loss: 0.0070\n",
      "Epoch 62/100\n",
      "168/168 - 0s - loss: 0.0068\n",
      "Epoch 63/100\n",
      "168/168 - 0s - loss: 0.0065\n",
      "Epoch 64/100\n",
      "168/168 - 1s - loss: 0.0065\n",
      "Epoch 65/100\n",
      "168/168 - 0s - loss: 0.0069\n",
      "Epoch 66/100\n",
      "168/168 - 0s - loss: 0.0066\n",
      "Epoch 67/100\n",
      "168/168 - 1s - loss: 0.0065\n",
      "Epoch 68/100\n",
      "168/168 - 1s - loss: 0.0066\n",
      "Epoch 69/100\n",
      "168/168 - 1s - loss: 0.0063\n",
      "Epoch 70/100\n",
      "168/168 - 1s - loss: 0.0064\n",
      "Epoch 71/100\n",
      "168/168 - 0s - loss: 0.0069\n",
      "Epoch 72/100\n",
      "168/168 - 0s - loss: 0.0063\n",
      "Epoch 73/100\n",
      "168/168 - 1s - loss: 0.0062\n",
      "Epoch 74/100\n",
      "168/168 - 0s - loss: 0.0062\n",
      "Epoch 75/100\n",
      "168/168 - 0s - loss: 0.0067\n",
      "Epoch 76/100\n",
      "168/168 - 1s - loss: 0.0065\n",
      "Epoch 77/100\n",
      "168/168 - 0s - loss: 0.0066\n",
      "Epoch 78/100\n",
      "168/168 - 0s - loss: 0.0066\n",
      "Epoch 79/100\n",
      "168/168 - 0s - loss: 0.0063\n",
      "Epoch 80/100\n",
      "168/168 - 0s - loss: 0.0070\n",
      "Epoch 81/100\n",
      "168/168 - 1s - loss: 0.0067\n",
      "Epoch 82/100\n",
      "168/168 - 0s - loss: 0.0064\n",
      "Epoch 83/100\n",
      "168/168 - 0s - loss: 0.0063\n",
      "Epoch 84/100\n",
      "168/168 - 0s - loss: 0.0064\n",
      "Epoch 85/100\n",
      "168/168 - 0s - loss: 0.0063\n",
      "Epoch 86/100\n",
      "168/168 - 0s - loss: 0.0062\n",
      "Epoch 87/100\n",
      "168/168 - 0s - loss: 0.0061\n",
      "Epoch 88/100\n",
      "168/168 - 0s - loss: 0.0062\n",
      "Epoch 89/100\n",
      "168/168 - 1s - loss: 0.0059\n",
      "Epoch 90/100\n",
      "168/168 - 0s - loss: 0.0062\n",
      "Epoch 91/100\n",
      "168/168 - 1s - loss: 0.0061\n",
      "Epoch 92/100\n",
      "168/168 - 0s - loss: 0.0061\n",
      "Epoch 93/100\n",
      "168/168 - 0s - loss: 0.0059\n",
      "Epoch 94/100\n",
      "168/168 - 0s - loss: 0.0064\n",
      "Epoch 95/100\n",
      "168/168 - 1s - loss: 0.0060\n",
      "Epoch 96/100\n",
      "168/168 - 0s - loss: 0.0061\n",
      "Epoch 97/100\n",
      "168/168 - 1s - loss: 0.0063\n",
      "Epoch 98/100\n",
      "168/168 - 1s - loss: 0.0059\n",
      "Epoch 99/100\n",
      "168/168 - 1s - loss: 0.0056\n",
      "Epoch 100/100\n",
      "168/168 - 1s - loss: 0.0057\n"
     ]
    },
    {
     "data": {
      "image/png": "[encoded data removed]",
      "text/plain": [
       "<Figure size 432x288 with 1 Axes>"
      ]
     },
     "metadata": {
      "needs_background": "light"
     },
     "output_type": "display_data"
    }
   ],
   "source": [
    "n_features = 1\n",
    "train_data = train_data.reshape(train_data.shape[0], train_data.shape[1], n_features)\n",
    "test_data = test_data.reshape(test_data.shape[0], test_data.shape[1], n_features)\n",
    "model = Sequential()\n",
    "model.add(LSTM(50, activation='relu', input_shape=(n_steps, n_features)))\n",
    "model.add(Dense(1))\n",
    "model.compile(optimizer='adam', loss='mse')\n",
    "\n",
    "history = model.fit(train_data, train_y, epochs=100, batch_size=2, verbose=2)\n",
    "plt.plot(history.history['loss'])\n",
    "plt.savefig('loss')\n",
    "plt.show()"
   ]
  },
  {
   "cell_type": "code",
   "execution_count": 116,
   "metadata": {},
   "outputs": [
    {
     "name": "stdout",
     "output_type": "stream",
     "text": [
      "1/1 - 0s\n",
      "11/11 - 0s\n",
      "(24,) (24,)\n"
     ]
    }
   ],
   "source": [
    "predictions = model.predict(test_data, verbose=2)\n",
    "train_pre = model.predict(train_data,verbose=2)\n",
    "predictions = predictions.reshape(predictions.shape[0])\n",
    "print(predictions.shape, test_y.shape)"
   ]
  },
  {
   "cell_type": "code",
   "execution_count": 69,
   "metadata": {},
   "outputs": [
    {
     "name": "stdout",
     "output_type": "stream",
     "text": [
      "359\n",
      "(335, 1) (24,)\n"
     ]
    }
   ],
   "source": [
    "show_data = np.hstack((train_y,test_y))\n",
    "print(len(show_data))\n",
    "print(train_pre.shape,predictions.shape)\n",
    "train_pre = train_pre.squeeze()\n",
    "pre_data = np.hstack((train_pre,predictions))"
   ]
  },
  {
   "cell_type": "code",
   "execution_count": 51,
   "metadata": {},
   "outputs": [
    {
     "data": {
      "text/plain": [
       "array([0.62744343, 0.51430506, 0.3747241 , 0.6934701 , 0.77425915,\n",
       "       0.8118    , 0.8443652 , 0.8703584 , 0.88721365, 0.8887572 ,\n",
       "       0.8689034 , 0.86609375, 0.8364053 , 0.56907177, 0.4115228 ,\n",
       "       0.27931267, 0.21561536, 0.19014162, 0.15527886, 0.14253262,\n",
       "       0.18233645, 0.28784746, 0.45870578, 0.60725003, 0.66877776,\n",
       "       0.5616825 , 0.42351872, 0.30258533, 0.176194  , 0.14939529],\n",
       "      dtype=float32)"
      ]
     },
     "execution_count": 51,
     "metadata": {},
     "output_type": "execute_result"
    }
   ],
   "source": [
    "train_pre[120:150]"
   ]
  },
  {
   "cell_type": "code",
   "execution_count": 70,
   "metadata": {},
   "outputs": [
    {
     "data": {
      "text/plain": [
       "((191,), (24,))"
      ]
     },
     "execution_count": 70,
     "metadata": {},
     "output_type": "execute_result"
    }
   ],
   "source": [
    "pre_18 = train_pre[144:]\n",
    "pre_18.shape,predictions.shape"
   ]
  },
  {
   "cell_type": "code",
   "execution_count": 72,
   "metadata": {},
   "outputs": [
    {
     "data": {
      "text/plain": [
       "(215,)"
      ]
     },
     "execution_count": 72,
     "metadata": {},
     "output_type": "execute_result"
    }
   ],
   "source": [
    "predict = np.hstack((pre_18, predictions))\n",
    "# predict.shape\n",
    "predict = predict.reshape(-1,1)\n",
    "pre_train,_ =split_sequence(predict,12)\n",
    "pre_2022 = model.predict(pre_train,verbose=2)"
   ]
  },
  {
   "cell_type": "code",
   "execution_count": 82,
   "metadata": {},
   "outputs": [
    {
     "name": "stdout",
     "output_type": "stream",
     "text": [
      "6/6 - 0s\n"
     ]
    }
   ],
   "source": [
    "pre_2022 = pre_2022.reshape(-1,1)\n",
    "pre_train,_ =split_sequence(pre_2022,12)\n",
    "pre_2023 = model.predict(pre_train,verbose=2)"
   ]
  },
  {
   "cell_type": "code",
   "execution_count": 87,
   "metadata": {},
   "outputs": [
    {
     "name": "stdout",
     "output_type": "stream",
     "text": [
      "6/6 - 0s\n"
     ]
    }
   ],
   "source": [
    "pre_2023 = pre_2023.reshape(-1,1)\n",
    "pre_train,_ =split_sequence(pre_2023,12)\n",
    "pre_2024 = model.predict(pre_train,verbose=2)"
   ]
  },
  {
   "cell_type": "code",
   "execution_count": 88,
   "metadata": {},
   "outputs": [
    {
     "data": {
      "image/png": "[encoded data removed]",
      "text/plain": [
       "<Figure size 432x288 with 1 Axes>"
      ]
     },
     "metadata": {
      "needs_background": "light"
     },
     "output_type": "display_data"
    }
   ],
   "source": [
    "pre_2024_real = scaler.inverse_transform(pre_2024)\n",
    "# print(pre_2022_real)\n",
    "# plt.plot(pre_2022_real)\n",
    "# plt.show()\n",
    "aaa = []\n",
    "for i in range(0,len(pre_2024_real),12):\n",
    "    aaa.append(pre_2024_real[i])\n",
    "\n",
    "plt.plot(aaa)\n",
    "plt.show()"
   ]
  },
  {
   "cell_type": "code",
   "execution_count": 86,
   "metadata": {},
   "outputs": [
    {
     "data": {
      "image/png": "[encoded data removed]",
      "text/plain": [
       "<Figure size 432x288 with 1 Axes>"
      ]
     },
     "metadata": {
      "needs_background": "light"
     },
     "output_type": "display_data"
    },
    {
     "data": {
      "text/plain": [
       "array([[ -1.6258031],\n",
       "       [ -5.229222 ],\n",
       "       [ -9.173869 ],\n",
       "       [-13.129282 ],\n",
       "       [-16.307646 ],\n",
       "       [-17.500237 ],\n",
       "       [-18.930655 ],\n",
       "       [-19.090883 ],\n",
       "       [-17.352386 ],\n",
       "       [-12.81212  ],\n",
       "       [ -5.899347 ],\n",
       "       [ -1.8332793],\n",
       "       [ -1.4358362],\n",
       "       [ -3.741906 ],\n",
       "       [ -9.282225 ],\n",
       "       [-13.060114 ],\n",
       "       [-16.03092  ],\n",
       "       [-18.055843 ],\n",
       "       [-19.633478 ],\n",
       "       [-19.423883 ],\n",
       "       [-17.327324 ],\n",
       "       [-12.810343 ],\n",
       "       [ -5.641087 ],\n",
       "       [ -1.5180409],\n",
       "       [ -1.1925333],\n",
       "       [ -4.612046 ],\n",
       "       [ -9.355933 ],\n",
       "       [-13.406686 ],\n",
       "       [-16.130579 ],\n",
       "       [-18.230541 ],\n",
       "       [-19.250353 ],\n",
       "       [-18.990469 ],\n",
       "       [-16.989594 ],\n",
       "       [-12.468835 ],\n",
       "       [ -5.427705 ],\n",
       "       [ -1.5668143],\n",
       "       [ -1.6162571],\n",
       "       [ -5.0837007],\n",
       "       [-10.553159 ],\n",
       "       [-14.225968 ],\n",
       "       [-16.922726 ],\n",
       "       [-18.68982  ],\n",
       "       [-19.544765 ],\n",
       "       [-19.035332 ],\n",
       "       [-16.191626 ],\n",
       "       [-11.550591 ],\n",
       "       [ -4.7468653],\n",
       "       [ -1.4053959],\n",
       "       [ -1.5278869],\n",
       "       [ -5.8664126],\n",
       "       [-10.829382 ],\n",
       "       [-13.995233 ],\n",
       "       [-16.066086 ],\n",
       "       [-18.018476 ],\n",
       "       [-19.093267 ],\n",
       "       [-18.820988 ],\n",
       "       [-16.536272 ],\n",
       "       [-12.0191145],\n",
       "       [ -4.974123 ],\n",
       "       [ -1.2663136],\n",
       "       [ -1.6816599],\n",
       "       [ -6.1006265],\n",
       "       [-10.5965   ],\n",
       "       [-14.616524 ],\n",
       "       [-16.274162 ],\n",
       "       [-18.266651 ],\n",
       "       [-19.169415 ],\n",
       "       [-18.876295 ],\n",
       "       [-16.520319 ],\n",
       "       [-11.755809 ],\n",
       "       [ -4.510017 ],\n",
       "       [ -1.4925638],\n",
       "       [ -1.7901587],\n",
       "       [ -5.746315 ],\n",
       "       [-10.8593235],\n",
       "       [-14.11878  ],\n",
       "       [-15.742949 ],\n",
       "       [-17.717918 ],\n",
       "       [-19.150866 ],\n",
       "       [-19.007875 ],\n",
       "       [-16.705812 ],\n",
       "       [-12.058982 ],\n",
       "       [ -5.2648916],\n",
       "       [ -1.3579634],\n",
       "       [ -1.3700751],\n",
       "       [ -5.4790306],\n",
       "       [-10.284909 ],\n",
       "       [-13.806596 ],\n",
       "       [-16.178112 ],\n",
       "       [-18.24655  ],\n",
       "       [-19.229748 ],\n",
       "       [-19.233631 ],\n",
       "       [-16.69535  ],\n",
       "       [-12.206473 ],\n",
       "       [ -4.916972 ],\n",
       "       [ -1.3328514],\n",
       "       [ -1.932109 ],\n",
       "       [ -5.8217025],\n",
       "       [-10.703553 ],\n",
       "       [-14.59874  ],\n",
       "       [-17.242565 ],\n",
       "       [-18.976263 ],\n",
       "       [-19.699692 ],\n",
       "       [-18.774954 ],\n",
       "       [-15.826224 ],\n",
       "       [-10.630895 ],\n",
       "       [ -4.205043 ],\n",
       "       [ -1.2635195],\n",
       "       [ -1.8356299],\n",
       "       [ -6.225224 ],\n",
       "       [-10.906953 ],\n",
       "       [-13.691609 ],\n",
       "       [-15.909018 ],\n",
       "       [-18.11037  ],\n",
       "       [-18.891642 ],\n",
       "       [-18.691166 ],\n",
       "       [-16.542194 ],\n",
       "       [-11.688306 ],\n",
       "       [ -4.9220114],\n",
       "       [ -1.5046084],\n",
       "       [ -1.4804411],\n",
       "       [ -5.387065 ],\n",
       "       [ -9.781056 ],\n",
       "       [-14.037281 ],\n",
       "       [-16.677292 ],\n",
       "       [-18.542854 ],\n",
       "       [-19.29488  ],\n",
       "       [-19.005934 ],\n",
       "       [-16.710293 ],\n",
       "       [-12.131057 ],\n",
       "       [ -5.095396 ],\n",
       "       [ -1.3082542],\n",
       "       [ -1.4051765],\n",
       "       [ -5.2110925],\n",
       "       [-10.646196 ],\n",
       "       [-14.106954 ],\n",
       "       [-16.61805  ],\n",
       "       [-18.432297 ],\n",
       "       [-19.602594 ],\n",
       "       [-19.022612 ],\n",
       "       [-16.401081 ],\n",
       "       [-11.522386 ],\n",
       "       [ -4.583645 ],\n",
       "       [ -1.1028848],\n",
       "       [ -1.3461317],\n",
       "       [ -5.909513 ],\n",
       "       [-10.580348 ],\n",
       "       [-14.2740135],\n",
       "       [-16.911964 ],\n",
       "       [-17.566683 ],\n",
       "       [-18.617538 ],\n",
       "       [-18.482775 ],\n",
       "       [-16.409342 ],\n",
       "       [-12.139293 ],\n",
       "       [ -5.062372 ],\n",
       "       [ -1.598394 ],\n",
       "       [ -1.9217726],\n",
       "       [ -5.5336895],\n",
       "       [-10.443753 ],\n",
       "       [-14.5495205],\n",
       "       [-17.010956 ],\n",
       "       [-18.647257 ],\n",
       "       [-19.38798  ],\n",
       "       [-18.79526  ],\n",
       "       [-16.416948 ],\n",
       "       [-11.884027 ],\n",
       "       [ -5.057467 ],\n",
       "       [ -1.5199572],\n",
       "       [ -1.4565088],\n",
       "       [ -5.2208066],\n",
       "       [ -9.690933 ],\n",
       "       [-13.292182 ],\n",
       "       [-16.503574 ],\n",
       "       [-18.556461 ],\n",
       "       [-19.343521 ],\n",
       "       [-19.077244 ],\n",
       "       [-16.763166 ],\n",
       "       [-12.421807 ],\n",
       "       [ -5.4117045],\n",
       "       [ -1.2637233],\n",
       "       [ -1.1901064],\n",
       "       [ -4.524016 ],\n",
       "       [ -9.698005 ],\n",
       "       [-14.088611 ],\n",
       "       [-16.45012  ],\n",
       "       [-18.04117  ],\n",
       "       [-19.144182 ],\n",
       "       [-18.841438 ],\n",
       "       [-16.973991 ],\n",
       "       [-12.575597 ],\n",
       "       [ -5.2780466]], dtype=float32)"
      ]
     },
     "execution_count": 86,
     "metadata": {},
     "output_type": "execute_result"
    }
   ],
   "source": [
    "pre_2023_real = scaler.inverse_transform(pre_2023)\n",
    "# print(pre_2022_real)\n",
    "# plt.plot(pre_2022_real)\n",
    "# plt.show()\n",
    "aaa = []\n",
    "for i in range(0,len(pre_2023_real),12):\n",
    "    aaa.append(pre_2023_real[i])\n",
    "\n",
    "plt.plot(aaa)\n",
    "plt.show()\n",
    "# pre_2023_real"
   ]
  },
  {
   "cell_type": "code",
   "execution_count": 85,
   "metadata": {},
   "outputs": [
    {
     "data": {
      "image/png": "[encoded data removed]",
      "text/plain": [
       "<Figure size 432x288 with 1 Axes>"
      ]
     },
     "metadata": {
      "needs_background": "light"
     },
     "output_type": "display_data"
    },
    {
     "data": {
      "text/plain": [
       "[array([-1.8235205], dtype=float32),\n",
       " array([-1.817317], dtype=float32),\n",
       " array([-0.45029575], dtype=float32),\n",
       " array([-1.3799032], dtype=float32),\n",
       " array([-1.7962279], dtype=float32),\n",
       " array([-1.8194729], dtype=float32),\n",
       " array([-2.1401896], dtype=float32),\n",
       " array([-1.6123438], dtype=float32),\n",
       " array([-1.6227248], dtype=float32),\n",
       " array([-2.1333792], dtype=float32),\n",
       " array([-1.7713487], dtype=float32),\n",
       " array([-1.2008727], dtype=float32),\n",
       " array([-1.434231], dtype=float32),\n",
       " array([-1.6957484], dtype=float32),\n",
       " array([-1.3492346], dtype=float32),\n",
       " array([-1.1718786], dtype=float32),\n",
       " array([-0.7313933], dtype=float32)]"
      ]
     },
     "execution_count": 85,
     "metadata": {},
     "output_type": "execute_result"
    }
   ],
   "source": [
    "pre_2022_real = scaler.inverse_transform(pre_2022)\n",
    "# print(pre_2022_real)\n",
    "# plt.plot(pre_2022_real)\n",
    "# plt.show()\n",
    "aaa = []\n",
    "for i in range(0,len(pre_2022_real),12):\n",
    "    aaa.append(pre_2022_real[i])\n",
    "\n",
    "plt.plot(aaa)\n",
    "plt.show()\n",
    "aaa"
   ]
  },
  {
   "cell_type": "code",
   "execution_count": 11,
   "metadata": {},
   "outputs": [
    {
     "data": {
      "image/png": "[encoded data removed]",
      "text/plain": [
       "<Figure size 1152x504 with 1 Axes>"
      ]
     },
     "metadata": {
      "needs_background": "light"
     },
     "output_type": "display_data"
    }
   ],
   "source": [
    "fig = plt.figure(figsize=(16, 7))\n",
    "plt.plot(range(len(show_data)), show_data,'r',range(len(show_data)),pre_data,'b')\n",
    "# plt.savefig('all1.png')\n",
    "plt.show()"
   ]
  },
  {
   "cell_type": "code",
   "execution_count": 90,
   "metadata": {},
   "outputs": [],
   "source": [
    "regressor = Sequential()\n",
    "regressor.add(LSTM(units = 50, return_sequences = True, input_shape = (train_data.shape[1], 1)))\n",
    "regressor.add(Dropout(0.2))\n",
    "regressor.add(LSTM(units = 50, return_sequences = True))\n",
    "regressor.add(Dropout(0.2))\n",
    "regressor.add(LSTM(units = 50, return_sequences = True))\n",
    "regressor.add(Dropout(0.2))\n",
    "regressor.add(LSTM(units = 50))\n",
    "regressor.add(Dropout(0.2))\n",
    "regressor.add(Dense(units = 1))\n",
    "regressor.compile(optimizer = 'adam', loss = 'mean_squared_error')"
   ]
  },
  {
   "cell_type": "code",
   "execution_count": 13,
   "metadata": {},
   "outputs": [
    {
     "name": "stdout",
     "output_type": "stream",
     "text": [
      "Epoch 1/100\n",
      "168/168 - 3s - loss: 0.0652\n",
      "Epoch 2/100\n",
      "168/168 - 3s - loss: 0.0632\n",
      "Epoch 3/100\n",
      "168/168 - 3s - loss: 0.0583\n",
      "Epoch 4/100\n",
      "168/168 - 3s - loss: 0.0603\n",
      "Epoch 5/100\n",
      "168/168 - 3s - loss: 0.0590\n",
      "Epoch 6/100\n",
      "168/168 - 3s - loss: 0.0565\n",
      "Epoch 7/100\n",
      "168/168 - 3s - loss: 0.0588\n",
      "Epoch 8/100\n",
      "168/168 - 3s - loss: 0.0523\n",
      "Epoch 9/100\n",
      "168/168 - 3s - loss: 0.0454\n",
      "Epoch 10/100\n",
      "168/168 - 3s - loss: 0.0393\n",
      "Epoch 11/100\n",
      "168/168 - 3s - loss: 0.0374\n",
      "Epoch 12/100\n",
      "168/168 - 3s - loss: 0.0303\n",
      "Epoch 13/100\n",
      "168/168 - 3s - loss: 0.0243\n",
      "Epoch 14/100\n",
      "168/168 - 3s - loss: 0.0205\n",
      "Epoch 15/100\n",
      "168/168 - 3s - loss: 0.0228\n",
      "Epoch 16/100\n",
      "168/168 - 3s - loss: 0.0199\n",
      "Epoch 17/100\n",
      "168/168 - 3s - loss: 0.0156\n",
      "Epoch 18/100\n",
      "168/168 - 3s - loss: 0.0158\n",
      "Epoch 19/100\n",
      "168/168 - 3s - loss: 0.0157\n",
      "Epoch 20/100\n",
      "168/168 - 3s - loss: 0.0140\n",
      "Epoch 21/100\n",
      "168/168 - 3s - loss: 0.0118\n",
      "Epoch 22/100\n",
      "168/168 - 3s - loss: 0.0127\n",
      "Epoch 23/100\n",
      "168/168 - 3s - loss: 0.0136\n",
      "Epoch 24/100\n",
      "168/168 - 3s - loss: 0.0125\n",
      "Epoch 25/100\n",
      "168/168 - 3s - loss: 0.0118\n",
      "Epoch 26/100\n",
      "168/168 - 3s - loss: 0.0113\n",
      "Epoch 27/100\n",
      "168/168 - 3s - loss: 0.0130\n",
      "Epoch 28/100\n",
      "168/168 - 3s - loss: 0.0119\n",
      "Epoch 29/100\n",
      "168/168 - 3s - loss: 0.0101\n",
      "Epoch 30/100\n",
      "168/168 - 3s - loss: 0.0119\n",
      "Epoch 31/100\n",
      "168/168 - 4s - loss: 0.0109\n",
      "Epoch 32/100\n",
      "168/168 - 3s - loss: 0.0109\n",
      "Epoch 33/100\n",
      "168/168 - 3s - loss: 0.0091\n",
      "Epoch 34/100\n",
      "168/168 - 2s - loss: 0.0099\n",
      "Epoch 35/100\n",
      "168/168 - 2s - loss: 0.0096\n",
      "Epoch 36/100\n",
      "168/168 - 2s - loss: 0.0104\n",
      "Epoch 37/100\n",
      "168/168 - 2s - loss: 0.0094\n",
      "Epoch 38/100\n",
      "168/168 - 2s - loss: 0.0093\n",
      "Epoch 39/100\n",
      "168/168 - 2s - loss: 0.0083\n",
      "Epoch 40/100\n",
      "168/168 - 2s - loss: 0.0086\n",
      "Epoch 41/100\n",
      "168/168 - 2s - loss: 0.0086\n",
      "Epoch 42/100\n",
      "168/168 - 2s - loss: 0.0088\n",
      "Epoch 43/100\n",
      "168/168 - 2s - loss: 0.0078\n",
      "Epoch 44/100\n",
      "168/168 - 2s - loss: 0.0099\n",
      "Epoch 45/100\n",
      "168/168 - 2s - loss: 0.0073\n",
      "Epoch 46/100\n",
      "168/168 - 2s - loss: 0.0096\n",
      "Epoch 47/100\n",
      "168/168 - 2s - loss: 0.0133\n",
      "Epoch 48/100\n",
      "168/168 - 2s - loss: 0.0083\n",
      "Epoch 49/100\n",
      "168/168 - 2s - loss: 0.0102\n",
      "Epoch 50/100\n",
      "168/168 - 2s - loss: 0.0079\n",
      "Epoch 51/100\n",
      "168/168 - 2s - loss: 0.0076\n",
      "Epoch 52/100\n",
      "168/168 - 2s - loss: 0.0085\n",
      "Epoch 53/100\n",
      "168/168 - 2s - loss: 0.0069\n",
      "Epoch 54/100\n",
      "168/168 - 2s - loss: 0.0081\n",
      "Epoch 55/100\n",
      "168/168 - 2s - loss: 0.0091\n",
      "Epoch 56/100\n",
      "168/168 - 2s - loss: 0.0078\n",
      "Epoch 57/100\n",
      "168/168 - 2s - loss: 0.0085\n",
      "Epoch 58/100\n",
      "168/168 - 2s - loss: 0.0077\n",
      "Epoch 59/100\n",
      "168/168 - 2s - loss: 0.0082\n",
      "Epoch 60/100\n",
      "168/168 - 2s - loss: 0.0075\n",
      "Epoch 61/100\n",
      "168/168 - 2s - loss: 0.0082\n",
      "Epoch 62/100\n",
      "168/168 - 2s - loss: 0.0085\n",
      "Epoch 63/100\n",
      "168/168 - 2s - loss: 0.0080\n",
      "Epoch 64/100\n",
      "168/168 - 2s - loss: 0.0085\n",
      "Epoch 65/100\n",
      "168/168 - 2s - loss: 0.0085\n",
      "Epoch 66/100\n",
      "168/168 - 2s - loss: 0.0066\n",
      "Epoch 67/100\n",
      "168/168 - 2s - loss: 0.0075\n",
      "Epoch 68/100\n",
      "168/168 - 2s - loss: 0.0067\n",
      "Epoch 69/100\n",
      "168/168 - 2s - loss: 0.0075\n",
      "Epoch 70/100\n",
      "168/168 - 2s - loss: 0.0074\n",
      "Epoch 71/100\n",
      "168/168 - 2s - loss: 0.0071\n",
      "Epoch 72/100\n",
      "168/168 - 2s - loss: 0.0080\n",
      "Epoch 73/100\n",
      "168/168 - 2s - loss: 0.0072\n",
      "Epoch 74/100\n",
      "168/168 - 2s - loss: 0.0072\n",
      "Epoch 75/100\n",
      "168/168 - 2s - loss: 0.0076\n",
      "Epoch 76/100\n",
      "168/168 - 2s - loss: 0.0078\n",
      "Epoch 77/100\n",
      "168/168 - 2s - loss: 0.0085\n",
      "Epoch 78/100\n",
      "168/168 - 2s - loss: 0.0071\n",
      "Epoch 79/100\n",
      "168/168 - 2s - loss: 0.0071\n",
      "Epoch 80/100\n",
      "168/168 - 2s - loss: 0.0067\n",
      "Epoch 81/100\n",
      "168/168 - 2s - loss: 0.0075\n",
      "Epoch 82/100\n",
      "168/168 - 2s - loss: 0.0069\n",
      "Epoch 83/100\n",
      "168/168 - 2s - loss: 0.0064\n",
      "Epoch 84/100\n",
      "168/168 - 2s - loss: 0.0068\n",
      "Epoch 85/100\n",
      "168/168 - 2s - loss: 0.0068\n",
      "Epoch 86/100\n",
      "168/168 - 2s - loss: 0.0077\n",
      "Epoch 87/100\n",
      "168/168 - 2s - loss: 0.0070\n",
      "Epoch 88/100\n",
      "168/168 - 2s - loss: 0.0075\n",
      "Epoch 89/100\n",
      "168/168 - 2s - loss: 0.0071\n",
      "Epoch 90/100\n",
      "168/168 - 2s - loss: 0.0069\n",
      "Epoch 91/100\n",
      "168/168 - 2s - loss: 0.0066\n",
      "Epoch 92/100\n",
      "168/168 - 2s - loss: 0.0070\n",
      "Epoch 93/100\n",
      "168/168 - 2s - loss: 0.0065\n",
      "Epoch 94/100\n",
      "168/168 - 2s - loss: 0.0071\n",
      "Epoch 95/100\n",
      "168/168 - 2s - loss: 0.0062\n",
      "Epoch 96/100\n",
      "168/168 - 2s - loss: 0.0072\n",
      "Epoch 97/100\n",
      "168/168 - 2s - loss: 0.0070\n",
      "Epoch 98/100\n",
      "168/168 - 2s - loss: 0.0086\n",
      "Epoch 99/100\n",
      "168/168 - 2s - loss: 0.0063\n",
      "Epoch 100/100\n",
      "168/168 - 2s - loss: 0.0074\n"
     ]
    }
   ],
   "source": [
    "history2 = regressor.fit(train_data, train_y, epochs=100, batch_size=2, verbose=2)"
   ]
  },
  {
   "cell_type": "code",
   "execution_count": 14,
   "metadata": {},
   "outputs": [
    {
     "data": {
      "image/png": "[encoded data removed]",
      "text/plain": [
       "<Figure size 432x288 with 1 Axes>"
      ]
     },
     "metadata": {
      "needs_background": "light"
     },
     "output_type": "display_data"
    }
   ],
   "source": [
    "plt.plot(history2.history['loss'])\n",
    "plt.savefig('loss_big.png')\n",
    "plt.show()"
   ]
  },
  {
   "cell_type": "code",
   "execution_count": 15,
   "metadata": {},
   "outputs": [
    {
     "name": "stdout",
     "output_type": "stream",
     "text": [
      "1/1 - 0s\n",
      "11/11 - 0s\n"
     ]
    }
   ],
   "source": [
    "predictions2 = regressor.predict(test_data, verbose=2)\n",
    "train_pre2 = regressor.predict(train_data,verbose=2)\n",
    "predictions2 = predictions2.reshape(predictions.shape[0])\n",
    "train_pre2 = train_pre2.squeeze()\n",
    "pre_data2 = np.hstack((train_pre2,predictions2))"
   ]
  },
  {
   "cell_type": "code",
   "execution_count": 91,
   "metadata": {},
   "outputs": [
    {
     "name": "stdout",
     "output_type": "stream",
     "text": [
      "7/7 - 0s\n"
     ]
    }
   ],
   "source": [
    "predict2 = np.hstack((pre_18, predictions2))\n",
    "# predict.shape\n",
    "predict2 = predict2.reshape(-1,1)\n",
    "pre_train2,_ =split_sequence(predict2,12)\n",
    "pre_2022_2= model.predict(pre_train2,verbose=2)"
   ]
  },
  {
   "cell_type": "code",
   "execution_count": 93,
   "metadata": {},
   "outputs": [
    {
     "data": {
      "image/png": "[encoded data removed]",
      "text/plain": [
       "<Figure size 432x288 with 1 Axes>"
      ]
     },
     "metadata": {
      "needs_background": "light"
     },
     "output_type": "display_data"
    },
    {
     "data": {
      "text/plain": [
       "[array([-1.8235205], dtype=float32),\n",
       " array([-1.817317], dtype=float32),\n",
       " array([-0.45029575], dtype=float32),\n",
       " array([-1.3799032], dtype=float32),\n",
       " array([-1.7962279], dtype=float32),\n",
       " array([-1.8194729], dtype=float32),\n",
       " array([-2.1401896], dtype=float32),\n",
       " array([-1.6123438], dtype=float32),\n",
       " array([-1.6227248], dtype=float32),\n",
       " array([-2.1333792], dtype=float32),\n",
       " array([-1.7713487], dtype=float32),\n",
       " array([-1.2008727], dtype=float32),\n",
       " array([-1.434231], dtype=float32),\n",
       " array([-1.6957484], dtype=float32),\n",
       " array([-1.3492346], dtype=float32),\n",
       " array([-1.9150788], dtype=float32),\n",
       " array([-1.5290018], dtype=float32)]"
      ]
     },
     "execution_count": 93,
     "metadata": {},
     "output_type": "execute_result"
    }
   ],
   "source": [
    "pre_2022_2_r = scaler.inverse_transform(pre_2022_2)\n",
    "# print(pre_2022_real)\n",
    "# plt.plot(pre_2022_real)\n",
    "# plt.show()\n",
    "aaa = []\n",
    "for i in range(0,len(pre_2022_2_r),12):\n",
    "    aaa.append(pre_2022_2_r[i])\n",
    "\n",
    "plt.plot(aaa)\n",
    "plt.show()\n",
    "aaa"
   ]
  },
  {
   "cell_type": "code",
   "execution_count": 16,
   "metadata": {},
   "outputs": [],
   "source": [
    "#return\n",
    "# print(predictions2.shape)\n",
    "tool = np.ones((len(predictions),4))\n",
    "# test_y = test_y[:,np.newaxis]\n",
    "# predictions = predictions[:,np.newaxis]\n",
    "# predictions2 = predictions2[:,np.newaxis]\n",
    "\n",
    "\n",
    "# # print(tool.shape,test_y.shape)\n",
    "# test_y.squeeze()\n",
    "# real = np.concatenate([tool,test_y],axis=1)\n",
    "# pre_real1 =np.concatenate([tool,predictions],axis=1) \n",
    "# pre_real2 = np.concatenate([tool,predictions2],axis=1)\n",
    "# tool2 = scaler.inverse_transform(real)\n",
    "# tool3 = scaler.inverse_transform(pre_real1)\n",
    "# tool4 = scaler.inverse_transform(pre_real2)\n",
    "# # print(tool2[:,-1])\n",
    "# print(tool3[:,-1])\n",
    "# print(tool4[:,-1])"
   ]
  }
 ],
 "metadata": {
  "interpreter": {
   "hash": "0843aa2147bb7b68e1331c060614b1ebfeaba0f0db744f4b489daeb337a1f0b2"
  },
  "kernelspec": {
   "display_name": "Python 3.8.3 64-bit",
   "language": "python",
   "name": "python3"
  },
  "language_info": {
   "codemirror_mode": {
    "name": "ipython",
    "version": 3
   },
   "file_extension": ".py",
   "mimetype": "text/x-python",
   "name": "python",
   "nbconvert_exporter": "python",
   "pygments_lexer": "ipython3",
   "version": "3.8.3"
  },
  "orig_nbformat": 4
 },
 "nbformat": 4,
 "nbformat_minor": 2
}
