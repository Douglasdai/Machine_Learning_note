{
 "cells": [
  {
   "cell_type": "code",
   "execution_count": null,
   "source": [
    "'''\r\n",
    "網路剪枝 Network Pruning\r\n",
    "在這個notebook中我們會介紹Network Pruning， 而我們有提供已經做完Knowledge Distillation的小model來做Pruning。\r\n",
    "'''"
   ],
   "outputs": [],
   "metadata": {}
  },
  {
   "cell_type": "code",
   "execution_count": null,
   "source": [
    "import torch\r\n",
    "import os\r\n",
    "import torch.nn as nn\r\n",
    "import torch.optim as optim\r\n",
    "import torch.nn.functional as F\r\n",
    "import torchvision.models as models"
   ],
   "outputs": [],
   "metadata": {}
  },
  {
   "cell_type": "code",
   "execution_count": null,
   "source": [
    "def network_slimming(old_model,new_model):\r\n",
    "    params = old_model.state_dict()\r\n",
    "    new_params = new_model.state_dict()\r\n",
    "\r\n",
    "    select_idx = []\r\n",
    "    for i in range(8):\r\n",
    "        importance = params[f'cnn.{i}.1.weight']\r\n",
    "        old_dim = len(importance)"
   ],
   "outputs": [],
   "metadata": {}
  }
 ],
 "metadata": {
  "orig_nbformat": 4,
  "language_info": {
   "name": "python",
   "version": "3.8.3"
  },
  "kernelspec": {
   "name": "python3",
   "display_name": "Python 3.8.3 64-bit"
  },
  "interpreter": {
   "hash": "0843aa2147bb7b68e1331c060614b1ebfeaba0f0db744f4b489daeb337a1f0b2"
  }
 },
 "nbformat": 4,
 "nbformat_minor": 2
}