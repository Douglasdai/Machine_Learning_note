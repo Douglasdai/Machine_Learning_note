{
 "cells": [
  {
   "cell_type": "code",
   "execution_count": null,
   "source": [
    "!gdown --id '12-07DSquGdzN3JBHBChN4nMo3i8BqTiL' --output real_or_drawing.zip\r\n",
    "!unzip real_or_drawing.zip"
   ],
   "outputs": [],
   "metadata": {}
  },
  {
   "cell_type": "code",
   "execution_count": null,
   "source": [
    "import matplotlib.pyplot as plt\r\n",
    "\r\n",
    "def no_axis_show(img,title='',cmap=None):\r\n",
    "    fig =plt.imshow(img,interpolation='nearest',cmap=cmap)\r\n",
    "    fig.axes.get_xaxis().set_visible(False)\r\n",
    "    fig.axes.get_yaxis().set_visible(False)\r\n",
    "    plt.title(title)\r\n",
    "titles = ['horse','bed','clock','apple','cat','plane','televison','dog','dolphin','spider']\r\n",
    "plt.figure(figsize=(18,18))\r\n",
    "for i in range(10):\r\n",
    "    plt.subplot(1,10,i+1)\r\n",
    "    fig = no_axis_show(plt.imread(f'real_or_drawing/train_data/{i}/{500*i}.bmp'),title=titles[i])\r\n"
   ],
   "outputs": [],
   "metadata": {}
  },
  {
   "cell_type": "code",
   "execution_count": null,
   "source": [
    "plt.figure(figsize=(18,18))\r\n",
    "for i in range(10):\r\n",
    "    plt.subplot(1,10,i+1)\r\n",
    "    fig = no_axis_show(plt.imread(f'real_or_drawing/test_data/0/'+str(i).rjust(5,'0')+'.bmp'))\r\n"
   ],
   "outputs": [],
   "metadata": {}
  },
  {
   "cell_type": "code",
   "execution_count": null,
   "source": [
    "#special domain knowledge\r\n",
    "#边缘检测处理\r\n",
    "#canny 算法\r\n",
    "# import cv2\r\n",
    "# import matplotlib.pyplot as plt\r\n",
    "# titles = ['horse','bed','clock','apple','cat','plane','televison','dog','dolphin','spider']\r\n",
    "# plt.figure(figsize=(18,18))#\r\n",
    "#略过 已经了解了原理"
   ],
   "outputs": [],
   "metadata": {}
  },
  {
   "cell_type": "code",
   "execution_count": null,
   "source": [
    "#data process\r\n",
    "import numpy as np \r\n",
    "import torch\r\n",
    "import torch.nn as nn \r\n",
    "import torch.nn.functional as F\r\n",
    "from torch.autograd import Function \r\n",
    "import cv2\r\n",
    "import torch.optim as optim\r\n",
    "import torchvision.transforms as transforms\r\n",
    "from torchvision.datasets import ImageFolder\r\n",
    "from torch.utils.data import DataLoader\r\n",
    "\r\n",
    "source_transform = transforms.Compose(\r\n",
    "    [\r\n",
    "        transforms.Grayscale(),\r\n",
    "        transforms.Lambda(lambda x: cv2.Canny(np.array(x),170,300)),\r\n",
    "        transforms.ToPILImage(),\r\n",
    "        transforms.RandomHorizontalFlip(),\r\n",
    "        transforms.RandomRotation(15,fill=(0,)),\r\n",
    "        transforms.ToTensor(),\r\n",
    "    ]\r\n",
    ")\r\n",
    "\r\n",
    "target_transform = transforms.Compose([\r\n",
    "    transforms.\r\n",
    "])\r\n",
    "\r\n",
    "\r\n",
    "\r\n"
   ],
   "outputs": [],
   "metadata": {}
  }
 ],
 "metadata": {
  "orig_nbformat": 4,
  "language_info": {
   "name": "python",
   "version": "3.8.3"
  },
  "kernelspec": {
   "name": "python3",
   "display_name": "Python 3.8.3 64-bit"
  },
  "interpreter": {
   "hash": "0843aa2147bb7b68e1331c060614b1ebfeaba0f0db744f4b489daeb337a1f0b2"
  }
 },
 "nbformat": 4,
 "nbformat_minor": 2
}