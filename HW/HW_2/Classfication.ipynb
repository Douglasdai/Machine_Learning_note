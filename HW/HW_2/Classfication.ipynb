{
 "cells": [
  {
   "cell_type": "code",
   "execution_count": 3,
   "source": [
    "\"\"\"\r\n",
    "进行二分类\r\n",
    "\"\"\""
   ],
   "outputs": [
    {
     "output_type": "execute_result",
     "data": {
      "text/plain": [
       "'\\n进行二分类\\n'"
      ]
     },
     "metadata": {},
     "execution_count": 3
    }
   ],
   "metadata": {}
  },
  {
   "cell_type": "code",
   "execution_count": 4,
   "source": [
    "import torch\r\n",
    "import torch.nn as nn \r\n",
    "import torch.optim \r\n",
    "import pandas as pd \r\n",
    "import numpy as np"
   ],
   "outputs": [],
   "metadata": {}
  },
  {
   "cell_type": "code",
   "execution_count": 5,
   "source": [
    "np.random.seed(0)\r\n",
    "X_train_fpath = './data/X_train'\r\n",
    "Y_train_fpath = './data/Y_train'\r\n",
    "X_test_fpath = './data/X_test'\r\n",
    "output_fpath = './output_{}.csv'\r\n",
    "\r\n",
    "# Parse csv files to numpy array\r\n",
    "with open(X_train_fpath) as f:\r\n",
    "    next(f)\r\n",
    "    X_train = np.array([line.strip('\\n').split(',')[1:] for line in f], dtype = float)\r\n",
    "with open(Y_train_fpath) as f:\r\n",
    "    next(f)\r\n",
    "    Y_train = np.array([line.strip('\\n').split(',')[1] for line in f], dtype = float)\r\n",
    "with open(X_test_fpath) as f:\r\n",
    "    next(f)\r\n",
    "    X_test = np.array([line.strip('\\n').split(',')[1:] for line in f], dtype = float)"
   ],
   "outputs": [],
   "metadata": {}
  },
  {
   "cell_type": "code",
   "execution_count": 6,
   "source": [
    "X_train.shape"
   ],
   "outputs": [
    {
     "output_type": "execute_result",
     "data": {
      "text/plain": [
       "(54256, 510)"
      ]
     },
     "metadata": {},
     "execution_count": 6
    }
   ],
   "metadata": {}
  },
  {
   "cell_type": "code",
   "execution_count": 7,
   "source": [
    "X_test.shape"
   ],
   "outputs": [
    {
     "output_type": "execute_result",
     "data": {
      "text/plain": [
       "(27622, 510)"
      ]
     },
     "metadata": {},
     "execution_count": 7
    }
   ],
   "metadata": {}
  },
  {
   "cell_type": "code",
   "execution_count": 8,
   "source": [
    "Y_train.shape"
   ],
   "outputs": [
    {
     "output_type": "execute_result",
     "data": {
      "text/plain": [
       "(54256,)"
      ]
     },
     "metadata": {},
     "execution_count": 8
    }
   ],
   "metadata": {}
  },
  {
   "cell_type": "code",
   "execution_count": 9,
   "source": [
    "import numpy as np\r\n",
    "\r\n",
    "np.random.seed(0)\r\n",
    "X_train_fpath = './data/X_train'\r\n",
    "Y_train_fpath = './data/Y_train'\r\n",
    "X_test_fpath = './data/X_test'\r\n",
    "output_fpath = './output_{}.csv'\r\n",
    "\r\n",
    "# Parse csv files to numpy array\r\n",
    "with open(X_train_fpath) as f:\r\n",
    "    next(f)\r\n",
    "    X_train = np.array([line.strip('\\n').split(',')[1:] for line in f], dtype = float)\r\n",
    "with open(Y_train_fpath) as f:\r\n",
    "    next(f)\r\n",
    "    Y_train = np.array([line.strip('\\n').split(',')[1] for line in f], dtype = float)\r\n",
    "with open(X_test_fpath) as f:\r\n",
    "    next(f)\r\n",
    "    X_test = np.array([line.strip('\\n').split(',')[1:] for line in f], dtype = float)\r\n",
    "\r\n",
    "def _normalize(X, train = True, specified_column = None, X_mean = None, X_std = None):\r\n",
    "    # This function normalizes specific columns of X.\r\n",
    "    # The mean and standard variance of training data will be reused when processing testing data.\r\n",
    "    #\r\n",
    "    # Arguments:\r\n",
    "    #     X: data to be processed\r\n",
    "    #     train: 'True' when processing training data, 'False' for testing data\r\n",
    "    #     specific_column: indexes of the columns that will be normalized. If 'None', all columns\r\n",
    "    #         will be normalized.\r\n",
    "    #     X_mean: mean value of training data, used when train = 'False'\r\n",
    "    #     X_std: standard deviation of training data, used when train = 'False'\r\n",
    "    # Outputs:\r\n",
    "    #     X: normalized data\r\n",
    "    #     X_mean: computed mean value of training data\r\n",
    "    #     X_std: computed standard deviation of training data\r\n",
    "\r\n",
    "    if specified_column == None:\r\n",
    "        specified_column = np.arange(X.shape[1])\r\n",
    "    if train:\r\n",
    "        X_mean = np.mean(X[:, specified_column] ,0).reshape(1, -1)\r\n",
    "        X_std  = np.std(X[:, specified_column], 0).reshape(1, -1)\r\n",
    "\r\n",
    "    X[:,specified_column] = (X[:, specified_column] - X_mean) / (X_std + 1e-8)\r\n",
    "     \r\n",
    "    return X, X_mean, X_std\r\n",
    "\r\n",
    "def _train_dev_split(X, Y, dev_ratio = 0.25):\r\n",
    "    # This function spilts data into training set and development set.\r\n",
    "    train_size = int(len(X) * (1 - dev_ratio))\r\n",
    "    return X[:train_size], Y[:train_size], X[train_size:], Y[train_size:]\r\n",
    "\r\n",
    "# Normalize training and testing data\r\n",
    "X_train, X_mean, X_std = _normalize(X_train, train = True)\r\n",
    "X_test, _, _= _normalize(X_test, train = False, specified_column = None, X_mean = X_mean, X_std = X_std)\r\n",
    "    \r\n",
    "# Split data into training set and development set\r\n",
    "dev_ratio = 0.1\r\n",
    "X_train, Y_train, X_dev, Y_dev = _train_dev_split(X_train, Y_train, dev_ratio = dev_ratio)\r\n",
    "\r\n",
    "train_size = X_train.shape[0]\r\n",
    "dev_size = X_dev.shape[0]\r\n",
    "test_size = X_test.shape[0]\r\n",
    "data_dim = X_train.shape[1]\r\n",
    "print('Size of training set: {}'.format(train_size))\r\n",
    "print('Size of development set: {}'.format(dev_size))\r\n",
    "print('Size of testing set: {}'.format(test_size))\r\n",
    "print('Dimension of data: {}'.format(data_dim))"
   ],
   "outputs": [
    {
     "output_type": "stream",
     "name": "stdout",
     "text": [
      "Size of training set: 48830\n",
      "Size of development set: 5426\n",
      "Size of testing set: 27622\n",
      "Dimension of data: 510\n"
     ]
    }
   ],
   "metadata": {}
  },
  {
   "cell_type": "code",
   "execution_count": 22,
   "source": [
    "#model\r\n",
    "class Model(nn.Module):\r\n",
    "    def __init__(self):\r\n",
    "        super(Model,self).__init__()\r\n",
    "        self.fc = nn.Linear(510,2)\r\n",
    "        self.fc2 = nn.Linear(100,2)\r\n",
    "        self.sig = nn.ReLU()\r\n",
    "    \r\n",
    "    def forward(self,x):\r\n",
    "        out = self.fc(x)\r\n",
    "        out = self.sig(out)\r\n",
    "        # out = self.fc2(out)\r\n",
    "        # out = self.sig(out)\r\n",
    "        return out\r\n",
    "    \r\n",
    "model =Model()\r\n",
    "optimizer= torch.optim.Adam(model.parameters(),lr =0.05)\r\n",
    "cirection = nn.CrossEntropyLoss()"
   ],
   "outputs": [],
   "metadata": {}
  },
  {
   "cell_type": "code",
   "execution_count": 23,
   "source": [
    "epochs= 100\r\n",
    "#尝试小批量？\r\n",
    "#48330 -1000\r\n",
    "# X_train, Y_train = _shuffle(X_train, Y_train)\r\n",
    "# X_train = torch.from_numpy(X_train).float()\r\n",
    "# Y_train = torch.from_numpy(Y_train).float()\r\n",
    "# X_dev = torch.from_numpy(X_dev).float()\r\n",
    "# Y_dev = torch.from_numpy(Y_dev).float()\r\n",
    "# train_size =48330\r\n",
    "# batch_size =256\r\n",
    "for epoch in range(epochs):\r\n",
    "    # for idx in range(int(np.floor(train_size / batch_size))):\r\n",
    "    #     X = X_train[idx*batch_size:(idx+1)*batch_size]\r\n",
    "    #     Y = Y_train[idx*batch_size:(idx+1)*batch_size]\r\n",
    "        # print(type(X))\r\n",
    "    y_lr_pred = model(X_train)\r\n",
    "    loss = cirection(y_lr_pred,Y_train.long())\r\n",
    "    optimizer.zero_grad()\r\n",
    "    loss.backward()\r\n",
    "    optimizer.step()\r\n",
    "        #acc = _accuracy(y_lr_pred.detach.numpy(),Y_train.detach.numpy())\r\n",
    "    \r\n",
    "    model.eval()\r\n",
    "    with torch.no_grad():\r\n",
    "        y_dlr_pred = model(X_dev)\r\n",
    "        testloss = cirection(y_dlr_pred,Y_dev.long())\r\n",
    "    if(epoch+1)%10==0:\r\n",
    "        print(\"loss: {:2f} test loss: {:2f}\".format(loss.item(),testloss.item()))"
   ],
   "outputs": [
    {
     "output_type": "stream",
     "name": "stdout",
     "text": [
      "loss: 0.386796 test loss: 0.426480\n",
      "loss: 0.331405 test loss: 0.378263\n",
      "loss: 0.304998 test loss: 0.363038\n",
      "loss: 0.284545 test loss: 0.343114\n",
      "loss: 0.272068 test loss: 0.389100\n",
      "loss: 0.262830 test loss: 0.367377\n",
      "loss: 0.246557 test loss: 0.421542\n",
      "loss: 0.240706 test loss: 0.448523\n",
      "loss: 0.231967 test loss: 0.456239\n",
      "loss: 0.230978 test loss: 0.510206\n"
     ]
    }
   ],
   "metadata": {}
  },
  {
   "cell_type": "code",
   "execution_count": 50,
   "source": [
    "def _shuffle(X,Y):\r\n",
    "    randomize = np.arange(len(X))\r\n",
    "    np.random.shuffle(randomize)\r\n",
    "    return (X[randomize],Y[randomize])\r\n",
    "\r\n",
    "def _sigmoid(z):\r\n",
    "    return np.clip(1/(1.0+np.exp(-z)),1e-8,1-(1e-8))\r\n",
    "\r\n",
    "def _f(X,w,b):\r\n",
    "    return _sigmoid(np.matmul(X,w)+b)\r\n",
    "\r\n",
    "def _predict(X,w,b):\r\n",
    "    return np.round(_f(X,w,b)).astype(np.int)\r\n",
    "\r\n",
    "def _accuracy(Y_pred,Y_label):\r\n",
    "    acc = 1-np.mean(np.abs(Y_pred-Y_label))\r\n",
    "    return acc\r\n"
   ],
   "outputs": [],
   "metadata": {}
  },
  {
   "cell_type": "code",
   "execution_count": 51,
   "source": [
    "def _cross_entropy_loss(y_pred,Y_label):\r\n",
    "    cross_entropy = -np.dot(Y_label,np.log(y_pred))-np.dot((1-Y_label),np.log(1-y_pred))\r\n",
    "    return cross_entropy\r\n",
    "def _gradient(X,Y_label,w,b):\r\n",
    "    y_pred = _f(X,w,b)\r\n",
    "    pred_error = Y_label-y_pred\r\n",
    "    w_grad = -np.sum(pred_error*X.T,1)\r\n",
    "    b_grad  = -np.sum(pred_error)\r\n",
    "    return w_grad,b_grad"
   ],
   "outputs": [],
   "metadata": {}
  },
  {
   "cell_type": "code",
   "execution_count": 67,
   "source": [
    "# Zero initialization for weights ans bias\r\n",
    "w = np.zeros((data_dim,)) \r\n",
    "b = np.zeros((1,))\r\n",
    "\r\n",
    "# Some parameters for training    \r\n",
    "max_iter = 10\r\n",
    "batch_size = 8\r\n",
    "learning_rate = 0.2\r\n",
    "\r\n",
    "# Keep the loss and accuracy at every iteration for plotting\r\n",
    "train_loss = []\r\n",
    "dev_loss = []\r\n",
    "train_acc = []\r\n",
    "dev_acc = []\r\n",
    "\r\n",
    "# Calcuate the number of parameter updates\r\n",
    "step = 1\r\n",
    "X_train, Y_train = X_train.numpy(),Y_train.numpy()\r\n",
    "# Iterative training\r\n",
    "for epoch in range(max_iter):\r\n",
    "    # Random shuffle at the begging of each epoch\r\n",
    "    X_train, Y_train = _shuffle(X_train, Y_train)\r\n",
    "        \r\n",
    "    # Mini-batch training\r\n",
    "    for idx in range(int(np.floor(train_size / batch_size))):\r\n",
    "        X = X_train[idx*batch_size:(idx+1)*batch_size]\r\n",
    "        Y = Y_train[idx*batch_size:(idx+1)*batch_size]\r\n",
    "\r\n",
    "        # Compute the gradient\r\n",
    "        w_grad, b_grad = _gradient(X, Y, w, b)\r\n",
    "            \r\n",
    "        # gradient descent update\r\n",
    "        # learning rate decay with time\r\n",
    "        w = w - learning_rate/np.sqrt(step) * w_grad\r\n",
    "        b = b - learning_rate/np.sqrt(step) * b_grad\r\n",
    "\r\n",
    "        step = step + 1\r\n",
    "            \r\n",
    "    # Compute loss and accuracy of training set and development set\r\n",
    "    y_train_pred = _f(X_train, w, b)\r\n",
    "    Y_train_pred = np.round(y_train_pred)\r\n",
    "    train_acc.append(_accuracy(Y_train_pred, Y_train))\r\n",
    "    train_loss.append(_cross_entropy_loss(y_train_pred, Y_train) / train_size)\r\n",
    "\r\n",
    "    y_dev_pred = _f(X_dev, w, b)\r\n",
    "    Y_dev_pred = np.round(y_dev_pred)\r\n",
    "    dev_acc.append(_accuracy(Y_dev_pred, Y_dev))\r\n",
    "    dev_loss.append(_cross_entropy_loss(y_dev_pred, Y_dev) / dev_size)\r\n",
    "\r\n",
    "print('Training loss: {}'.format(train_loss[-1]))\r\n",
    "print('Development loss: {}'.format(dev_loss[-1]))\r\n",
    "print('Training accuracy: {}'.format(train_acc[-1]))\r\n",
    "print('Development accuracy: {}'.format(dev_acc[-1]))"
   ],
   "outputs": [
    {
     "output_type": "stream",
     "name": "stdout",
     "text": [
      "Training loss: 0.27051389197026615\n",
      "Development loss: 0.2981100244597504\n",
      "Training accuracy: 0.8847020274421462\n",
      "Development accuracy: 0.8772576483597494\n"
     ]
    }
   ],
   "metadata": {}
  },
  {
   "cell_type": "code",
   "execution_count": null,
   "source": [
    "import matplotlib.pyplot as plt\r\n",
    "\r\n",
    "# Loss curve\r\n",
    "plt.plot(train_loss)\r\n",
    "plt.plot(dev_loss)\r\n",
    "plt.title('Loss')\r\n",
    "plt.legend(['train', 'dev'])\r\n",
    "plt.savefig('loss.png')\r\n",
    "plt.show()\r\n",
    "\r\n",
    "# Accuracy curve\r\n",
    "plt.plot(train_acc)\r\n",
    "plt.plot(dev_acc)\r\n",
    "plt.title('Accuracy')\r\n",
    "plt.legend(['train', 'dev'])\r\n",
    "plt.savefig('acc.png')\r\n",
    "plt.show()"
   ],
   "outputs": [],
   "metadata": {}
  }
 ],
 "metadata": {
  "orig_nbformat": 4,
  "language_info": {
   "name": "python",
   "version": "3.8.3",
   "mimetype": "text/x-python",
   "codemirror_mode": {
    "name": "ipython",
    "version": 3
   },
   "pygments_lexer": "ipython3",
   "nbconvert_exporter": "python",
   "file_extension": ".py"
  },
  "kernelspec": {
   "name": "python3",
   "display_name": "Python 3.8.3 64-bit"
  },
  "interpreter": {
   "hash": "0843aa2147bb7b68e1331c060614b1ebfeaba0f0db744f4b489daeb337a1f0b2"
  }
 },
 "nbformat": 4,
 "nbformat_minor": 2
}