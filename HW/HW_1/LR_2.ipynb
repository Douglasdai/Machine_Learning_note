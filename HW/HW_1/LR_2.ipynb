{
 "cells": [
  {
   "cell_type": "code",
   "execution_count": 46,
   "metadata": {},
   "outputs": [],
   "source": [
    "import torch\n",
    "import numpy as np\n",
    "import pandas as pd\n",
    "import matplotlib.pyplot as plt"
   ]
  },
  {
   "cell_type": "code",
   "execution_count": 47,
   "metadata": {},
   "outputs": [],
   "source": [
    "#固定种子\n",
    "np.random.seed(0)\n",
    "\n",
    "class LinearRegressionself:\n",
    "    def __init__(self):\n",
    "        self.w = None\n",
    "        self.n_features = None\n",
    "    \n",
    "    def fit1(self,X,y):\n",
    "        assert isinstance(X,np.ndarray) and isinstance(y,np.ndarray)\n",
    "        assert X.ndim ==2 and y.ndim ==1\n",
    "        assert y.shape[0]==X.shape[0]\n",
    "        assert X.shape[1]<=1 \n",
    "        X = X.squeeze()\n",
    "        x_mean = np.mean(X)\n",
    "        y_mean = np.mean(y)\n",
    "        xy_mean = np.mean(X*y)\n",
    "        xx_mean = np.mean(X*X)\n",
    "        w = ((x_mean*y_mean)-xy_mean)/(x_mean**2-xx_mean)\n",
    "        b = y_mean-w*x_mean\n",
    "        self.w =[w,b]\n",
    "\n",
    "    def fit2(self,X,y):\n",
    "        #3.11\n",
    "        assert isinstance(X,np.ndarray) and isinstance(y,np.ndarray)\n",
    "        assert X.ndim ==2 and y.ndim ==1\n",
    "        assert y.shape[0]==X.shape[0]\n",
    "        n_samples = X.shape[0]\n",
    "        self.n_features = X.shape[1]\n",
    "        extra = np.ones((n_samples,))\n",
    "        X = np.c_[X,extra]\n",
    "        if self.n_features<n_samples:\n",
    "            self.w = np.linalg.inv(X.T.dot(X)).dot(X.T).dot(y)\n",
    "        else:\n",
    "            raise ValueError('do not have enough samples')\n",
    "    \n",
    "    def predict(self,X):\n",
    "        n_samples = X.shape[0]\n",
    "        extra = np.ones((n_samples,))\n",
    "        X = np.c_[X,extra]\n",
    "        if self.w is None:\n",
    "            raise RuntimeError('can not predict before fit')\n",
    "        y_ = X.dot(self.w)\n",
    "        return y_\n"
   ]
  },
  {
   "cell_type": "code",
   "execution_count": 48,
   "metadata": {},
   "outputs": [
    {
     "data": {
      "text/plain": [
       "<function matplotlib.pyplot.show(*args, **kw)>"
      ]
     },
     "execution_count": 48,
     "metadata": {},
     "output_type": "execute_result"
    },
    {
     "data": {
      "image/png": "[encoded data removed]",
      "text/plain": [
       "<Figure size 432x288 with 1 Axes>"
      ]
     },
     "metadata": {
      "needs_background": "light"
     },
     "output_type": "display_data"
    }
   ],
   "source": [
    "#train and test\n",
    "#photo\n",
    "\n",
    "X = 2*np.random.rand(100,1)\n",
    "y = (7+2*X+np.random.randn(100,1)).squeeze()\n",
    "lr = LinearRegressionself()\n",
    "lr.fit2(X,y)\n",
    "X_new = np.array([[0],[2]])\n",
    "y_predict = lr.predict(X_new)\n",
    "plt.scatter(X,y)\n",
    "plt.plot(X_new,y_predict,'r-')\n",
    "plt.show"
   ]
  },
  {
   "cell_type": "code",
   "execution_count": 49,
   "metadata": {},
   "outputs": [
    {
     "name": "stdout",
     "output_type": "stream",
     "text": [
      "参数w: [[1.67363746]]\n",
      "参数b: [0.19050306]\n"
     ]
    },
    {
     "data": {
      "image/png": "[encoded data removed]",
      "text/plain": [
       "<Figure size 432x288 with 1 Axes>"
      ]
     },
     "metadata": {
      "needs_background": "light"
     },
     "output_type": "display_data"
    }
   ],
   "source": [
    "#2  sklearn\n",
    "from sklearn.linear_model import LinearRegression\n",
    "\n",
    "def true_fun(X):\n",
    "    return 1.7*X+0.2\n",
    "\n",
    "n_samples  = 50\n",
    "#生成随机数据 \n",
    "X_train = np.sort(np.random.rand(n_samples))\n",
    "Y_train = (true_fun(X_train)+np.random.randn(n_samples)*0.1).reshape(n_samples,1)\n",
    "model = LinearRegression()\n",
    "model.fit(X_train[:,np.newaxis],Y_train)\n",
    "\n",
    "print(\"参数w:\",model.coef_)\n",
    "print(\"参数b:\",model.intercept_)\n",
    "\n",
    "X_test = np.linspace(0,1,100)\n",
    "\n",
    "#figure\n",
    "plt.plot(X_test,model.predict(X_test[:,np.newaxis]),label = 'Model')\n",
    "plt.plot(X_test,true_fun(X_test),label = 'True')\n",
    "plt.scatter(X_train,Y_train)\n",
    "plt.legend(loc = 'best')\n",
    "plt.show()"
   ]
  },
  {
   "cell_type": "code",
   "execution_count": 50,
   "metadata": {},
   "outputs": [],
   "source": [
    "# 任务二\n",
    "from sklearn.datasets import load_breast_cancer\n",
    "from sklearn.model_selection import train_test_split\n",
    "from sklearn.preprocessing import MinMaxScaler\n",
    "\n",
    "class LogisticRegression:\n",
    "    def __init__(self,max_iter=100,use_matrix=True):\n",
    "        self.beta=None \n",
    "        self.n_features=None  \n",
    "        self.max_iter=max_iter  \n",
    "        self.use_Hessian=use_matrix \n",
    "        \n",
    "    def fit(self,X,y):\n",
    "        n_samples=X.shape[0]\n",
    "        self.n_features=X.shape[1]\n",
    "        extra=np.ones((n_samples,))\n",
    "        X=np.c_[X,extra]\n",
    "        self.beta=np.random.random((X.shape[1],))\n",
    "        for i in range(self.max_iter): \n",
    "            if self.use_Hessian is not True:\n",
    "                dldbeta=self._dldbeta(X,y,self.beta)\n",
    "                dldldbetadbeta=self._dldldbetadbeta(X,self.beta)\n",
    "                self.beta-=(1./dldldbetadbeta*dldbeta)\n",
    "            else:\n",
    "                dldbeta = self._dldbeta(X, y, self.beta)\n",
    "                dldldbetadbeta = self._dldldbetadbeta_matrix(X, self.beta)\n",
    "                self.beta -= (np.linalg.inv(dldldbetadbeta).dot(dldbeta))\n",
    "\n",
    "    @staticmethod\n",
    "    def _dldbeta(X,y,beta):\n",
    "        m=X.shape[0]\n",
    "        sum=np.zeros(X.shape[1],).T\n",
    "        for i in range(m):\n",
    "            sum+=X[i]*(y[i]-np.exp(X[i].dot(beta))/(1+np.exp(X[i].dot(beta))))\n",
    "        return -sum\n",
    "\n",
    "    @staticmethod\n",
    "    def _dldldbetadbeta_matrix(X,beta):\n",
    "        m=X.shape[0]\n",
    "        Hessian=np.zeros((X.shape[1],X.shape[1])) \n",
    "        for i in range(m):\n",
    "            p1 = np.exp(X[i].dot(beta)) / (1 + np.exp(X[i].dot(beta)))\n",
    "            tmp=X[i].reshape((-1,1))\n",
    "            Hessian+=tmp.dot(tmp.T)*p1*(1-p1)\n",
    "        return Hessian\n",
    "\n",
    "    @staticmethod\n",
    "    def _dldldbetadbeta(X,beta):\n",
    "        m=X.shape[0]\n",
    "        sum=0.\n",
    "        for i in range(m):\n",
    "            p1=np.exp(X[i].dot(beta))/(1+np.exp(X[i].dot(beta)))\n",
    "            sum+=X[i].dot(X[i].T)*p1*(1-p1)\n",
    "        return sum\n",
    "\n",
    "    def predict_proba(self,X):\n",
    "        n_samples = X.shape[0]\n",
    "        extra = np.ones((n_samples,))\n",
    "        X = np.c_[X, extra]\n",
    "        if self.beta is None:\n",
    "            raise RuntimeError('cant predict before fit')\n",
    "        p1 = np.exp(X.dot(self.beta)) / (1 + np.exp(X.dot(self.beta)))\n",
    "        p0 = 1 - p1\n",
    "        return np.c_[p0,p1]\n",
    "\n",
    "    def predict(self,X):\n",
    "        p=self.predict_proba(X)\n",
    "        res=np.argmax(p,axis=1)  \n",
    "        return res    "
   ]
  },
  {
   "cell_type": "code",
   "execution_count": 51,
   "metadata": {},
   "outputs": [
    {
     "name": "stdout",
     "output_type": "stream",
     "text": [
      "accuracy: 0.8830409356725146\n"
     ]
    },
    {
     "data": {
      "image/png": "[encoded data removed]",
      "text/plain": [
       "<Figure size 432x288 with 1 Axes>"
      ]
     },
     "metadata": {
      "needs_background": "light"
     },
     "output_type": "display_data"
    }
   ],
   "source": [
    "breast_data = load_breast_cancer() \n",
    "\n",
    "X, y = breast_data.data[:,:2], breast_data.target  \n",
    "\n",
    "\n",
    "X = MinMaxScaler().fit_transform(X)  \n",
    "X_train, X_test, y_train, y_test = train_test_split(X, y, test_size=0.3)\n",
    "logisticreg = LogisticRegression(max_iter=100,use_matrix=True)\n",
    "logisticreg.fit(X_train, y_train)  \n",
    "\n",
    "lda_prob = logisticreg.predict_proba(X_test)  \n",
    "lda_pred = logisticreg.predict(X_test)  \n",
    "\n",
    "print('accuracy:', len(y_test[y_test == lda_pred]) * 1. / len(y_test))  \n",
    "# 可视化\n",
    "x_ponits = np.array([0.1, 0.6])\n",
    "y_ = -(logisticreg.beta[0]*x_ponits + logisticreg.beta[2])/logisticreg.beta[1]\n",
    "# \n",
    "plt.title(\"LogisticRegression\", fontsize='large', fontweight='bold', color='b')\n",
    "\n",
    "# \n",
    "font = {'family': 'Times New Roman', 'weight': 'normal', 'size': 12}\n",
    "plt.xlabel(breast_data.feature_names[0], font) \n",
    "plt.ylabel(breast_data.feature_names[1], font) \n",
    "\n",
    "plt.plot(x_ponits, y_)\n",
    "plt.scatter(X[:,0],X[:,1],c=y)\n",
    "plt.show()"
   ]
  },
  {
   "cell_type": "code",
   "execution_count": 52,
   "metadata": {},
   "outputs": [
    {
     "name": "stderr",
     "output_type": "stream",
     "text": [
      "<ipython-input-52-99a1cb04c7f7>:4: UserWarning: To copy construct from a tensor, it is recommended to use sourceTensor.clone().detach() or sourceTensor.clone().detach().requires_grad_(True), rather than torch.tensor(sourceTensor).\n",
      "  X1_train,X1_test,y1_train,y1_test = torch.tensor(X1_train,dtype=torch.float32),torch.tensor(X1_test,dtype=torch.float32),torch.tensor(y1_train,dtype=torch.float32),torch.tensor(y1_test,dtype=torch.float32)\n",
      "<ipython-input-52-99a1cb04c7f7>:7: UserWarning: To copy construct from a tensor, it is recommended to use sourceTensor.clone().detach() or sourceTensor.clone().detach().requires_grad_(True), rather than torch.tensor(sourceTensor).\n",
      "  X_train, X_test, y_train, y_test = torch.tensor(X_train,dtype=torch.float32),torch.tensor(X_test,dtype=torch.float32),torch.tensor(y_train,dtype=torch.float32),torch.tensor(y_test,dtype=torch.float32)\n"
     ]
    }
   ],
   "source": [
    "X1 = breast_data.data\n",
    "X1_train,X1_test,y1_train,y1_test = train_test_split(X1,y,test_size=0.3)\n",
    "X1_train,X1_test,y1_train,y1_test = torch.from_numpy(X1_train),torch.from_numpy(X1_test),torch.from_numpy(y1_train),torch.from_numpy(y1_test)\n",
    "X1_train,X1_test,y1_train,y1_test = torch.tensor(X1_train,dtype=torch.float32),torch.tensor(X1_test,dtype=torch.float32),torch.tensor(y1_train,dtype=torch.float32),torch.tensor(y1_test,dtype=torch.float32)\n",
    "\n",
    "X_train, X_test, y_train, y_test = torch.from_numpy(X_train),torch.from_numpy(X_test),torch.from_numpy(y_train),torch.from_numpy(y_test)\n",
    "X_train, X_test, y_train, y_test = torch.tensor(X_train,dtype=torch.float32),torch.tensor(X_test,dtype=torch.float32),torch.tensor(y_train,dtype=torch.float32),torch.tensor(y_test,dtype=torch.float32)\n",
    "\n",
    "\n",
    "#利用30 个特征 训练 逻辑回归\n",
    "#利用两个进行训练\n",
    "import torch.nn as nn\n",
    "\n",
    "class Model(nn.Module):\n",
    "    def __init__(self):\n",
    "        super(Model,self).__init__()\n",
    "        self.fc = nn.Linear(2,1)\n",
    "        self.sig = nn.Sigmoid()\n",
    "    \n",
    "    def forward(self,x):\n",
    "        out = self.fc(x)\n",
    "        out = self.sig(out)\n",
    "        return out\n",
    "class Model2(nn.Module):\n",
    "    def __init__(self):\n",
    "        super(Model2,self).__init__()\n",
    "        self.fc = nn.Linear(30,1)\n",
    "        self.sig = nn.Sigmoid()\n",
    "    \n",
    "    def forward(self,x):\n",
    "        out = self.fc(x)\n",
    "        out = self.sig(out)\n",
    "        return out\n",
    "\n",
    "model = Model()\n",
    "learing_rate = 0.05\n",
    "epochs = 100\n",
    "optimizer = torch.optim.Adam(model.parameters(),lr=learing_rate)\n",
    "# optimizer = torch.optim.Adagrad(torch.nn.parameter(),lr=0.01)\n",
    "criterion = nn.BCELoss()"
   ]
  },
  {
   "cell_type": "code",
   "execution_count": 53,
   "metadata": {},
   "outputs": [
    {
     "name": "stdout",
     "output_type": "stream",
     "text": [
      "Epoch10: 0.7068942189216614\n",
      "Epoch20: 0.6700612902641296\n",
      "Epoch30: 0.632783830165863\n",
      "Epoch40: 0.5984180569648743\n",
      "Epoch50: 0.5674101710319519\n",
      "Epoch60: 0.5389623045921326\n",
      "Epoch70: 0.5135213732719421\n",
      "Epoch80: 0.4908078908920288\n",
      "Epoch90: 0.4706178903579712\n",
      "Epoch100: 0.45266586542129517\n"
     ]
    },
    {
     "name": "stderr",
     "output_type": "stream",
     "text": [
      "C:\\develop\\Python\\Python38\\lib\\site-packages\\torch\\nn\\modules\\loss.py:529: UserWarning: Using a target size (torch.Size([398])) that is different to the input size (torch.Size([398, 1])) is deprecated. Please ensure they have the same size.\n",
      "  return F.binary_cross_entropy(input, target, weight=self.weight, reduction=self.reduction)\n"
     ]
    }
   ],
   "source": [
    "for epoch in range(epochs):\n",
    "    y_pred = model(X_train)\n",
    "    loss = criterion(y_pred,y_train)\n",
    "    optimizer.zero_grad()\n",
    "    loss.backward()\n",
    "    optimizer.step()\n",
    "    if((epoch+1)%10==0):\n",
    "        print(\"Epoch{}: {}\".format(epoch+1,loss.item()))"
   ]
  },
  {
   "cell_type": "code",
   "execution_count": 54,
   "metadata": {},
   "outputs": [
    {
     "name": "stdout",
     "output_type": "stream",
     "text": [
      "accuary:0.8245614035087719\n"
     ]
    }
   ],
   "source": [
    "model.eval()\n",
    "test_y = model(X_test)\n",
    "count =0\n",
    "for i in range(171):\n",
    "    if test_y[i]<0.5:\n",
    "        test_y[i]= 0. \n",
    "    else:\n",
    "        test_y[i]= 1\n",
    "for i in range(171):\n",
    "    if test_y[i]==y_test[i]:\n",
    "        count+=1\n",
    "\n",
    "print('accuary:{}'.format(count/len(test_y)))\n",
    "\n",
    "\n",
    "# print('accuary:',len(test_y[test_y==y1_test])*1./len(test_y))\n"
   ]
  },
  {
   "cell_type": "code",
   "execution_count": 57,
   "metadata": {},
   "outputs": [
    {
     "name": "stdout",
     "output_type": "stream",
     "text": [
      "Epoch10: 36.68341827392578\n",
      "Epoch20: 36.68341827392578\n",
      "Epoch30: 36.68341827392578\n",
      "Epoch40: 36.68341827392578\n",
      "Epoch50: 36.68341827392578\n",
      "Epoch60: 36.68341827392578\n",
      "Epoch70: 36.68341827392578\n",
      "Epoch80: 36.68341827392578\n",
      "Epoch90: 36.68341827392578\n",
      "Epoch100: 36.68341827392578\n"
     ]
    }
   ],
   "source": [
    "model2 = Model2()\n",
    "learing_rate2 = 0.05\n",
    "optimizer2 = torch.optim.Adam(model.parameters(),lr=learing_rate2)\n",
    "# optimizer = torch.optim.Adagrad(torch.nn.parameter(),lr=0.01)\n",
    "criterion2 = nn.BCELoss()\n",
    "\n",
    "for epoch in range(epochs):\n",
    "    y_pred = model2(X1_train)\n",
    "    loss = criterion2(y_pred,y1_train)\n",
    "    optimizer2.zero_grad()\n",
    "    loss.backward()\n",
    "    optimizer2.step()\n",
    "    if((epoch+1)%10==0):\n",
    "        print(\"Epoch{}: {}\".format(epoch+1,loss.item()))\n",
    "\n",
    "#test\n",
    "model2.eval()\n",
    "test_y = model(X1_test)\n",
    "count =0\n",
    "for i in range(171):\n",
    "    if test_y[i]<0.5:\n",
    "        test_y[i]= 0. \n",
    "    else:\n",
    "        test_y[i]= 1\n",
    "for i in range(171):\n",
    "    if test_y[i]==y_test[i]:\n",
    "        count+=1\n"
   ]
  },
  {
   "cell_type": "code",
   "execution_count": 58,
   "metadata": {},
   "outputs": [
    {
     "name": "stdout",
     "output_type": "stream",
     "text": [
      "accuary:0.6023391812865497\n"
     ]
    }
   ],
   "source": [
    "print('accuary:{}'.format(count/len(test_y)))\n"
   ]
  }
 ],
 "metadata": {
  "interpreter": {
   "hash": "0843aa2147bb7b68e1331c060614b1ebfeaba0f0db744f4b489daeb337a1f0b2"
  },
  "kernelspec": {
   "display_name": "Python 3.8.3 64-bit",
   "name": "python3"
  },
  "language_info": {
   "codemirror_mode": {
    "name": "ipython",
    "version": 3
   },
   "file_extension": ".py",
   "mimetype": "text/x-python",
   "name": "python",
   "nbconvert_exporter": "python",
   "pygments_lexer": "ipython3",
   "version": "3.8.3"
  },
  "orig_nbformat": 4
 },
 "nbformat": 4,
 "nbformat_minor": 2
}
