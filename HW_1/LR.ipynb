{
    "cells": [
        {
            "cell_type": "code",
            "execution_count": 81,
            "source": [
                "\"\"\"\r\n",
                "李宏毅深度学习实验一 \r\n",
                "线性回归\r\n",
                "\"\"\""
            ],
            "outputs": [
                {
                    "output_type": "execute_result",
                    "data": {
                        "text/plain": [
                            "'\\n李宏毅深度学习实验一 \\n线性回归\\n'"
                        ]
                    },
                    "metadata": {},
                    "execution_count": 81
                }
            ],
            "metadata": {}
        },
        {
            "cell_type": "markdown",
            "source": [
                "\r\n",
                "#李宏毅深度学习实验一 \r\n",
                "线性回归\r\n"
            ],
            "metadata": {}
        },
        {
            "cell_type": "code",
            "execution_count": 82,
            "source": [
                "import torch\r\n",
                "import numpy as np\r\n",
                "import pandas as pd \r\n",
                "import torch.nn as nn\r\n",
                "import torch.optim\r\n",
                "import torch.nn.parameter"
            ],
            "outputs": [],
            "metadata": {}
        },
        {
            "cell_type": "code",
            "execution_count": 83,
            "source": [
                "#import data\r\n",
                "data = pd.read_csv(\"./data/train.csv\")\r\n",
                "\r\n",
                "#每18个 一天 之后是0-9天的 数据\r\n",
                "# train_data = data[\"Date\",\"observation\",\"0\",\"1\",\"2\",\"3\",\"4\"]\r\n",
                "# train_data.head()\r\n",
                "data = data.iloc[:, 3:]\r\n",
                "data[data == 'NR'] = 0\r\n",
                "raw_data = data.to_numpy()"
            ],
            "outputs": [],
            "metadata": {}
        },
        {
            "cell_type": "code",
            "execution_count": 84,
            "source": [
                "data.head()\r\n",
                "#将数据转换过去 换成正常的形态\r\n",
                "month_data = {}\r\n",
                "for month in range(12):\r\n",
                "    sample = np.empty([18,480])\r\n",
                "    for day in range(20):\r\n",
                "        sample[:,day*24 :(day+1)*24] = raw_data[18*(20*month +day):18*(20*month+day+1),:]\r\n",
                "    month_data[month] = sample\r\n"
            ],
            "outputs": [],
            "metadata": {}
        },
        {
            "cell_type": "code",
            "execution_count": 85,
            "source": [
                "#每个月 480 个小时 9小时一个data \r\n",
                "#故471*12 笔\r\n",
                "x = np.empty([12*471,18*9],dtype= float)\r\n",
                "y = np.empty([12*471,1],dtype= float)\r\n",
                "for month in range(12):\r\n",
                "    for day in range(20):\r\n",
                "        for hour in range(24):\r\n",
                "            if day ==19 and hour >14:\r\n",
                "                continue\r\n",
                "            #vector dim:18*9 (9 9 9 9 9 9 9 9 9 9 9 9 9 9 9 9 9 9)\r\n",
                "            x[month*471+day*24+hour,:] = month_data[month][:,day * 24 + hour : day * 24 + hour + 9].reshape(1, -1)\r\n",
                "            y[month*471+day*24+hour,0] = month_data[month][9, day * 24 + hour + 9]\r\n",
                "print(x[0].size)#162 18*9\r\n",
                "# print(y[0])\r\n"
            ],
            "outputs": [
                {
                    "output_type": "stream",
                    "name": "stdout",
                    "text": [
                        "162\n"
                    ]
                }
            ],
            "metadata": {}
        },
        {
            "cell_type": "code",
            "execution_count": 86,
            "source": [
                "#归一化 可有可无\r\n",
                "mean_x = np.mean(x,axis=0)\r\n",
                "std_x = np.std(x,axis=0)\r\n",
                "for i in range(len(x)):\r\n",
                "    for j in range(len(x[0])):\r\n",
                "        if std_x[j]!=0:\r\n",
                "            x[i][j] = (x[i][j]-mean_x[j])/std_x[j]"
            ],
            "outputs": [],
            "metadata": {}
        },
        {
            "cell_type": "code",
            "execution_count": 87,
            "source": [
                "\r\n",
                "len(x[0]) #5652 *162\r\n",
                "len(y[0])# 5652 *1"
            ],
            "outputs": [
                {
                    "output_type": "execute_result",
                    "data": {
                        "text/plain": [
                            "1"
                        ]
                    },
                    "metadata": {},
                    "execution_count": 87
                }
            ],
            "metadata": {}
        },
        {
            "cell_type": "code",
            "execution_count": 118,
            "source": [
                "class Model(nn.Module):\r\n",
                "    def __init__(self):\r\n",
                "        super(Model,self).__init__()\r\n",
                "        self.fc = nn.Linear(162,1)\r\n",
                "        \r\n",
                "    \r\n",
                "    def forward(self,x):\r\n",
                "        out = self.fc(x)\r\n",
                "        return out\r\n",
                "\r\n",
                "model = Model()\r\n",
                "\r\n",
                "#setting\r\n",
                "learing_rate = 0.05\r\n",
                "epochs = 1000\r\n",
                "optimizer = torch.optim.RMSprop(model.parameters(),lr=learing_rate)\r\n",
                "# optimizer = torch.optim.Adagrad(torch.nn.parameter(),lr=0.01)\r\n",
                "criterion = nn.MSELoss()"
            ],
            "outputs": [],
            "metadata": {}
        },
        {
            "cell_type": "code",
            "execution_count": 119,
            "source": [
                "#train\r\n",
                "# x = torch.from_numpy(x).float()\r\n",
                "# y = torch.from_numpy(y).float()\r\n",
                "for epoch in range(epochs):\r\n",
                "    y_pred = model(x)\r\n",
                "    loss = criterion(y_pred,y)\r\n",
                "    optimizer.zero_grad()\r\n",
                "    loss.backward()\r\n",
                "    optimizer.step()\r\n",
                "    if(epoch%100==0):\r\n",
                "        print(\"Epoch{}: {}\".format(epoch,loss.item()))\r\n",
                "torch.save(model,'model.pkl')\r\n"
            ],
            "outputs": [
                {
                    "output_type": "stream",
                    "name": "stdout",
                    "text": [
                        "Epoch0: 737.1849975585938\n",
                        "Epoch100: 510.9842224121094\n",
                        "Epoch200: 485.3968200683594\n",
                        "Epoch300: 468.2388000488281\n",
                        "Epoch400: 454.74481201171875\n",
                        "Epoch500: 443.40728759765625\n",
                        "Epoch600: 433.52972412109375\n",
                        "Epoch700: 424.72125244140625\n",
                        "Epoch800: 416.7366943359375\n",
                        "Epoch900: 409.4101257324219\n"
                    ]
                }
            ],
            "metadata": {}
        },
        {
            "cell_type": "code",
            "execution_count": 92,
            "source": [
                "#test 数据处理\r\n",
                "test_data = pd.read_csv('./data/test.csv', encoding='big5', header=None)\r\n",
                "test_data = test_data.iloc[:, 2:]\r\n",
                "test_data[test_data == 'NR'] = 0\r\n",
                "test_raw_data = test_data.to_numpy().astype(float)\r\n",
                "test_tensor = torch.from_numpy(test_raw_data)\r\n",
                "\r\n",
                "test_x = torch.zeros(240, 18*9)\r\n",
                "test_split = torch.split(test_tensor, 18, dim=0)\r\n",
                "print(len(test_split))\r\n",
                "for i in range(len(test_split)):\r\n",
                "    test_x[i] = torch.reshape(torch.t(test_split[i]), [1, -1])    # 注意此处要转置，因为处理训练集的时候转置了，而且转置之后才是比较和逻辑的。\r\n",
                "# print(test_x[0])\r\n",
                "norm = torch.nn.BatchNorm1d(162, affine=False, momentum=0.)      # 标准化\r\n",
                "test_x = norm(test_x)\r\n",
                "\r\n",
                "test_x2 = torch.cat([torch.ones(len(test_x), 1), test_x], dim=1)\r\n",
                "# print(x)\r\n",
                "print(test_x2.shape)\r\n",
                "print(test_x.shape)\r\n"
            ],
            "outputs": [
                {
                    "output_type": "stream",
                    "name": "stdout",
                    "text": [
                        "240\n",
                        "torch.Size([240, 163])\n",
                        "torch.Size([240, 162])\n"
                    ]
                }
            ],
            "metadata": {}
        },
        {
            "cell_type": "code",
            "execution_count": 114,
            "source": [
                "#test y \r\n",
                "\r\n",
                "testepoch = 1000\r\n",
                "model2 = torch.load('model.pkl')\r\n",
                "# test_x = torch.from_numpy(test_x)\r\n",
                "test_y = model2(test_x)\r\n",
                "# print(test_y.size)\r\n",
                "print(len(test_y))\r\n",
                "print(test_y.shape)\r\n",
                "test_y = test_y.detach().numpy()\r\n",
                "print(test_y[3][0])"
            ],
            "outputs": [
                {
                    "output_type": "stream",
                    "name": "stdout",
                    "text": [
                        "240\n",
                        "torch.Size([240, 1])\n",
                        "21.361267\n"
                    ]
                }
            ],
            "metadata": {}
        },
        {
            "cell_type": "code",
            "execution_count": 111,
            "source": [
                "#save output.csv\r\n",
                "\r\n",
                "import csv\r\n",
                "with open(\"./data/submit.csv\",mode = 'w',newline='')as submit_file:\r\n",
                "    csv_writer = csv.writer(submit_file)\r\n",
                "    header = ['id','value']\r\n",
                "    print(header)\r\n",
                "    csv_writer.writerow(header)\r\n",
                "    for i in range(240):\r\n",
                "        row = ['id_'+ str(i),test_y[i][0]]\r\n",
                "        csv_writer.writerow(row)\r\n",
                "        # print(row)"
            ],
            "outputs": [
                {
                    "output_type": "stream",
                    "name": "stdout",
                    "text": [
                        "['id', 'value']\n"
                    ]
                }
            ],
            "metadata": {}
        }
    ],
    "metadata": {
        "orig_nbformat": 4,
        "language_info": {
            "name": "python",
            "version": "3.8.3",
            "mimetype": "text/x-python",
            "codemirror_mode": {
                "name": "ipython",
                "version": 3
            },
            "pygments_lexer": "ipython3",
            "nbconvert_exporter": "python",
            "file_extension": ".py"
        },
        "kernelspec": {
            "name": "python3",
            "display_name": "Python 3.8.3 64-bit"
        },
        "interpreter": {
            "hash": "0843aa2147bb7b68e1331c060614b1ebfeaba0f0db744f4b489daeb337a1f0b2"
        }
    },
    "nbformat": 4,
    "nbformat_minor": 2
}