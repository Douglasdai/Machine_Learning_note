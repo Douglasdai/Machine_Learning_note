{
 "cells": [
  {
   "cell_type": "code",
   "execution_count": 1,
   "metadata": {},
   "outputs": [],
   "source": [
    "from csv import reader\n",
    "import numpy as np \n",
    "from sklearn.preprocessing import MinMaxScaler\n",
    "import random\n",
    "import matplotlib.pyplot as plt\n",
    "import math"
   ]
  },
  {
   "cell_type": "code",
   "execution_count": 2,
   "metadata": {},
   "outputs": [],
   "source": [
    "def load_dataset(dataset_path,n_train_data):                     \n",
    "    dataset = []\n",
    "    #label_dict = {'Iris-setosa': 0, 'Iris-versicolor': 1, 'Iris-virginica': 2}\n",
    "    label_dict = {'1':0,'2':1,'3':2}\n",
    "    with open(dataset_path,'r')as f:\n",
    "        csv_reader =reader(f,delimiter = ',')\n",
    "        for row in csv_reader:\n",
    "            row[0:12] = list(map(float,row[0:12]))\n",
    "            row[13] = label_dict[row[13]]\n",
    "            dataset.append(row)\n",
    "\n",
    "    dataset = np.array(dataset)\n",
    "    mms = MinMaxScaler()\n",
    "    for i in range(dataset.shape[1]-1):\n",
    "        dataset[:,i] = mms.fit_transform(dataset[:,i].reshape(-1,1)).flatten()\n",
    "    #to int \n",
    "    dataset = dataset.tolist()\n",
    "    data = []\n",
    "    for row in dataset:\n",
    "        row= list(map(float,row))\n",
    "        row[13] = int(row[13])\n",
    "        data.append(row)\n",
    "    random.shuffle(data)\n",
    "\n",
    "    train_data = data[0:n_train_data]\n",
    "    val_data = data[n_train_data:]  \n",
    "\n",
    "    return train_data,val_data"
   ]
  },
  {
   "cell_type": "code",
   "execution_count": 3,
   "metadata": {},
   "outputs": [],
   "source": [
    "#compute neourn \n",
    "def fun_z(weights,inputs):\n",
    "    #linear y = wx +b return y\n",
    "    bias_term = weights[-1]\n",
    "    z =0\n",
    "    #print(inputs[0])\n",
    "    for i in range(len(weights)-1):\n",
    "        z+=weights[i]*inputs[i]\n",
    "    z+=bias_term\n",
    "    return z\n",
    "\n",
    "def sigmoid(z):\n",
    "    return 1.0/(1.0+math.exp(-z))\n",
    "\n",
    "#西瓜书5.9  sigmoid 求导， bp用到\n",
    "def sigmoid_derivative(output):\n",
    "    return output*(1.0-output)\n",
    "\n"
   ]
  },
  {
   "cell_type": "code",
   "execution_count": 4,
   "metadata": {},
   "outputs": [],
   "source": [
    "def forward_propagate(network,inputs):\n",
    "    for layer in network:\n",
    "        new_inputs =[]\n",
    "        for neuron in layer:\n",
    "            z = fun_z(neuron['weights'],inputs)\n",
    "            neuron['output'] = sigmoid(z)\n",
    "            new_inputs.append(neuron['output'])\n",
    "        inputs = new_inputs\n",
    "    return inputs"
   ]
  },
  {
   "cell_type": "code",
   "execution_count": 5,
   "metadata": {},
   "outputs": [],
   "source": [
    "def backward_propagate_error(network,actual_label):\n",
    "    for i in reversed(range(len(network))):\n",
    "        layer = network[i]\n",
    "        errors = list()\n",
    "        if i !=len(network)-1:\n",
    "            for j in range(len(layer)):\n",
    "                error =0.0\n",
    "                for neuron in network[i+1]:\n",
    "                    error+=(neuron['weights'][j]*neuron['delta'])\n",
    "                errors.append(error)\n",
    "\n",
    "        else:\n",
    "            for j in range(len(layer)):\n",
    "                neuron = layer[j]\n",
    "                errors.append(actual_label[j]-neuron['output'])\n",
    "        \n",
    "        #compute delta \n",
    "        for j in range(len(layer)):\n",
    "            neuron = layer[j]\n",
    "            neuron['delta'] =errors[j]*sigmoid_derivative(neuron['output'])\n",
    "            "
   ]
  },
  {
   "cell_type": "code",
   "execution_count": 6,
   "metadata": {},
   "outputs": [],
   "source": [
    "#upgrad w and  b\n",
    "def update_parameters(network,row,l_rate):\n",
    "    for i in range(len(network)):\n",
    "        inputs=row[:-1]\n",
    "        if i != 0:\n",
    "            inputs = [neuron['output']for neuron in network[i-1]]\n",
    "        for neuron in network[i]:\n",
    "            for j in range(len(inputs)):\n",
    "                neuron['weights'][j]+=l_rate*neuron['delta']*inputs[j]\n",
    "            \n",
    "            neuron['weights'][-1]+=l_rate*neuron['delta']\n"
   ]
  },
  {
   "cell_type": "code",
   "execution_count": 7,
   "metadata": {},
   "outputs": [],
   "source": [
    "#network initialize\n",
    "def intialize_network(n_inputs,n_hidden,n_outputs):\n",
    "    #只有一个 隐藏层\n",
    "    network = list()\n",
    "    hidden_layer = [{'weights':[random.random()for i in range(n_inputs+1)]}for i in range(n_hidden)]\n",
    "    network.append(hidden_layer)\n",
    "    #output\n",
    "    output_layer =[{'weights':[random.random()for i in range(n_hidden+1)]}for i in range(n_outputs)]\n",
    "    network.append(output_layer)\n",
    "    return network"
   ]
  },
  {
   "cell_type": "code",
   "execution_count": 8,
   "metadata": {},
   "outputs": [],
   "source": [
    "#train \n",
    "def train(train_data,l_rate,epochs,n_hidden,val_data):\n",
    "    #val_data 验证集\n",
    "    n_inputs = len(train_data[0])-1\n",
    "    n_outputs = len(set([row[-1] for row in train_data]))\n",
    "    print(n_inputs,n_inputs)\n",
    "    #initialize\n",
    "    network = intialize_network(n_inputs,n_hidden,n_outputs)\n",
    "\n",
    "    acc  = []\n",
    "    for epoch in range(epochs):\n",
    "        for row in train_data:\n",
    "            _ = forward_propagate(network,row)\n",
    "            #label to compute loss\n",
    "            actual_label = [0 for i in range(n_outputs)]\n",
    "            actual_label[row[-1]] =1\n",
    "            #backward\n",
    "            backward_propagate_error(network,actual_label)\n",
    "            #updata parameters\n",
    "            update_parameters(network,row,l_rate)\n",
    "        acc.append(validation(network,val_data))\n",
    "    plt.xlabel('epochs')\n",
    "    plt.ylabel('acc')\n",
    "    plt.plot(acc)\n",
    "    plt.show()\n",
    "\n",
    "    return network\n"
   ]
  },
  {
   "cell_type": "code",
   "execution_count": 9,
   "metadata": {},
   "outputs": [],
   "source": [
    "#validation\n",
    "def validation(network,val_data):\n",
    "    predicted_label = []\n",
    "    for row in val_data:\n",
    "        prediction = predict(network,row)\n",
    "        predicted_label.append(prediction)\n",
    "    actual_label = [row[-1]for row in val_data]\n",
    "    accuracy = accuracy_calculation(actual_label,predicted_label)\n",
    "    return accuracy\n"
   ]
  },
  {
   "cell_type": "code",
   "execution_count": 10,
   "metadata": {},
   "outputs": [],
   "source": [
    "def accuracy_calculation(actual_label,predicted_label):\n",
    "    correct_count = 0\n",
    "    for i in range(len(actual_label)):\n",
    "        if actual_label[i]==predicted_label[i]:\n",
    "            correct_count+=1\n",
    "    return correct_count/float(len(actual_label))*100.0\n",
    "\n",
    "def predict(network,row):\n",
    "    outputs =forward_propagate(network,row)\n",
    "    return outputs.index(max(outputs))"
   ]
  },
  {
   "cell_type": "code",
   "execution_count": 11,
   "metadata": {},
   "outputs": [
    {
     "name": "stdout",
     "output_type": "stream",
     "text": [
      "13 13\n"
     ]
    },
    {
     "data": {
      "image/png": "[encoded data removed]",
      "text/plain": [
       "<Figure size 432x288 with 1 Axes>"
      ]
     },
     "metadata": {
      "needs_background": "light"
     },
     "output_type": "display_data"
    }
   ],
   "source": [
    "if __name__ =='__main__':\n",
    "    file_path = './wine.csv'\n",
    "    #setting\n",
    "    l_rate  = 0.6\n",
    "    epochs = 200\n",
    "    n_hidden =15\n",
    "    n_train_data = 120\n",
    "    train_data,val_data = load_dataset(file_path,n_train_data)\n",
    "    # for row in train_data:\n",
    "    #     print(row[-1])\n",
    "    #     break\n",
    "    #train\n",
    "    network = train(train_data,l_rate,epochs,n_hidden,val_data)"
   ]
  }
 ],
 "metadata": {
  "interpreter": {
   "hash": "0843aa2147bb7b68e1331c060614b1ebfeaba0f0db744f4b489daeb337a1f0b2"
  },
  "kernelspec": {
   "display_name": "Python 3.8.3 64-bit",
   "name": "python3"
  },
  "language_info": {
   "codemirror_mode": {
    "name": "ipython",
    "version": 3
   },
   "file_extension": ".py",
   "mimetype": "text/x-python",
   "name": "python",
   "nbconvert_exporter": "python",
   "pygments_lexer": "ipython3",
   "version": "3.8.3"
  },
  "orig_nbformat": 4
 },
 "nbformat": 4,
 "nbformat_minor": 2
}
