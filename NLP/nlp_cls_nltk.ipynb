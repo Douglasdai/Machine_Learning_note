{
 "cells": [
  {
   "cell_type": "code",
   "execution_count": 7,
   "metadata": {},
   "outputs": [],
   "source": [
    "#import\n",
    "import numpy as np # linear algebra\n",
    "import pandas as pd\n",
    "import re \n",
    "import nltk \n",
    "from sklearn.feature_extraction.text import CountVectorizer\n",
    "\n",
    "import torch\n",
    "import torch.nn as nn\n",
    "import seaborn as sns\n",
    "import matplotlib.pyplot as plt \n",
    "\n",
    "from sklearn.model_selection import train_test_split\n",
    "%matplotlib inline\n",
    "%config InlineBackend.figure_format = 'retina'"
   ]
  },
  {
   "cell_type": "code",
   "execution_count": 8,
   "metadata": {},
   "outputs": [
    {
     "data": {
      "text/html": [
       "<div>\n",
       "<style scoped>\n",
       "    .dataframe tbody tr th:only-of-type {\n",
       "        vertical-align: middle;\n",
       "    }\n",
       "\n",
       "    .dataframe tbody tr th {\n",
       "        vertical-align: top;\n",
       "    }\n",
       "\n",
       "    .dataframe thead th {\n",
       "        text-align: right;\n",
       "    }\n",
       "</style>\n",
       "<table border=\"1\" class=\"dataframe\">\n",
       "  <thead>\n",
       "    <tr style=\"text-align: right;\">\n",
       "      <th></th>\n",
       "      <th>title</th>\n",
       "      <th>text</th>\n",
       "      <th>subject</th>\n",
       "      <th>date</th>\n",
       "      <th>label</th>\n",
       "    </tr>\n",
       "  </thead>\n",
       "  <tbody>\n",
       "    <tr>\n",
       "      <th>0</th>\n",
       "      <td>As U.S. budget fight looms, Republicans flip t...</td>\n",
       "      <td>WASHINGTON (Reuters) - The head of a conservat...</td>\n",
       "      <td>politicsNews</td>\n",
       "      <td>December 31, 2017</td>\n",
       "      <td>1</td>\n",
       "    </tr>\n",
       "    <tr>\n",
       "      <th>1</th>\n",
       "      <td>U.S. military to accept transgender recruits o...</td>\n",
       "      <td>WASHINGTON (Reuters) - Transgender people will...</td>\n",
       "      <td>politicsNews</td>\n",
       "      <td>December 29, 2017</td>\n",
       "      <td>1</td>\n",
       "    </tr>\n",
       "    <tr>\n",
       "      <th>2</th>\n",
       "      <td>Senior U.S. Republican senator: 'Let Mr. Muell...</td>\n",
       "      <td>WASHINGTON (Reuters) - The special counsel inv...</td>\n",
       "      <td>politicsNews</td>\n",
       "      <td>December 31, 2017</td>\n",
       "      <td>1</td>\n",
       "    </tr>\n",
       "    <tr>\n",
       "      <th>3</th>\n",
       "      <td>FBI Russia probe helped by Australian diplomat...</td>\n",
       "      <td>WASHINGTON (Reuters) - Trump campaign adviser ...</td>\n",
       "      <td>politicsNews</td>\n",
       "      <td>December 30, 2017</td>\n",
       "      <td>1</td>\n",
       "    </tr>\n",
       "    <tr>\n",
       "      <th>4</th>\n",
       "      <td>Trump wants Postal Service to charge 'much mor...</td>\n",
       "      <td>SEATTLE/WASHINGTON (Reuters) - President Donal...</td>\n",
       "      <td>politicsNews</td>\n",
       "      <td>December 29, 2017</td>\n",
       "      <td>1</td>\n",
       "    </tr>\n",
       "  </tbody>\n",
       "</table>\n",
       "</div>"
      ],
      "text/plain": [
       "                                               title  \\\n",
       "0  As U.S. budget fight looms, Republicans flip t...   \n",
       "1  U.S. military to accept transgender recruits o...   \n",
       "2  Senior U.S. Republican senator: 'Let Mr. Muell...   \n",
       "3  FBI Russia probe helped by Australian diplomat...   \n",
       "4  Trump wants Postal Service to charge 'much mor...   \n",
       "\n",
       "                                                text       subject  \\\n",
       "0  WASHINGTON (Reuters) - The head of a conservat...  politicsNews   \n",
       "1  WASHINGTON (Reuters) - Transgender people will...  politicsNews   \n",
       "2  WASHINGTON (Reuters) - The special counsel inv...  politicsNews   \n",
       "3  WASHINGTON (Reuters) - Trump campaign adviser ...  politicsNews   \n",
       "4  SEATTLE/WASHINGTON (Reuters) - President Donal...  politicsNews   \n",
       "\n",
       "                 date  label  \n",
       "0  December 31, 2017       1  \n",
       "1  December 29, 2017       1  \n",
       "2  December 31, 2017       1  \n",
       "3  December 30, 2017       1  \n",
       "4  December 29, 2017       1  "
      ]
     },
     "execution_count": 8,
     "metadata": {},
     "output_type": "execute_result"
    }
   ],
   "source": [
    "#overview the data\n",
    "df1 = pd.read_csv('D:/ML_data_sql/news/True.csv')\n",
    "df2 = pd.read_csv('D:/ML_data_sql/news/Fake.csv')\n",
    "df1['label'] = 1\n",
    "df2['label'] = 0\n",
    "df = pd.concat([df1, df2], axis=0)\n",
    "\n",
    "del df1 \n",
    "del df2\n",
    "df.head()"
   ]
  },
  {
   "cell_type": "code",
   "execution_count": 9,
   "metadata": {},
   "outputs": [
    {
     "name": "stdout",
     "output_type": "stream",
     "text": [
      "<class 'pandas.core.frame.DataFrame'>\n",
      "Int64Index: 44898 entries, 0 to 23480\n",
      "Data columns (total 5 columns):\n",
      " #   Column   Non-Null Count  Dtype \n",
      "---  ------   --------------  ----- \n",
      " 0   title    44898 non-null  object\n",
      " 1   text     44898 non-null  object\n",
      " 2   subject  44898 non-null  object\n",
      " 3   date     44898 non-null  object\n",
      " 4   label    44898 non-null  int64 \n",
      "dtypes: int64(1), object(4)\n",
      "memory usage: 2.1+ MB\n"
     ]
    }
   ],
   "source": [
    "df.info()"
   ]
  },
  {
   "cell_type": "code",
   "execution_count": 10,
   "metadata": {},
   "outputs": [
    {
     "data": {
      "text/html": [
       "<div>\n",
       "<style scoped>\n",
       "    .dataframe tbody tr th:only-of-type {\n",
       "        vertical-align: middle;\n",
       "    }\n",
       "\n",
       "    .dataframe tbody tr th {\n",
       "        vertical-align: top;\n",
       "    }\n",
       "\n",
       "    .dataframe thead th {\n",
       "        text-align: right;\n",
       "    }\n",
       "</style>\n",
       "<table border=\"1\" class=\"dataframe\">\n",
       "  <thead>\n",
       "    <tr style=\"text-align: right;\">\n",
       "      <th></th>\n",
       "      <th>title</th>\n",
       "      <th>text</th>\n",
       "      <th>date</th>\n",
       "      <th>label</th>\n",
       "      <th>subject_Government News</th>\n",
       "      <th>subject_Middle-east</th>\n",
       "      <th>subject_News</th>\n",
       "      <th>subject_US_News</th>\n",
       "      <th>subject_left-news</th>\n",
       "      <th>subject_politics</th>\n",
       "      <th>subject_politicsNews</th>\n",
       "      <th>subject_worldnews</th>\n",
       "    </tr>\n",
       "  </thead>\n",
       "  <tbody>\n",
       "    <tr>\n",
       "      <th>0</th>\n",
       "      <td>As U.S. budget fight looms, Republicans flip t...</td>\n",
       "      <td>WASHINGTON (Reuters) - The head of a conservat...</td>\n",
       "      <td>December 31, 2017</td>\n",
       "      <td>1</td>\n",
       "      <td>0</td>\n",
       "      <td>0</td>\n",
       "      <td>0</td>\n",
       "      <td>0</td>\n",
       "      <td>0</td>\n",
       "      <td>0</td>\n",
       "      <td>1</td>\n",
       "      <td>0</td>\n",
       "    </tr>\n",
       "    <tr>\n",
       "      <th>1</th>\n",
       "      <td>U.S. military to accept transgender recruits o...</td>\n",
       "      <td>WASHINGTON (Reuters) - Transgender people will...</td>\n",
       "      <td>December 29, 2017</td>\n",
       "      <td>1</td>\n",
       "      <td>0</td>\n",
       "      <td>0</td>\n",
       "      <td>0</td>\n",
       "      <td>0</td>\n",
       "      <td>0</td>\n",
       "      <td>0</td>\n",
       "      <td>1</td>\n",
       "      <td>0</td>\n",
       "    </tr>\n",
       "    <tr>\n",
       "      <th>2</th>\n",
       "      <td>Senior U.S. Republican senator: 'Let Mr. Muell...</td>\n",
       "      <td>WASHINGTON (Reuters) - The special counsel inv...</td>\n",
       "      <td>December 31, 2017</td>\n",
       "      <td>1</td>\n",
       "      <td>0</td>\n",
       "      <td>0</td>\n",
       "      <td>0</td>\n",
       "      <td>0</td>\n",
       "      <td>0</td>\n",
       "      <td>0</td>\n",
       "      <td>1</td>\n",
       "      <td>0</td>\n",
       "    </tr>\n",
       "    <tr>\n",
       "      <th>3</th>\n",
       "      <td>FBI Russia probe helped by Australian diplomat...</td>\n",
       "      <td>WASHINGTON (Reuters) - Trump campaign adviser ...</td>\n",
       "      <td>December 30, 2017</td>\n",
       "      <td>1</td>\n",
       "      <td>0</td>\n",
       "      <td>0</td>\n",
       "      <td>0</td>\n",
       "      <td>0</td>\n",
       "      <td>0</td>\n",
       "      <td>0</td>\n",
       "      <td>1</td>\n",
       "      <td>0</td>\n",
       "    </tr>\n",
       "    <tr>\n",
       "      <th>4</th>\n",
       "      <td>Trump wants Postal Service to charge 'much mor...</td>\n",
       "      <td>SEATTLE/WASHINGTON (Reuters) - President Donal...</td>\n",
       "      <td>December 29, 2017</td>\n",
       "      <td>1</td>\n",
       "      <td>0</td>\n",
       "      <td>0</td>\n",
       "      <td>0</td>\n",
       "      <td>0</td>\n",
       "      <td>0</td>\n",
       "      <td>0</td>\n",
       "      <td>1</td>\n",
       "      <td>0</td>\n",
       "    </tr>\n",
       "  </tbody>\n",
       "</table>\n",
       "</div>"
      ],
      "text/plain": [
       "                                               title  \\\n",
       "0  As U.S. budget fight looms, Republicans flip t...   \n",
       "1  U.S. military to accept transgender recruits o...   \n",
       "2  Senior U.S. Republican senator: 'Let Mr. Muell...   \n",
       "3  FBI Russia probe helped by Australian diplomat...   \n",
       "4  Trump wants Postal Service to charge 'much mor...   \n",
       "\n",
       "                                                text                date  \\\n",
       "0  WASHINGTON (Reuters) - The head of a conservat...  December 31, 2017    \n",
       "1  WASHINGTON (Reuters) - Transgender people will...  December 29, 2017    \n",
       "2  WASHINGTON (Reuters) - The special counsel inv...  December 31, 2017    \n",
       "3  WASHINGTON (Reuters) - Trump campaign adviser ...  December 30, 2017    \n",
       "4  SEATTLE/WASHINGTON (Reuters) - President Donal...  December 29, 2017    \n",
       "\n",
       "   label  subject_Government News  subject_Middle-east  subject_News  \\\n",
       "0      1                        0                    0             0   \n",
       "1      1                        0                    0             0   \n",
       "2      1                        0                    0             0   \n",
       "3      1                        0                    0             0   \n",
       "4      1                        0                    0             0   \n",
       "\n",
       "   subject_US_News  subject_left-news  subject_politics  subject_politicsNews  \\\n",
       "0                0                  0                 0                     1   \n",
       "1                0                  0                 0                     1   \n",
       "2                0                  0                 0                     1   \n",
       "3                0                  0                 0                     1   \n",
       "4                0                  0                 0                     1   \n",
       "\n",
       "   subject_worldnews  \n",
       "0                  0  \n",
       "1                  0  \n",
       "2                  0  \n",
       "3                  0  \n",
       "4                  0  "
      ]
     },
     "execution_count": 10,
     "metadata": {},
     "output_type": "execute_result"
    }
   ],
   "source": [
    "data = pd.get_dummies(df,columns=[\"subject\"])\n",
    "data.head()"
   ]
  },
  {
   "cell_type": "code",
   "execution_count": 11,
   "metadata": {},
   "outputs": [
    {
     "name": "stdout",
     "output_type": "stream",
     "text": [
      "<class 'pandas.core.frame.DataFrame'>\n",
      "Int64Index: 44898 entries, 0 to 23480\n",
      "Data columns (total 11 columns):\n",
      " #   Column                   Non-Null Count  Dtype \n",
      "---  ------                   --------------  ----- \n",
      " 0   title                    44898 non-null  object\n",
      " 1   text                     44898 non-null  object\n",
      " 2   label                    44898 non-null  int64 \n",
      " 3   subject_Government News  44898 non-null  uint8 \n",
      " 4   subject_Middle-east      44898 non-null  uint8 \n",
      " 5   subject_News             44898 non-null  uint8 \n",
      " 6   subject_US_News          44898 non-null  uint8 \n",
      " 7   subject_left-news        44898 non-null  uint8 \n",
      " 8   subject_politics         44898 non-null  uint8 \n",
      " 9   subject_politicsNews     44898 non-null  uint8 \n",
      " 10  subject_worldnews        44898 non-null  uint8 \n",
      "dtypes: int64(1), object(2), uint8(8)\n",
      "memory usage: 1.7+ MB\n"
     ]
    }
   ],
   "source": [
    "data = data.drop(\"date\",axis=1)\n",
    "data.info()"
   ]
  },
  {
   "cell_type": "code",
   "execution_count": 12,
   "metadata": {},
   "outputs": [
    {
     "data": {
      "text/plain": [
       "'washington reuters the head of a conservative republican faction in the u s congress who voted this month for a huge expansion of the national debt to pay for tax cut called himself a fiscal conservative on sunday and urged budget restraint in in keeping with a sharp pivot under way among republican u s representative mark meadow speaking on cbs face the nation drew a hard line on federal spending which lawmaker are bracing to do battle over in january when they return from the holiday on wednesday lawmaker will begin trying to pas a federal budget in a fight likely to be linked to other issue such a immigration policy even a the november congressional election campaign approach in which republican will seek to keep control of congress president donald trump and his republican want a big budget increase in military spending while democrat also want proportional increase for non defense discretionary spending on program that support education scientific research infrastructure public health and environmental protection the trump administration ha already been willing to say we re going to increase non defense discretionary spending by about percent meadow chairman of the small but influential house freedom caucus said on the program now democrat are saying that s not enough we need to give the government a pay raise of to percent for a fiscal conservative i don t see where the rationale is eventually you run out of other people s money he said meadow wa among republican who voted in late december for their party s debt financed tax overhaul which is expected to balloon the federal budget deficit and add about trillion over year to the trillion national debt it s interesting to hear mark talk about fiscal responsibility democratic u s representative joseph crowley said on cbs crowley said the republican tax bill would require the united state to borrow trillion to be paid off by future generation to finance tax cut for corporation and the rich this is one of the least fiscally responsible bill we ve ever seen passed in the history of the house of representative i think we re going to be paying for this for many many year to come crowley said republican insist the tax package the biggest u s tax overhaul in more than year will boost the economy and job growth house speaker paul ryan who also supported the tax bill recently went further than meadow making clear in a radio interview that welfare or entitlement reform a the party often call it would be a top republican priority in in republican parlance entitlement program mean food stamp housing assistance medicare and medicaid health insurance for the elderly poor and disabled a well a other program created by washington to assist the needy democrat seized on ryan s early december remark saying they showed republican would try to pay for their tax overhaul by seeking spending cut for social program but the goal of house republican may have to take a back seat to the senate where the vote of some democrat will be needed to approve a budget and prevent a government shutdown democrat will use their leverage in the senate which republican narrowly control to defend both discretionary non defense program and social spending while tackling the issue of the dreamer people brought illegally to the country a child trump in september put a march expiration date on the deferred action for childhood arrival or daca program which protects the young immigrant from deportation and provides them with work permit the president ha said in recent twitter message he want funding for his proposed mexican border wall and other immigration law change in exchange for agreeing to help the dreamer representative debbie dingell told cbs she did not favor linking that issue to other policy objective such a wall funding we need to do daca clean she said on wednesday trump aide will meet with congressional leader to discus those issue that will be followed by a weekend of strategy session for trump and republican leader on jan and the white house said trump wa also scheduled to meet on sunday with florida republican governor rick scott who want more emergency aid the house ha passed an billion aid package after hurricane in florida texas and puerto rico and wildfire in california the package far exceeded the billion requested by the trump administration the senate ha not yet voted on the aid'"
      ]
     },
     "execution_count": 12,
     "metadata": {},
     "output_type": "execute_result"
    }
   ],
   "source": [
    "#natural language processsing \n",
    "new_text = []\n",
    "pattern = \"[^a-zA-Z]\"\n",
    "lemma = nltk.WordNetLemmatizer()\n",
    "\n",
    "for txt in data.text:\n",
    "    txt = re.sub(pattern,\" \",txt) # Cleaning\n",
    "    txt = txt.lower() # Lowering\n",
    "    txt = nltk.word_tokenize(txt) # Tokenizing\n",
    "    txt = [lemma.lemmatize(word) for word in txt] # Lemmatizing\n",
    "    txt = \" \".join(txt)\n",
    "    new_text.append(txt)\n",
    "    \n",
    "new_text[0]"
   ]
  },
  {
   "cell_type": "code",
   "execution_count": 13,
   "metadata": {},
   "outputs": [
    {
     "data": {
      "text/plain": [
       "'a u s budget fight loom republican flip their fiscal script'"
      ]
     },
     "execution_count": 13,
     "metadata": {},
     "output_type": "execute_result"
    }
   ],
   "source": [
    "new_title = []\n",
    "for txt in data.title:\n",
    "    \n",
    "    txt = re.sub(pattern,\" \",txt) # Cleaning\n",
    "    txt = txt.lower() # Lowering\n",
    "    txt = nltk.word_tokenize(txt) # Tokenizing\n",
    "    txt = [lemma.lemmatize(word) for word in txt] # Lemmatizing\n",
    "    txt = \" \".join(txt)\n",
    "    new_title.append(txt)\n",
    "new_title[0]"
   ]
  },
  {
   "cell_type": "code",
   "execution_count": 14,
   "metadata": {},
   "outputs": [
    {
     "name": "stdout",
     "output_type": "stream",
     "text": [
      "Finished\n"
     ]
    }
   ],
   "source": [
    "#creating sparce matrixes\n",
    "vectorizer_title = CountVectorizer(stop_words=\"english\",max_features=1000)\n",
    "vectorizer_text = CountVectorizer(stop_words=\"english\",max_features=4000)\n",
    "\n",
    "title_matrix = vectorizer_title.fit_transform(new_title).toarray() \n",
    "text_matrix = vectorizer_text.fit_transform(new_text).toarray()\n",
    "\n",
    "print(\"Finished\")"
   ]
  },
  {
   "cell_type": "code",
   "execution_count": 15,
   "metadata": {},
   "outputs": [
    {
     "name": "stdout",
     "output_type": "stream",
     "text": [
      "<class 'pandas.core.frame.DataFrame'>\n",
      "Int64Index: 44898 entries, 0 to 23480\n",
      "Data columns (total 9 columns):\n",
      " #   Column                   Non-Null Count  Dtype\n",
      "---  ------                   --------------  -----\n",
      " 0   label                    44898 non-null  int64\n",
      " 1   subject_Government News  44898 non-null  uint8\n",
      " 2   subject_Middle-east      44898 non-null  uint8\n",
      " 3   subject_News             44898 non-null  uint8\n",
      " 4   subject_US_News          44898 non-null  uint8\n",
      " 5   subject_left-news        44898 non-null  uint8\n",
      " 6   subject_politics         44898 non-null  uint8\n",
      " 7   subject_politicsNews     44898 non-null  uint8\n",
      " 8   subject_worldnews        44898 non-null  uint8\n",
      "dtypes: int64(1), uint8(8)\n",
      "memory usage: 1.0 MB\n"
     ]
    }
   ],
   "source": [
    "data.drop([\"title\",\"text\"],axis=1,inplace=True)\n",
    "data.info()"
   ]
  },
  {
   "cell_type": "code",
   "execution_count": 16,
   "metadata": {},
   "outputs": [
    {
     "name": "stdout",
     "output_type": "stream",
     "text": [
      "(44898, 9)\n",
      "(44898, 1000)\n",
      "(44898, 4000)\n"
     ]
    }
   ],
   "source": [
    "print(data.shape)\n",
    "print(title_matrix.shape)\n",
    "print(text_matrix.shape)"
   ]
  },
  {
   "cell_type": "code",
   "execution_count": 18,
   "metadata": {},
   "outputs": [
    {
     "name": "stdout",
     "output_type": "stream",
     "text": [
      "(44898, 5008)\n",
      "(44898,)\n"
     ]
    }
   ],
   "source": [
    "#create X and Y\n",
    "y = data.label\n",
    "# Creating X\n",
    "x = np.concatenate((np.array(data.drop(\"label\",axis=1)),title_matrix,text_matrix),axis=1)\n",
    "print(x.shape) # 5008\n",
    "print(y.shape)"
   ]
  },
  {
   "cell_type": "code",
   "execution_count": 19,
   "metadata": {},
   "outputs": [],
   "source": [
    "X_train,X_test,Y_train,Y_test = train_test_split(x,np.array(y),test_size=0.25,random_state=1)"
   ]
  },
  {
   "cell_type": "code",
   "execution_count": 20,
   "metadata": {},
   "outputs": [],
   "source": [
    "class ANN(nn.Module):\n",
    "    def __init__(self):\n",
    "        super(ANN,self).__init__() # Inhertiting\n",
    "        self.linear1 = nn.Linear(5008,2000) # IN 5008 OUT 2000\n",
    "        self.relu1 = nn.ReLU() # Actfunc 1\n",
    "        self.linear2 = nn.Linear(2000,500) # IN 2000 OUT 500\n",
    "        self.relu2 = nn.ReLU()\n",
    "        self.linear3 = nn.Linear(500,100) # IN 500 OUT 100\n",
    "        self.relu3 = nn.ReLU()\n",
    "        self.linear4 = nn.Linear(100,20) # IN 100 OUT 20\n",
    "        self.relu4 = nn.ReLU()\n",
    "        self.linear5 = nn.Linear(20,2) # IN 20 OUT 2 | OUTPUT \n",
    "\n",
    "    def forward(self,x):\n",
    "        out = self.linear1(x) # Input Layer \n",
    "        out = self.relu1(out)\n",
    "        out = self.linear2(out) # Hidden Layer 1 \n",
    "        out = self.relu2(out)\n",
    "        out = self.linear3(out) # Hidden Layer 2 \n",
    "        out = self.relu3(out)\n",
    "        out = self.linear4(out) # Hidden Layer 3 \n",
    "        out = self.relu4(out)\n",
    "        out = self.linear5(out) # Output Layer\n",
    "        return out\n",
    "    \n",
    "model = ANN()\n",
    "optimizer = torch.optim.Adam(model.parameters(),lr=0.01)\n",
    "error = nn.CrossEntropyLoss()"
   ]
  },
  {
   "cell_type": "code",
   "execution_count": 21,
   "metadata": {},
   "outputs": [],
   "source": [
    "#train\n",
    "X_train = torch.Tensor(X_train)\n",
    "\n",
    "# You must convert it into LongTensor. I did it once\n",
    "Y_train = torch.Tensor(Y_train).type(torch.LongTensor)\n",
    "\n",
    "X_test = torch.Tensor(X_test)\n",
    "Y_test = torch.Tensor(Y_test)"
   ]
  },
  {
   "cell_type": "code",
   "execution_count": 22,
   "metadata": {},
   "outputs": [
    {
     "name": "stdout",
     "output_type": "stream",
     "text": [
      "Loss after iteration 0 is 0.6966835856437683\n",
      "Loss after iteration 1 is 4.304051399230957\n",
      "Loss after iteration 2 is 0.9626540541648865\n",
      "Loss after iteration 3 is 0.7493709325790405\n",
      "Loss after iteration 4 is 0.6118916273117065\n",
      "Loss after iteration 5 is 0.7891976237297058\n",
      "Loss after iteration 6 is 0.478047639131546\n",
      "Loss after iteration 7 is 0.5585957765579224\n",
      "Loss after iteration 8 is 0.36810025572776794\n",
      "Loss after iteration 9 is 0.4113313555717468\n",
      "Loss after iteration 10 is 0.3271370828151703\n",
      "Loss after iteration 11 is 0.20924752950668335\n",
      "Loss after iteration 12 is 0.2074936330318451\n",
      "Loss after iteration 13 is 0.2108602076768875\n",
      "Loss after iteration 14 is 0.14818793535232544\n",
      "Loss after iteration 15 is 0.11358180642127991\n",
      "Loss after iteration 16 is 0.10639120638370514\n",
      "Loss after iteration 17 is 0.08466185629367828\n",
      "Loss after iteration 18 is 0.05859895050525665\n",
      "Loss after iteration 19 is 0.04712054505944252\n"
     ]
    }
   ],
   "source": [
    "EPOCHS = 20\n",
    "\n",
    "for epoch in range(EPOCHS):\n",
    "    \n",
    "    # Clearing gradients\n",
    "    optimizer.zero_grad()\n",
    "    \n",
    "    # Forward Propagation\n",
    "    outs = model(X_train)\n",
    "    \n",
    "    # Computing Loss\n",
    "    loss = error(outs,Y_train)\n",
    "    \n",
    "    # Backward propagation\n",
    "    loss.backward()\n",
    "    \n",
    "    # Updating parameters\n",
    "    optimizer.step()\n",
    "    \n",
    "    # Printing loss\n",
    "    print(f\"Loss after iteration {epoch} is {loss}\")"
   ]
  },
  {
   "cell_type": "code",
   "execution_count": 23,
   "metadata": {},
   "outputs": [
    {
     "name": "stdout",
     "output_type": "stream",
     "text": [
      "tensor([-2.7808,  7.0310], grad_fn=<SelectBackward>)\n",
      "tensor(1)\n",
      "Model accuracy is  0.9873496659242762\n"
     ]
    },
    {
     "data": {
      "image/png": "[encoded data removed]",
      "text/plain": [
       "<Figure size 432x432 with 2 Axes>"
      ]
     },
     "metadata": {
      "image/png": {
       "height": 357,
       "width": 364
      },
      "needs_background": "light"
     },
     "output_type": "display_data"
    }
   ],
   "source": [
    "from sklearn.metrics import accuracy_score,confusion_matrix\n",
    "\n",
    "# Prediction\n",
    "y_head = model(X_test)\n",
    "print(y_head[0])\n",
    "# Converting Prediction into labels\n",
    "y_pred = torch.max(y_head,1)[1]\n",
    "print(y_pred[0])\n",
    "\n",
    "# Accuracy score\n",
    "print(\"Model accuracy is \",accuracy_score(y_pred,Y_test))\n",
    "\n",
    "confusion_matrix = confusion_matrix(y_pred=y_pred,y_true=Y_test)\n",
    "\n",
    "fig,ax = plt.subplots(figsize=(6,6))\n",
    "sns.heatmap(confusion_matrix,annot=True,fmt=\"0.1f\",linewidths=1.5)\n",
    "plt.show()"
   ]
  }
 ],
 "metadata": {
  "interpreter": {
   "hash": "0843aa2147bb7b68e1331c060614b1ebfeaba0f0db744f4b489daeb337a1f0b2"
  },
  "kernelspec": {
   "display_name": "Python 3.8.3 64-bit",
   "language": "python",
   "name": "python3"
  },
  "language_info": {
   "codemirror_mode": {
    "name": "ipython",
    "version": 3
   },
   "file_extension": ".py",
   "mimetype": "text/x-python",
   "name": "python",
   "nbconvert_exporter": "python",
   "pygments_lexer": "ipython3",
   "version": "3.8.3"
  },
  "orig_nbformat": 4
 },
 "nbformat": 4,
 "nbformat_minor": 2
}
